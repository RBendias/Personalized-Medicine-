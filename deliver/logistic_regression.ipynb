{
 "cells": [
  {
   "cell_type": "markdown",
   "metadata": {},
   "source": [
    "## Imports"
   ]
  },
  {
   "cell_type": "code",
   "execution_count": 1,
   "metadata": {},
   "outputs": [
    {
     "name": "stderr",
     "output_type": "stream",
     "text": [
      "/home/ramona/anaconda3/lib/python3.6/site-packages/h5py/__init__.py:36: FutureWarning: Conversion of the second argument of issubdtype from `float` to `np.floating` is deprecated. In future, it will be treated as `np.float64 == np.dtype(float).type`.\n",
      "  from ._conv import register_converters as _register_converters\n",
      "Using TensorFlow backend.\n"
     ]
    }
   ],
   "source": [
    "import pickle\n",
    "import pandas as pd\n",
    "import numpy as np\n",
    "from imblearn.over_sampling import SMOTE, ADASYN\n",
    "from sklearn.linear_model import LogisticRegression\n",
    "from sklearn.model_selection import GridSearchCV\n",
    "from pprint import pprint\n",
    "from time import time\n",
    "import sys\n",
    "sys.path.append('/mnt/4_TB_HD/ramona/utils')\n",
    "from evaluation import evaluation_class\n",
    "from sklearn.preprocessing import LabelBinarizer\n",
    "import matplotlib.pyplot as plt\n",
    "import itertools\n",
    "\n",
    "from sklearn import metrics\n",
    "from sklearn.metrics import log_loss\n",
    "from sklearn.model_selection import train_test_split\n",
    "from sklearn.metrics import confusion_matrix\n",
    "from Read_data import read_data"
   ]
  },
  {
   "cell_type": "markdown",
   "metadata": {},
   "source": [
    "## Load features that are ready for classification"
   ]
  },
  {
   "cell_type": "code",
   "execution_count": 2,
   "metadata": {},
   "outputs": [],
   "source": [
    "path = '/mnt/4_TB_HD/ramona/utils/features/'\n",
    "dt = '18-06-01-18-19'\n",
    "X_train, Y_train, X_test, Y_test, Y_train_cateogorial, Y_test_cateogorial, stage2_transf, stage2_transf_filtered = read_data(dt)\n",
    "stage2test_classes = pd.read_pickle('/mnt/4_TB_HD/ramona/utils/stage2_data/stage2test_classes.sav')\n",
    "stage2_y = stage2test_classes['Class'].values"
   ]
  },
  {
   "cell_type": "code",
   "execution_count": 3,
   "metadata": {},
   "outputs": [
    {
     "name": "stdout",
     "output_type": "stream",
     "text": [
      "(3683, 400) (3683,)\n"
     ]
    }
   ],
   "source": [
    "# Use these for randomly chosen test set\n",
    "#X_stack=np.vstack([X_train,X_test,stage2_transf_filtered])\n",
    "#Y_stack=np.hstack([Y_train, Y_test,stage2_y])\n",
    "#x1, test, y1, ytest = train_test_split(X_stack, Y_stack, test_size=125)\n",
    "#print(x1.shape, y1.shape)\n",
    "\n",
    "#Use these for testing on stage 2\n",
    "X_stack = np.vstack([X_train,X_test])\n",
    "Y_stack = np.hstack([Y_train, Y_test])\n",
    "print(X_stack.shape, Y_stack.shape)"
   ]
  },
  {
   "cell_type": "markdown",
   "metadata": {},
   "source": [
    "### Oversampling"
   ]
  },
  {
   "cell_type": "code",
   "execution_count": 4,
   "metadata": {},
   "outputs": [
    {
     "name": "stdout",
     "output_type": "stream",
     "text": [
      "(9484, 400) (9484,)\n"
     ]
    }
   ],
   "source": [
    "#X_resampled, Y_resampled = ADASYN(ratio='auto', random_state=None, k=None, n_neighbors=5, n_jobs=1).fit_sample(x1, y1)\n",
    "X_resampled, Y_resampled = ADASYN(ratio='auto', random_state=None, k=None, n_neighbors=5, n_jobs=1).fit_sample(X_stack, Y_stack)\n",
    "print(X_resampled.shape, Y_resampled.shape)"
   ]
  },
  {
   "cell_type": "markdown",
   "metadata": {},
   "source": [
    "## Grid-search for Classifier"
   ]
  },
  {
   "cell_type": "code",
   "execution_count": 5,
   "metadata": {},
   "outputs": [],
   "source": [
    "clf = LogisticRegression()"
   ]
  },
  {
   "cell_type": "code",
   "execution_count": 6,
   "metadata": {},
   "outputs": [],
   "source": [
    "parameters = {\n",
    "    'tol':(1e-5,1e-4,1e-3),\n",
    "    'class_weight':(None, 'balanced'), \n",
    "    #'penalty': ('l1', 'l2'),\n",
    "    'solver': ('newton-cg', 'saga'), \n",
    "    'max_iter': (400, 1000),\n",
    "    #'multi_class': ('multinomial')\n",
    "}"
   ]
  },
  {
   "cell_type": "code",
   "execution_count": 7,
   "metadata": {},
   "outputs": [
    {
     "name": "stdout",
     "output_type": "stream",
     "text": [
      "Performing grid search...\n",
      "parameters:\n",
      "{'class_weight': (None, 'balanced'),\n",
      " 'max_iter': (400, 1000),\n",
      " 'solver': ('newton-cg', 'saga'),\n",
      " 'tol': (1e-05, 0.0001, 0.001)}\n",
      "Fitting 3 folds for each of 24 candidates, totalling 72 fits\n"
     ]
    },
    {
     "name": "stderr",
     "output_type": "stream",
     "text": [
      "[Parallel(n_jobs=12)]: Done  26 tasks      | elapsed:  1.4min\n",
      "[Parallel(n_jobs=12)]: Done  72 out of  72 | elapsed:  3.8min finished\n"
     ]
    },
    {
     "name": "stdout",
     "output_type": "stream",
     "text": [
      "done in 258.281s\n",
      "\n",
      "Best score: -1.263\n",
      "Best parameters set:\n",
      "\tclass_weight: 'balanced'\n",
      "\tmax_iter: 400\n",
      "\tsolver: 'saga'\n",
      "\ttol: 0.001\n",
      "Done!\n"
     ]
    }
   ],
   "source": [
    "grid_search = GridSearchCV(clf, param_grid = parameters, scoring = 'neg_log_loss', verbose = 1, n_jobs = 12)\n",
    "\n",
    "print(\"Performing grid search...\")\n",
    "print(\"parameters:\")\n",
    "pprint(parameters)\n",
    "t0 = time()\n",
    "\n",
    "#grid_search.fit(x1,y1.astype(str)) #For randomly chosen test set\n",
    "#grid_search.fit(X_stack,Y_stack.astype(str)) #For stage 2 test\n",
    "grid_search.fit(X_resampled, Y_resampled.astype(str)) #If oversampling has been performed\n",
    "\n",
    "print(\"done in %0.3fs\" % (time() - t0))\n",
    "print()\n",
    "\n",
    "print(\"Best score: %0.3f\" % grid_search.best_score_)\n",
    "print(\"Best parameters set:\")\n",
    "best_parameters = grid_search.best_estimator_.get_params()\n",
    "for param_name in sorted(parameters.keys()):\n",
    "    print(\"\\t%s: %r\" % (param_name, best_parameters[param_name]))\n",
    "print(\"Done!\")"
   ]
  },
  {
   "cell_type": "markdown",
   "metadata": {},
   "source": [
    "## Prediction on test set"
   ]
  },
  {
   "cell_type": "code",
   "execution_count": 8,
   "metadata": {},
   "outputs": [
    {
     "data": {
      "text/html": [
       "<div>\n",
       "<style scoped>\n",
       "    .dataframe tbody tr th:only-of-type {\n",
       "        vertical-align: middle;\n",
       "    }\n",
       "\n",
       "    .dataframe tbody tr th {\n",
       "        vertical-align: top;\n",
       "    }\n",
       "\n",
       "    .dataframe thead th {\n",
       "        text-align: right;\n",
       "    }\n",
       "</style>\n",
       "<table border=\"1\" class=\"dataframe\">\n",
       "  <thead>\n",
       "    <tr style=\"text-align: right;\">\n",
       "      <th></th>\n",
       "      <th>ID</th>\n",
       "      <th>Class</th>\n",
       "    </tr>\n",
       "  </thead>\n",
       "  <tbody>\n",
       "    <tr>\n",
       "      <th>0</th>\n",
       "      <td>8</td>\n",
       "      <td>4</td>\n",
       "    </tr>\n",
       "    <tr>\n",
       "      <th>1</th>\n",
       "      <td>15</td>\n",
       "      <td>9</td>\n",
       "    </tr>\n",
       "    <tr>\n",
       "      <th>2</th>\n",
       "      <td>16</td>\n",
       "      <td>8</td>\n",
       "    </tr>\n",
       "    <tr>\n",
       "      <th>3</th>\n",
       "      <td>18</td>\n",
       "      <td>2</td>\n",
       "    </tr>\n",
       "    <tr>\n",
       "      <th>4</th>\n",
       "      <td>19</td>\n",
       "      <td>2</td>\n",
       "    </tr>\n",
       "  </tbody>\n",
       "</table>\n",
       "</div>"
      ],
      "text/plain": [
       "   ID  Class\n",
       "0   8      4\n",
       "1  15      9\n",
       "2  16      8\n",
       "3  18      2\n",
       "4  19      2"
      ]
     },
     "execution_count": 8,
     "metadata": {},
     "output_type": "execute_result"
    }
   ],
   "source": [
    "stage2test_classes = pd.read_pickle('/mnt/4_TB_HD/ramona/utils/stage2_data/stage2test_classes.sav')\n",
    "stage2test_classes.head()"
   ]
  },
  {
   "cell_type": "code",
   "execution_count": 11,
   "metadata": {},
   "outputs": [
    {
     "name": "stdout",
     "output_type": "stream",
     "text": [
      "[0.33265858 0.20839746 0.03541292 0.03305565 0.01303237 0.34337259\n",
      " 0.02172793 0.00603768 0.00630483]\n"
     ]
    }
   ],
   "source": [
    "best_clf = grid_search.best_estimator_\n",
    "Y_pred = best_clf.predict_proba(stage2_transf_filtered) #For stage2 test, predict on the private leaderboard\n",
    "#Y_pred = best_clf.predict_proba(test) #For randomly chosen test\n",
    "\n",
    "stage2_pred = best_clf.predict_proba(stage2_transf)\n",
    "\n",
    "print(Y_pred[0])"
   ]
  },
  {
   "cell_type": "markdown",
   "metadata": {},
   "source": [
    "### Weighting the prediction"
   ]
  },
  {
   "cell_type": "code",
   "execution_count": 13,
   "metadata": {},
   "outputs": [
    {
     "data": {
      "text/plain": [
       "array([0.34376969, 0.21950857, 0.04652403, 0.04416676, 0.02414348,\n",
       "       0.3544837 , 0.03283904, 0.01714879, 0.01741595])"
      ]
     },
     "execution_count": 13,
     "metadata": {},
     "output_type": "execute_result"
    }
   ],
   "source": [
    "# Loading All fill 1/9 \n",
    "submission_all_1_over_9 = pd.read_csv('submissions/submission_sample_fullwith01111.csv')\n",
    "submission_all_1_over_9= submission_all_1_over_9.drop('ID', axis = 1).values[:125,:]\n",
    "\n",
    "#weighted average\n",
    "weighting = (10,1)\n",
    "pred_weighted_average = (Y_pred*weighting[0] +submission_all_1_over_9*weighting[1])/10\n",
    "pred_weighted_average[0]"
   ]
  },
  {
   "cell_type": "markdown",
   "metadata": {},
   "source": [
    "### Evaluation"
   ]
  },
  {
   "cell_type": "code",
   "execution_count": 14,
   "metadata": {},
   "outputs": [
    {
     "name": "stderr",
     "output_type": "stream",
     "text": [
      "/home/ramona/anaconda3/lib/python3.6/site-packages/sklearn/metrics/classification.py:1135: UndefinedMetricWarning: F-score is ill-defined and being set to 0.0 in labels with no predicted samples.\n",
      "  'precision', 'predicted', average, warn_for)\n"
     ]
    },
    {
     "name": "stdout",
     "output_type": "stream",
     "text": [
      "Accuracy: 0.216 Log loss: 2.088450627113722 F1 micro: 0.216 F1 macro: 0.11880167011449833\n"
     ]
    },
    {
     "data": {
      "image/png": "[encoded data removed]",
      "text/plain": [
       "<matplotlib.figure.Figure at 0x7f5b88c67518>"
      ]
     },
     "metadata": {},
     "output_type": "display_data"
    },
    {
     "data": {
      "image/png": "[encoded data removed]",
      "text/plain": [
       "<matplotlib.figure.Figure at 0x7f5b88c674e0>"
      ]
     },
     "metadata": {},
     "output_type": "display_data"
    },
    {
     "name": "stdout",
     "output_type": "stream",
     "text": [
      "one row with the evaluation data is appended at /mnt/4_TB_HD/ramona/develop/results.csv\n"
     ]
    }
   ],
   "source": [
    "ev = evaluation_class('full', model = best_clf, y_pred = pred_weighted_average, Y_test=stage2test_classes['Class'])\n",
    "#ev = evaluation_class('full', model = best_clf, y_pred = pred_weighted_average, Y_test=ytest)\n",
    "ev.entire_evaluation()"
   ]
  },
  {
   "cell_type": "markdown",
   "metadata": {},
   "source": [
    "## Save model"
   ]
  },
  {
   "cell_type": "code",
   "execution_count": 15,
   "metadata": {},
   "outputs": [],
   "source": [
    "filename = 'log_full_oversampled' + dt \n",
    "pickle.dump(best_clf, open( filename, \"wb\" ) )"
   ]
  },
  {
   "cell_type": "markdown",
   "metadata": {},
   "source": [
    "## Create kaggle submission"
   ]
  },
  {
   "cell_type": "code",
   "execution_count": 17,
   "metadata": {},
   "outputs": [
    {
     "data": {
      "text/plain": [
       "(986, 10)"
      ]
     },
     "execution_count": 17,
     "metadata": {},
     "output_type": "execute_result"
    }
   ],
   "source": [
    "# Loading All fill 1/9 \n",
    "submission_all_1_over_9 = pd.read_csv('submissions/submission_sample_fullwith01111.csv')\n",
    "submission_all_1_over_9= submission_all_1_over_9.drop('ID', axis = 1).values\n",
    "index = np.arange(1,987)\n",
    "\n",
    "#weighted average\n",
    "weighting = (10,1)\n",
    "submission_weighted_average = (stage2_pred*weighting[0] +submission_all_1_over_9*weighting[1])/10\n",
    "\n",
    "# transforming the weighted average into the right format and save it in submissions\n",
    "submission_weighted_average = pd.DataFrame(submission_weighted_average, columns=['class'+str(c+1) for c in range(9)])\n",
    "submission_weighted_average['ID'] = index\n",
    "submission_weighted_average.to_csv('submissions/submission_logistic_regression_weighted_average'+str(weighting) + '.csv', index=False)\n",
    "submission_weighted_average.shape"
   ]
  }
 ],
 "metadata": {
  "kernelspec": {
   "display_name": "Python 3",
   "language": "python",
   "name": "python3"
  },
  "language_info": {
   "codemirror_mode": {
    "name": "ipython",
    "version": 3
   },
   "file_extension": ".py",
   "mimetype": "text/x-python",
   "name": "python",
   "nbconvert_exporter": "python",
   "pygments_lexer": "ipython3",
   "version": "3.6.4"
  }
 },
 "nbformat": 4,
 "nbformat_minor": 2
}
