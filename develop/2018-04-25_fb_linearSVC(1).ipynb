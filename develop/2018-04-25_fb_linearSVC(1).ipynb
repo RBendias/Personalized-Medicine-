{
 "cells": [
  {
   "cell_type": "markdown",
   "metadata": {},
   "source": [
    "## Imports"
   ]
  },
  {
   "cell_type": "code",
   "execution_count": 1,
   "metadata": {},
   "outputs": [
    {
     "name": "stderr",
     "output_type": "stream",
     "text": [
      "/home/ramona/anaconda3/lib/python3.6/site-packages/h5py/__init__.py:36: FutureWarning: Conversion of the second argument of issubdtype from `float` to `np.floating` is deprecated. In future, it will be treated as `np.float64 == np.dtype(float).type`.\n",
      "  from ._conv import register_converters as _register_converters\n",
      "Using TensorFlow backend.\n"
     ]
    }
   ],
   "source": [
    "import pickle\n",
    "import pandas as pd\n",
    "import numpy as np\n",
    "from imblearn.over_sampling import SMOTE, ADASYN\n",
    "from sklearn import svm\n",
    "from sklearn.model_selection import GridSearchCV\n",
    "from pprint import pprint\n",
    "from time import time\n",
    "import sys\n",
    "sys.path.append('/mnt/4_TB_HD/ramona/utils')\n",
    "from evaluation import evaluation_class\n",
    "from sklearn.preprocessing import LabelBinarizer\n",
    "import itertools\n",
    "\n",
    "from sklearn import metrics\n",
    "from sklearn.metrics import log_loss\n",
    "from sklearn.model_selection import train_test_split\n",
    "from Read_data import read_data"
   ]
  },
  {
   "cell_type": "markdown",
   "metadata": {},
   "source": [
    "## Load features that are ready for classification"
   ]
  },
  {
   "cell_type": "code",
   "execution_count": 2,
   "metadata": {},
   "outputs": [],
   "source": [
    "path = '/mnt/4_TB_HD/ramona/utils/features/'\n",
    "dt = '18-06-01-16-00'\n",
    "X_train, Y_train, X_test, Y_test, Y_train_cateogorial, Y_test_cateogorial, stage2_transf, stage2_transf_filtered = read_data(dt)\n",
    "stage2test_classes = pd.read_pickle('/mnt/4_TB_HD/ramona/utils/stage2_data/stage2test_classes.sav')\n",
    "stage2_y = stage2test_classes['Class'].values"
   ]
  },
  {
   "cell_type": "code",
   "execution_count": 3,
   "metadata": {},
   "outputs": [
    {
     "name": "stdout",
     "output_type": "stream",
     "text": [
      "(3683, 426) (3683,)\n"
     ]
    }
   ],
   "source": [
    "# Use these for randomly chosen test set\n",
    "#X_stack=np.vstack([X_train,X_test,stage2_transf_filtered])\n",
    "#Y_stack=np.hstack([Y_train, Y_test,stage2_y])\n",
    "#x1, test, y1, ytest = train_test_split(X_stack, Y_stack, test_size=125)\n",
    "#print(x1.shape, y1.shape)\n",
    "\n",
    "#Use these for testing on stage 2\n",
    "X_stack = np.vstack([X_train,X_test])\n",
    "Y_stack = np.hstack([Y_train, Y_test])\n",
    "print(X_stack.shape, Y_stack.shape)"
   ]
  },
  {
   "cell_type": "code",
   "execution_count": 4,
   "metadata": {},
   "outputs": [
    {
     "name": "stdout",
     "output_type": "stream",
     "text": [
      "(9494, 426) (9494,)\n"
     ]
    }
   ],
   "source": [
    "#X_resampled, Y_resampled = ADASYN(ratio='auto', random_state=None, k=None, n_neighbors=5, n_jobs=1).fit_sample(x1, y1)\n",
    "X_resampled, Y_resampled = ADASYN(ratio='auto', random_state=None, k=None, n_neighbors=5, n_jobs=1).fit_sample(X_stack, Y_stack)\n",
    "print(X_resampled.shape, Y_resampled.shape)"
   ]
  },
  {
   "cell_type": "markdown",
   "metadata": {},
   "source": [
    "## Grid-search for Classifier"
   ]
  },
  {
   "cell_type": "code",
   "execution_count": 5,
   "metadata": {},
   "outputs": [],
   "source": [
    "clf = svm.LinearSVC()"
   ]
  },
  {
   "cell_type": "code",
   "execution_count": 6,
   "metadata": {},
   "outputs": [],
   "source": [
    "parameters = {\n",
    "    'tol':(1e-5,1e-4,1e-3),\n",
    "    #'dual':(True, False),\n",
    "    'C':(0.5, 1),\n",
    "    'class_weight':(None, 'balanced'), \n",
    "    #'penalty': ('l1', 'l2'),\n",
    "    #'solver': ('newton-cg', 'saga'), \n",
    "    'max_iter': (800, 1000, 1500),\n",
    "    #'loss': ('hinge', 'squared-hinge')\n",
    "}"
   ]
  },
  {
   "cell_type": "code",
   "execution_count": 8,
   "metadata": {},
   "outputs": [
    {
     "name": "stdout",
     "output_type": "stream",
     "text": [
      "Performing grid search...\n",
      "parameters:\n",
      "{'C': (0.5, 1),\n",
      " 'class_weight': (None, 'balanced'),\n",
      " 'max_iter': (800, 1000, 1500),\n",
      " 'tol': (1e-05, 0.0001, 0.001)}\n",
      "Fitting 3 folds for each of 36 candidates, totalling 108 fits\n"
     ]
    },
    {
     "name": "stderr",
     "output_type": "stream",
     "text": [
      "[Parallel(n_jobs=8)]: Done  34 tasks      | elapsed:   12.6s\n",
      "[Parallel(n_jobs=8)]: Done 108 out of 108 | elapsed:   46.4s finished\n"
     ]
    },
    {
     "name": "stdout",
     "output_type": "stream",
     "text": [
      "done in 52.182s\n",
      "\n",
      "Best score: 0.732\n",
      "Best parameters set:\n",
      "\tC: 1\n",
      "\tclass_weight: 'balanced'\n",
      "\tmax_iter: 800\n",
      "\ttol: 1e-05\n",
      "Done!\n"
     ]
    }
   ],
   "source": [
    "grid_search = GridSearchCV(clf, param_grid=parameters, scoring ='accuracy', verbose=1, n_jobs=8)\n",
    "\n",
    "print(\"Performing grid search...\")\n",
    "print(\"parameters:\")\n",
    "pprint(parameters)\n",
    "t0 = time()\n",
    "#grid_search.fit(x1,y1.astype(str)) #For randomly chosen test set\n",
    "#grid_search.fit(X_stack,Y_stack.astype(str)) #For stage 2 test\n",
    "grid_search.fit(X_resampled, Y_resampled.astype(str)) #If oversampling has been performed\n",
    "\n",
    "\n",
    "print(\"done in %0.3fs\" % (time() - t0))\n",
    "print()\n",
    "\n",
    "print(\"Best score: %0.3f\" % grid_search.best_score_)\n",
    "print(\"Best parameters set:\")\n",
    "best_parameters = grid_search.best_estimator_.get_params()\n",
    "for param_name in sorted(parameters.keys()):\n",
    "    print(\"\\t%s: %r\" % (param_name, best_parameters[param_name]))\n",
    "print(\"Done!\")"
   ]
  },
  {
   "cell_type": "markdown",
   "metadata": {},
   "source": [
    "## Evaluation"
   ]
  },
  {
   "cell_type": "code",
   "execution_count": 9,
   "metadata": {},
   "outputs": [
    {
     "data": {
      "text/html": [
       "<div>\n",
       "<style scoped>\n",
       "    .dataframe tbody tr th:only-of-type {\n",
       "        vertical-align: middle;\n",
       "    }\n",
       "\n",
       "    .dataframe tbody tr th {\n",
       "        vertical-align: top;\n",
       "    }\n",
       "\n",
       "    .dataframe thead th {\n",
       "        text-align: right;\n",
       "    }\n",
       "</style>\n",
       "<table border=\"1\" class=\"dataframe\">\n",
       "  <thead>\n",
       "    <tr style=\"text-align: right;\">\n",
       "      <th></th>\n",
       "      <th>ID</th>\n",
       "      <th>Class</th>\n",
       "    </tr>\n",
       "  </thead>\n",
       "  <tbody>\n",
       "    <tr>\n",
       "      <th>0</th>\n",
       "      <td>8</td>\n",
       "      <td>4</td>\n",
       "    </tr>\n",
       "    <tr>\n",
       "      <th>1</th>\n",
       "      <td>15</td>\n",
       "      <td>9</td>\n",
       "    </tr>\n",
       "    <tr>\n",
       "      <th>2</th>\n",
       "      <td>16</td>\n",
       "      <td>8</td>\n",
       "    </tr>\n",
       "    <tr>\n",
       "      <th>3</th>\n",
       "      <td>18</td>\n",
       "      <td>2</td>\n",
       "    </tr>\n",
       "    <tr>\n",
       "      <th>4</th>\n",
       "      <td>19</td>\n",
       "      <td>2</td>\n",
       "    </tr>\n",
       "  </tbody>\n",
       "</table>\n",
       "</div>"
      ],
      "text/plain": [
       "   ID  Class\n",
       "0   8      4\n",
       "1  15      9\n",
       "2  16      8\n",
       "3  18      2\n",
       "4  19      2"
      ]
     },
     "execution_count": 9,
     "metadata": {},
     "output_type": "execute_result"
    }
   ],
   "source": [
    "stage2test_classes = pd.read_pickle('/mnt/4_TB_HD/ramona/utils/stage2_data/stage2test_classes.sav')\n",
    "stage2test_classes.head()"
   ]
  },
  {
   "cell_type": "code",
   "execution_count": 10,
   "metadata": {},
   "outputs": [
    {
     "name": "stdout",
     "output_type": "stream",
     "text": [
      "['2' '6' '2' '7' '2']\n"
     ]
    }
   ],
   "source": [
    "best_clf = grid_search.best_estimator_\n",
    "Y_pred = best_clf.predict(stage2_transf_filtered) #For stage2 test, predict on the private leaderboard\n",
    "#Y_pred=best_clf.predict(test) #For randomly chosen test\n",
    "print(Y_pred[0:5])\n"
   ]
  },
  {
   "cell_type": "code",
   "execution_count": 12,
   "metadata": {},
   "outputs": [
    {
     "name": "stdout",
     "output_type": "stream",
     "text": [
      "Accuracy: 0.288 Log loss: 24.591608793176416 F1 micro: 0.288 F1 macro: 0.13078032926310673\n"
     ]
    },
    {
     "data": {
      "image/png": "[encoded data removed]",
      "text/plain": [
       "<matplotlib.figure.Figure at 0x7fb697007c50>"
      ]
     },
     "metadata": {},
     "output_type": "display_data"
    },
    {
     "data": {
      "image/png": "[encoded data removed]",
      "text/plain": [
       "<matplotlib.figure.Figure at 0x7fb6970139e8>"
      ]
     },
     "metadata": {},
     "output_type": "display_data"
    },
    {
     "name": "stdout",
     "output_type": "stream",
     "text": [
      "one row with the evaluation data is appended at /mnt/4_TB_HD/ramona/develop/results.csv\n"
     ]
    }
   ],
   "source": [
    "ev = evaluation_class(400, model= best_clf, y_pred=Y_pred, Y_test=stage2test_classes['Class']) #For stage2 test\n",
    "#ev = evaluation_class(400,model= best_clf, y_pred=Y_pred, Y_test=ytest) #For randomly chosen test\n",
    "ev.entire_evaluation()"
   ]
  },
  {
   "cell_type": "markdown",
   "metadata": {},
   "source": [
    "## Save classifier"
   ]
  },
  {
   "cell_type": "code",
   "execution_count": 13,
   "metadata": {},
   "outputs": [],
   "source": [
    "filename = 'l-svc400-180601merged'\n",
    "pickle.dump(best_clf, open( filename, \"wb\" ))"
   ]
  },
  {
   "cell_type": "markdown",
   "metadata": {},
   "source": [
    "## Create submission for kaggle"
   ]
  },
  {
   "cell_type": "code",
   "execution_count": 14,
   "metadata": {},
   "outputs": [
    {
     "name": "stdout",
     "output_type": "stream",
     "text": [
      "dim is 1\n",
      "   ID  class1  class2  class3  class4  class5  class6  class7  class8  class9\n",
      "0   1     0.0     1.0     0.0     0.0     0.0     0.0     0.0     0.0     0.0\n",
      "1   2     0.0     0.0     0.0     0.0     0.0     1.0     0.0     0.0     0.0\n",
      "2   3     0.0     1.0     0.0     0.0     0.0     0.0     0.0     0.0     0.0\n",
      "3   4     0.0     0.0     0.0     0.0     0.0     0.0     1.0     0.0     0.0\n",
      "4   5     0.0     1.0     0.0     0.0     0.0     0.0     0.0     0.0     0.0\n",
      "5   6     0.0     0.0     0.0     0.0     1.0     0.0     0.0     0.0     0.0\n",
      "6   7     0.0     1.0     0.0     0.0     0.0     0.0     0.0     0.0     0.0\n",
      "7   8     0.0     0.0     0.0     0.0     0.0     0.0     1.0     0.0     0.0\n",
      "8   9     0.0     1.0     0.0     0.0     0.0     0.0     0.0     0.0     0.0\n"
     ]
    }
   ],
   "source": [
    "stage2_test = pd.read_pickle('/mnt/4_TB_HD/ramona/utils/stage2_data/stage2test_full.sav')\n",
    "pid = stage2_test.index.values\n",
    "pid = np.apply_along_axis(lambda x : x+1, axis=0, arr=pid)\n",
    "#print(pid.shape)\n",
    "lb = LabelBinarizer()\n",
    "lb.fit([1,2,3,4,5,6,7,8,9])\n",
    "submissionid = pd.DataFrame(pid)\n",
    "submissionid.columns = ['ID']\n",
    "if Y_pred.ndim == 1:\n",
    "    print('dim is 1')\n",
    "    Y_pred = Y_pred.astype(int)\n",
    "    Y_pred_indicator_matrix = lb.transform(Y_pred)\n",
    "submission = pd.DataFrame(Y_pred_indicator_matrix)\n",
    "submission.columns = ['class1','class2','class3','class4','class5','class6','class7','class8','class9']\n",
    "submission2=submissionid.join(submission)\n",
    "print(submission2.head(9))"
   ]
  },
  {
   "cell_type": "code",
   "execution_count": 15,
   "metadata": {},
   "outputs": [],
   "source": [
    "submission2.to_csv('submission170603.csv', index=False)"
   ]
  }
 ],
 "metadata": {
  "kernelspec": {
   "display_name": "Python 3",
   "language": "python",
   "name": "python3"
  },
  "language_info": {
   "codemirror_mode": {
    "name": "ipython",
    "version": 3
   },
   "file_extension": ".py",
   "mimetype": "text/x-python",
   "name": "python",
   "nbconvert_exporter": "python",
   "pygments_lexer": "ipython3",
   "version": "3.6.4"
  }
 },
 "nbformat": 4,
 "nbformat_minor": 2
}
