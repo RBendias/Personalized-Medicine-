{
 "cells": [
  {
   "cell_type": "markdown",
   "metadata": {},
   "source": [
    "# Training with Keras\n"
   ]
  },
  {
   "cell_type": "markdown",
   "metadata": {},
   "source": [
    "**In this notebook:**\n",
    "* training feedforward neural network\n",
    "* test model on test data set\n",
    "* save prediction in Kaggle submission format\n",
    "\n",
    "**Key insights:**\n",
    "* reaching logloss of 1.95 \n",
    "* weighting submission improves results"
   ]
  },
  {
   "cell_type": "markdown",
   "metadata": {},
   "source": [
    "## Imports"
   ]
  },
  {
   "cell_type": "code",
   "execution_count": 4,
   "metadata": {
    "ExecuteTime": {
     "end_time": "2020-11-11T21:29:16.367178Z",
     "start_time": "2020-11-11T21:29:15.866182Z"
    }
   },
   "outputs": [
    {
     "name": "stdout",
     "output_type": "stream",
     "text": [
      "The autoreload extension is already loaded. To reload it, use:\n",
      "  %reload_ext autoreload\n"
     ]
    }
   ],
   "source": [
    "%load_ext autoreload\n",
    "%autoreload 2\n",
    "\n",
    "import sys\n",
    "import os\n",
    "\n",
    "import numpy as np\n",
    "import pandas as pd\n",
    "import matplotlib.pyplot as plt\n",
    "import datetime\n",
    "\n",
    "from imblearn.over_sampling import ADASYN\n",
    "from sklearn.preprocessing import OneHotEncoder\n",
    "\n",
    "sys.path.append('../utils/')\n",
    "from evaluation import Evaluation\n",
    "from keras.models import Sequential\n",
    "from keras.layers import Dense\n",
    "from keras_models import baseline_model\n"
   ]
  },
  {
   "cell_type": "markdown",
   "metadata": {},
   "source": [
    "## Load Data"
   ]
  },
  {
   "cell_type": "code",
   "execution_count": 5,
   "metadata": {
    "ExecuteTime": {
     "end_time": "2020-11-11T21:29:17.757632Z",
     "start_time": "2020-11-11T21:29:17.588839Z"
    }
   },
   "outputs": [
    {
     "name": "stdout",
     "output_type": "stream",
     "text": [
      "Training Data Shape: (3683, 111)\n",
      "Test Data Shape:     (125, 111)\n"
     ]
    }
   ],
   "source": [
    "data_path = \"../../data/msk-redefining-cancer-treatment\"\n",
    "x_train = np.load(os.path.join(data_path, \"processed/x_train_shuffled.npy\"))\n",
    "y_train = np.load(os.path.join(data_path, \"processed/y_train_shuffled.npy\"))\n",
    "x_test = np.load(os.path.join(data_path, \"processed/x_test_shuffled.npy\"))\n",
    "y_test = np.load(os.path.join(data_path, \"processed/y_test_shuffled.npy\"))\n",
    "print(\"Training Data Shape:\".ljust(20), x_train.shape)\n",
    "print(\"Test Data Shape:\".ljust(20), x_test.shape)"
   ]
  },
  {
   "cell_type": "markdown",
   "metadata": {},
   "source": [
    "## Prepare Data"
   ]
  },
  {
   "cell_type": "code",
   "execution_count": 6,
   "metadata": {
    "ExecuteTime": {
     "end_time": "2020-11-11T21:29:21.631510Z",
     "start_time": "2020-11-11T21:29:18.877357Z"
    }
   },
   "outputs": [
    {
     "name": "stdout",
     "output_type": "stream",
     "text": [
      "Training Data Shape after Oversampling: (9447, 111)\n"
     ]
    },
    {
     "data": {
      "text/plain": [
       "<BarContainer object of 9 artists>"
      ]
     },
     "execution_count": 6,
     "metadata": {},
     "output_type": "execute_result"
    },
    {
     "data": {
      "image/png": "[encoded data removed]",
      "text/plain": [
       "<Figure size 432x288 with 1 Axes>"
      ]
     },
     "metadata": {
      "needs_background": "light"
     },
     "output_type": "display_data"
    }
   ],
   "source": [
    "#Oversampling\n",
    "x_train, y_train = ADASYN(sampling_strategy='auto').fit_sample(x_train,y_train)\n",
    "print(\"Training Data Shape after Oversampling:\", x_train.shape)\n",
    "plt.title('Distribution of labels after oversampling')\n",
    "plt.xlabel('Labels')\n",
    "plt.ylabel('Numbers of samples per class')\n",
    "plt.bar(np.unique(y_train, return_counts=True)[0], np.unique(y_train, return_counts=True)[1])"
   ]
  },
  {
   "cell_type": "code",
   "execution_count": 7,
   "metadata": {
    "ExecuteTime": {
     "end_time": "2020-11-11T21:29:21.729964Z",
     "start_time": "2020-11-11T21:29:21.635279Z"
    }
   },
   "outputs": [
    {
     "name": "stdout",
     "output_type": "stream",
     "text": [
      "Labels:  [-1  0  1  2  3  4  5  6  7]\n"
     ]
    }
   ],
   "source": [
    "# label -> one-hot encoding\n",
    "encoder = OneHotEncoder()\n",
    "y_train = y_train - 1  # new labels 0,1,...8\n",
    "y_train = encoder.fit_transform((y_train.reshape(-1, 1)))\n",
    "print('Labels: ', encoder.categories_[0])\n",
    "y_test = y_test - 1\n",
    "y_test = encoder.transform((y_test.reshape(-1, 1)))"
   ]
  },
  {
   "cell_type": "markdown",
   "metadata": {},
   "source": [
    "## Training the Model and Predicting the Ytest"
   ]
  },
  {
   "cell_type": "code",
   "execution_count": 8,
   "metadata": {
    "ExecuteTime": {
     "end_time": "2020-11-11T21:29:22.899533Z",
     "start_time": "2020-11-11T21:29:22.645063Z"
    }
   },
   "outputs": [
    {
     "name": "stdout",
     "output_type": "stream",
     "text": [
      "Model: \"sequential_2\"\n",
      "_________________________________________________________________\n",
      "Layer (type)                 Output Shape              Param #   \n",
      "=================================================================\n",
      "dense_4 (Dense)              (None, 12)                1332      \n",
      "_________________________________________________________________\n",
      "dense_5 (Dense)              (None, 12)                156       \n",
      "_________________________________________________________________\n",
      "dense_6 (Dense)              (None, 9)                 117       \n",
      "=================================================================\n",
      "Total params: 1,605\n",
      "Trainable params: 1,605\n",
      "Non-trainable params: 0\n",
      "_________________________________________________________________\n"
     ]
    },
    {
     "ename": "NameError",
     "evalue": "name 'X_resampled' is not defined",
     "output_type": "error",
     "traceback": [
      "\u001b[0;31m---------------------------------------------------------------------------\u001b[0m",
      "\u001b[0;31mNameError\u001b[0m                                 Traceback (most recent call last)",
      "\u001b[0;32m<ipython-input-8-d8114a551443>\u001b[0m in \u001b[0;36m<module>\u001b[0;34m\u001b[0m\n\u001b[1;32m      5\u001b[0m \u001b[0;34m\u001b[0m\u001b[0m\n\u001b[1;32m      6\u001b[0m \u001b[0;34m\u001b[0m\u001b[0m\n\u001b[0;32m----> 7\u001b[0;31m \u001b[0mestimator\u001b[0m\u001b[0;34m=\u001b[0m\u001b[0mmodel\u001b[0m\u001b[0;34m.\u001b[0m\u001b[0mfit\u001b[0m\u001b[0;34m(\u001b[0m\u001b[0mX_resampled\u001b[0m\u001b[0;34m,\u001b[0m\u001b[0mY_train_cateogorial\u001b[0m\u001b[0;34m,\u001b[0m \u001b[0mepochs\u001b[0m\u001b[0;34m=\u001b[0m\u001b[0;36m12\u001b[0m\u001b[0;34m,\u001b[0m \u001b[0mbatch_size\u001b[0m\u001b[0;34m=\u001b[0m\u001b[0;36m64\u001b[0m\u001b[0;34m,\u001b[0m \u001b[0mvalidation_split\u001b[0m\u001b[0;34m=\u001b[0m\u001b[0;36m0.05\u001b[0m\u001b[0;34m)\u001b[0m\u001b[0;34m\u001b[0m\u001b[0;34m\u001b[0m\u001b[0m\n\u001b[0m",
      "\u001b[0;31mNameError\u001b[0m: name 'X_resampled' is not defined"
     ]
    }
   ],
   "source": [
    "modeltime = datetime.datetime.now().strftime(\"%y-%m-%d-%H-%M\")\n",
    "\n",
    "model = baseline_model()\n",
    "model.summary()\n",
    "\n",
    "\n",
    "estimator=model.fit(X_resampled,Y_train_cateogorial, epochs=12, batch_size=64, validation_split=0.05)"
   ]
  },
  {
   "cell_type": "code",
   "execution_count": 108,
   "metadata": {},
   "outputs": [],
   "source": [
    "model.model.save('models/keras_'+modeltime+'.h5')\n",
    "pred = model.predict_proba(X_test)"
   ]
  },
  {
   "cell_type": "code",
   "execution_count": 110,
   "metadata": {},
   "outputs": [
    {
     "data": {
      "text/plain": [
       "'18-06-04-15-38'"
      ]
     },
     "execution_count": 110,
     "metadata": {},
     "output_type": "execute_result"
    }
   ],
   "source": [
    "modeltime"
   ]
  },
  {
   "cell_type": "code",
   "execution_count": 109,
   "metadata": {},
   "outputs": [],
   "source": [
    "# Transform into submission format\n",
    "submission = pd.DataFrame(pred, columns=['class'+str(c+1) for c in range(9)])\n",
    "submission['ID'] = np.arange(1,987)\n",
    "# Save submission without weighting\n",
    "submission.to_csv('submissions/submission_keras_' + modeltime +'.csv', index=False)"
   ]
  },
  {
   "cell_type": "markdown",
   "metadata": {},
   "source": [
    "# Weighting Predictions"
   ]
  },
  {
   "cell_type": "markdown",
   "metadata": {},
   "source": [
    "Inspired by another notebook we weighted our results. "
   ]
  },
  {
   "cell_type": "code",
   "execution_count": 111,
   "metadata": {},
   "outputs": [
    {
     "name": "stdout",
     "output_type": "stream",
     "text": [
      "(986, 9)\n"
     ]
    }
   ],
   "source": [
    "all_1_over_9 = pd.read_csv(os.path.join(data_path, \"external/submission_1_over_9.csv\"))\n",
    "all_1_over_9 = all_1_over_9.drop(\"ID\", axis=1)\n",
    "\n",
    "# weighted average\n",
    "weighting = (6, 4)\n",
    "submission_wighted = (preds_proba * weighting[0] + all_1_over_9 * weighting[1]) / 10\n",
    "print(submission_wighted.shape)"
   ]
  },
  {
   "cell_type": "markdown",
   "metadata": {},
   "source": [
    "# Private Leaderbord Evaluation "
   ]
  },
  {
   "cell_type": "code",
   "execution_count": 112,
   "metadata": {
    "code_folding": []
   },
   "outputs": [
    {
     "name": "stdout",
     "output_type": "stream",
     "text": [
      "[[0.08330638 0.16833387 0.11551378 ... 0.20163858 0.0788776  0.06191207]\n",
      " [0.44638036 0.05083759 0.04991878 ... 0.05253161 0.04446169 0.07124815]\n",
      " [0.17557488 0.12543616 0.08447638 ... 0.11200498 0.04524772 0.05075913]\n",
      " ...\n",
      " [0.06188082 0.13053432 0.10330038 ... 0.19086217 0.16039777 0.06538364]\n",
      " [0.1962643  0.08502063 0.1009356  ... 0.08546484 0.04469169 0.04820848]\n",
      " [0.07385273 0.19659456 0.07601938 ... 0.23755963 0.09965902 0.06866971]]\n"
     ]
    }
   ],
   "source": [
    "print(submission_wighted)\n",
    "ids = pd.read_csv(os.path.join(data_path, \"raw/stage_2_private_solution.csv\")).ID.tolist()\n",
    "pred = np.take(submission_wighted,(list(ids-1)), axis =0)  "
   ]
  },
  {
   "cell_type": "code",
   "execution_count": 113,
   "metadata": {},
   "outputs": [
    {
     "name": "stderr",
     "output_type": "stream",
     "text": [
      "/home/ramona/anaconda3/lib/python3.6/site-packages/sklearn/metrics/classification.py:1135: UndefinedMetricWarning: F-score is ill-defined and being set to 0.0 in labels with no predicted samples.\n",
      "  'precision', 'predicted', average, warn_for)\n"
     ]
    },
    {
     "name": "stdout",
     "output_type": "stream",
     "text": [
      "Accuracy: 0.28 Log loss: 1.9599735417729978 F1 micro: 0.28 F1 macro: 0.13984237507202857\n"
     ]
    },
    {
     "data": {
      "image/png": "[encoded data removed]",
      "text/plain": [
       "<matplotlib.figure.Figure at 0x7fb14b8ae710>"
      ]
     },
     "metadata": {},
     "output_type": "display_data"
    },
    {
     "data": {
      "image/png": "[encoded data removed]",
      "text/plain": [
       "<matplotlib.figure.Figure at 0x7fb14b8aeac8>"
      ]
     },
     "metadata": {},
     "output_type": "display_data"
    },
    {
     "name": "stdout",
     "output_type": "stream",
     "text": [
      "one row with the evaluation data is appended at /mnt/4_TB_HD/ramona/develop/results.csv\n"
     ]
    }
   ],
   "source": [
    "ev = Evaluation(y_pred=submission_wighted, y_test=y_test)\n",
    "ev.entire_evaluation()"
   ]
  },
  {
   "cell_type": "markdown",
   "metadata": {},
   "source": [
    "# Save Submission"
   ]
  },
  {
   "cell_type": "code",
   "execution_count": null,
   "metadata": {},
   "outputs": [],
   "source": [
    "# transform weighted average into kaggle format\n",
    "submission_wighted = pd.DataFrame(\n",
    "    submission_wighted, columns=[\"class\" + str(c + 1) for c in range(9)]\n",
    ")\n",
    "submission_wighted[\"ID\"] = np.arange(1, 987)\n",
    "\n",
    "# save submission\n",
    "submission_wighted.to_csv(\n",
    "    \"submissions/submission_catboost_wighted\"\n",
    "    + str(weighting)\n",
    "    + \"_\"\n",
    "    + modeltime\n",
    "    + \".csv\",\n",
    "    index=False,\n",
    ")"
   ]
  }
 ],
 "metadata": {
  "kernelspec": {
   "display_name": "Python 3",
   "language": "python",
   "name": "python3"
  },
  "language_info": {
   "codemirror_mode": {
    "name": "ipython",
    "version": 3
   },
   "file_extension": ".py",
   "mimetype": "text/x-python",
   "name": "python",
   "nbconvert_exporter": "python",
   "pygments_lexer": "ipython3",
   "version": "3.7.6"
  },
  "toc": {
   "base_numbering": 1,
   "nav_menu": {},
   "number_sections": false,
   "sideBar": true,
   "skip_h1_title": false,
   "title_cell": "Table of Contents",
   "title_sidebar": "Contents",
   "toc_cell": false,
   "toc_position": {},
   "toc_section_display": true,
   "toc_window_display": false
  }
 },
 "nbformat": 4,
 "nbformat_minor": 2
}
