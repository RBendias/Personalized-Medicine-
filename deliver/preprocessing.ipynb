{
 "cells": [
  {
   "cell_type": "markdown",
   "metadata": {},
   "source": [
    "# Preprocessing "
   ]
  },
  {
   "cell_type": "markdown",
   "metadata": {},
   "source": [
    "**In this notebook:**\n",
    "* Loading raw text and variation data \n",
    "* Adding features such as physiochemical distance (Grantham, 1974) \n",
    "* Vectorization of the data\n",
    "* Dimensionality reduction\n",
    "* Saving the features"
   ]
  },
  {
   "cell_type": "markdown",
   "metadata": {},
   "source": [
    "## Imports"
   ]
  },
  {
   "cell_type": "code",
   "execution_count": 1,
   "metadata": {
    "ExecuteTime": {
     "end_time": "2020-11-11T20:20:28.950437Z",
     "start_time": "2020-11-11T20:20:27.535724Z"
    }
   },
   "outputs": [],
   "source": [
    "import os\n",
    "import pandas as pd\n",
    "import sys\n",
    "\n",
    "sys.path.append(\"../utils/\")\n",
    "from preprocessing import *\n",
    "from numpy import save"
   ]
  },
  {
   "cell_type": "code",
   "execution_count": 2,
   "metadata": {
    "ExecuteTime": {
     "end_time": "2020-11-11T20:20:29.052431Z",
     "start_time": "2020-11-11T20:20:28.958333Z"
    }
   },
   "outputs": [],
   "source": [
    "from sklearn.pipeline import Pipeline, FeatureUnion\n",
    "from sklearn.feature_extraction.text import CountVectorizer, TfidfVectorizer\n",
    "from sklearn.decomposition import TruncatedSVD\n",
    "from sklearn.preprocessing import LabelEncoder, MinMaxScaler"
   ]
  },
  {
   "cell_type": "code",
   "execution_count": 3,
   "metadata": {
    "ExecuteTime": {
     "end_time": "2020-11-11T20:20:29.065992Z",
     "start_time": "2020-11-11T20:20:29.056834Z"
    }
   },
   "outputs": [],
   "source": [
    "data_path = \"../../data/msk-redefining-cancer-treatment\""
   ]
  },
  {
   "cell_type": "markdown",
   "metadata": {},
   "source": [
    "## Load Data"
   ]
  },
  {
   "cell_type": "markdown",
   "metadata": {},
   "source": [
    "### Training Data - Text and Genetic Variants Information"
   ]
  },
  {
   "cell_type": "code",
   "execution_count": 4,
   "metadata": {
    "ExecuteTime": {
     "end_time": "2020-11-11T20:20:34.088444Z",
     "start_time": "2020-11-11T20:20:32.018341Z"
    }
   },
   "outputs": [
    {
     "name": "stdout",
     "output_type": "stream",
     "text": [
      "Number of Training Samples 3316\n"
     ]
    }
   ],
   "source": [
    "training_merge_df = get_data(\n",
    "    text_file_path=\"raw/training_text\", variants_file_path=\"raw/training_variants\"\n",
    ")\n",
    "training_size = training_merge_df.shape[0]\n",
    "print(\"Number of Training Samples\", training_size)"
   ]
  },
  {
   "cell_type": "markdown",
   "metadata": {},
   "source": [
    "### Validation Data - Text and Genetic Variants Information"
   ]
  },
  {
   "cell_type": "code",
   "execution_count": 5,
   "metadata": {
    "ExecuteTime": {
     "end_time": "2020-11-11T20:20:37.496318Z",
     "start_time": "2020-11-11T20:20:34.093924Z"
    }
   },
   "outputs": [
    {
     "name": "stdout",
     "output_type": "stream",
     "text": [
      "Number of Validation Samples: 367\n"
     ]
    }
   ],
   "source": [
    "validation_merge_df = get_data(\n",
    "    text_file_path=\"raw/test_text\",\n",
    "    variants_file_path=\"raw/test_variants\",\n",
    "    solution_file_path=\"raw/stage1_solution_filtered.csv\",\n",
    ")\n",
    "validation_size = validation_merge_df.shape[0]\n",
    "print(\"Number of Validation Samples:\", validation_size)"
   ]
  },
  {
   "cell_type": "markdown",
   "metadata": {},
   "source": [
    "### Test Data - Text and Genetic Variants Information"
   ]
  },
  {
   "cell_type": "code",
   "execution_count": 6,
   "metadata": {
    "ExecuteTime": {
     "end_time": "2020-11-11T20:20:38.268617Z",
     "start_time": "2020-11-11T20:20:37.500804Z"
    }
   },
   "outputs": [
    {
     "name": "stdout",
     "output_type": "stream",
     "text": [
      "Number of Test Samples: 125\n"
     ]
    }
   ],
   "source": [
    "test_merge_df = get_data(\n",
    "    text_file_path=\"raw/stage2_test_text.csv\",\n",
    "    variants_file_path=\"raw/stage2_test_variants.csv\",\n",
    "    solution_file_path=\"raw/stage_2_private_solution.csv\",\n",
    ")\n",
    "test_size = test_merge_df.shape[0]\n",
    "print(\"Number of Test Samples:\", test_size)"
   ]
  },
  {
   "cell_type": "markdown",
   "metadata": {},
   "source": [
    "### Concatenate Data"
   ]
  },
  {
   "cell_type": "code",
   "execution_count": 7,
   "metadata": {
    "ExecuteTime": {
     "end_time": "2020-11-11T20:20:38.329655Z",
     "start_time": "2020-11-11T20:20:38.274046Z"
    }
   },
   "outputs": [
    {
     "data": {
      "text/html": [
       "<div>\n",
       "<style scoped>\n",
       "    .dataframe tbody tr th:only-of-type {\n",
       "        vertical-align: middle;\n",
       "    }\n",
       "\n",
       "    .dataframe tbody tr th {\n",
       "        vertical-align: top;\n",
       "    }\n",
       "\n",
       "    .dataframe thead th {\n",
       "        text-align: right;\n",
       "    }\n",
       "</style>\n",
       "<table border=\"1\" class=\"dataframe\">\n",
       "  <thead>\n",
       "    <tr style=\"text-align: right;\">\n",
       "      <th></th>\n",
       "      <th>ID</th>\n",
       "      <th>Gene</th>\n",
       "      <th>Variation</th>\n",
       "      <th>Class</th>\n",
       "      <th>Text</th>\n",
       "    </tr>\n",
       "  </thead>\n",
       "  <tbody>\n",
       "    <tr>\n",
       "      <th>0</th>\n",
       "      <td>0</td>\n",
       "      <td>FAM58A</td>\n",
       "      <td>Truncating Mutations</td>\n",
       "      <td>1</td>\n",
       "      <td>Cyclin-dependent kinases (CDKs) regulate a var...</td>\n",
       "    </tr>\n",
       "    <tr>\n",
       "      <th>1</th>\n",
       "      <td>1</td>\n",
       "      <td>CBL</td>\n",
       "      <td>W802*</td>\n",
       "      <td>2</td>\n",
       "      <td>Abstract Background  Non-small cell lung canc...</td>\n",
       "    </tr>\n",
       "    <tr>\n",
       "      <th>2</th>\n",
       "      <td>2</td>\n",
       "      <td>CBL</td>\n",
       "      <td>Q249E</td>\n",
       "      <td>2</td>\n",
       "      <td>Abstract Background  Non-small cell lung canc...</td>\n",
       "    </tr>\n",
       "    <tr>\n",
       "      <th>3</th>\n",
       "      <td>3</td>\n",
       "      <td>CBL</td>\n",
       "      <td>N454D</td>\n",
       "      <td>3</td>\n",
       "      <td>Recent evidence has demonstrated that acquired...</td>\n",
       "    </tr>\n",
       "    <tr>\n",
       "      <th>4</th>\n",
       "      <td>4</td>\n",
       "      <td>CBL</td>\n",
       "      <td>L399V</td>\n",
       "      <td>4</td>\n",
       "      <td>Oncogenic mutations in the monomeric Casitas B...</td>\n",
       "    </tr>\n",
       "  </tbody>\n",
       "</table>\n",
       "</div>"
      ],
      "text/plain": [
       "   ID    Gene             Variation Class  \\\n",
       "0   0  FAM58A  Truncating Mutations     1   \n",
       "1   1     CBL                 W802*     2   \n",
       "2   2     CBL                 Q249E     2   \n",
       "3   3     CBL                 N454D     3   \n",
       "4   4     CBL                 L399V     4   \n",
       "\n",
       "                                                Text  \n",
       "0  Cyclin-dependent kinases (CDKs) regulate a var...  \n",
       "1   Abstract Background  Non-small cell lung canc...  \n",
       "2   Abstract Background  Non-small cell lung canc...  \n",
       "3  Recent evidence has demonstrated that acquired...  \n",
       "4  Oncogenic mutations in the monomeric Casitas B...  "
      ]
     },
     "execution_count": 7,
     "metadata": {},
     "output_type": "execute_result"
    }
   ],
   "source": [
    "df = pd.concat(\n",
    "    [training_merge_df, validation_merge_df, test_merge_df],\n",
    "    axis=0,\n",
    "    ignore_index=True,\n",
    "    sort=False,\n",
    ")\n",
    "\n",
    "# free memory\n",
    "del training_merge_df, validation_merge_df, test_merge_df\n",
    "\n",
    "df.head()"
   ]
  },
  {
   "cell_type": "code",
   "execution_count": 8,
   "metadata": {
    "ExecuteTime": {
     "end_time": "2020-11-11T20:20:38.358986Z",
     "start_time": "2020-11-11T20:20:38.334792Z"
    }
   },
   "outputs": [
    {
     "name": "stdout",
     "output_type": "stream",
     "text": [
      "Data got shuffled. Therefore results are not comparable anymore to the Kaggle competition\n"
     ]
    }
   ],
   "source": [
    "shuffled = True\n",
    "if shuffled:\n",
    "    df.sample(frac=1)\n",
    "    print(\n",
    "        \"Data got shuffled. Therefore results are not comparable anymore to the Kaggle competition\"\n",
    "    )"
   ]
  },
  {
   "cell_type": "markdown",
   "metadata": {},
   "source": [
    "## Transform Data"
   ]
  },
  {
   "cell_type": "markdown",
   "metadata": {},
   "source": [
    "### Extract Text Sections\n"
   ]
  },
  {
   "cell_type": "markdown",
   "metadata": {},
   "source": [
    "Extracting text sections of the entire text information given. Thus reducing the size of text input. "
   ]
  },
  {
   "cell_type": "code",
   "execution_count": 9,
   "metadata": {
    "ExecuteTime": {
     "end_time": "2020-11-11T20:20:42.345064Z",
     "start_time": "2020-11-11T20:20:38.366745Z"
    }
   },
   "outputs": [
    {
     "data": {
      "text/html": [
       "<div>\n",
       "<style scoped>\n",
       "    .dataframe tbody tr th:only-of-type {\n",
       "        vertical-align: middle;\n",
       "    }\n",
       "\n",
       "    .dataframe tbody tr th {\n",
       "        vertical-align: top;\n",
       "    }\n",
       "\n",
       "    .dataframe thead th {\n",
       "        text-align: right;\n",
       "    }\n",
       "</style>\n",
       "<table border=\"1\" class=\"dataframe\">\n",
       "  <thead>\n",
       "    <tr style=\"text-align: right;\">\n",
       "      <th></th>\n",
       "      <th>ID</th>\n",
       "      <th>Gene</th>\n",
       "      <th>Variation</th>\n",
       "      <th>Class</th>\n",
       "      <th>Text</th>\n",
       "    </tr>\n",
       "  </thead>\n",
       "  <tbody>\n",
       "    <tr>\n",
       "      <th>0</th>\n",
       "      <td>0</td>\n",
       "      <td>FAM58A</td>\n",
       "      <td>Truncating Mutations</td>\n",
       "      <td>1</td>\n",
       "      <td>cyclin-dependent kinases (cdks) regulate a var...</td>\n",
       "    </tr>\n",
       "    <tr>\n",
       "      <th>1</th>\n",
       "      <td>1</td>\n",
       "      <td>CBL</td>\n",
       "      <td>W802*</td>\n",
       "      <td>2</td>\n",
       "      <td>ncer (nsclc) is a heterogeneous group of disor...</td>\n",
       "    </tr>\n",
       "    <tr>\n",
       "      <th>2</th>\n",
       "      <td>2</td>\n",
       "      <td>CBL</td>\n",
       "      <td>Q249E</td>\n",
       "      <td>2</td>\n",
       "      <td>ll lung cancer (nsclc) is a heterogeneous grou...</td>\n",
       "    </tr>\n",
       "    <tr>\n",
       "      <th>3</th>\n",
       "      <td>3</td>\n",
       "      <td>CBL</td>\n",
       "      <td>N454D</td>\n",
       "      <td>3</td>\n",
       "      <td>alysis but failed to detect any further sequen...</td>\n",
       "    </tr>\n",
       "    <tr>\n",
       "      <th>4</th>\n",
       "      <td>4</td>\n",
       "      <td>CBL</td>\n",
       "      <td>L399V</td>\n",
       "      <td>4</td>\n",
       "      <td>d) compared to either a549 or hek293t cells (m...</td>\n",
       "    </tr>\n",
       "  </tbody>\n",
       "</table>\n",
       "</div>"
      ],
      "text/plain": [
       "   ID    Gene             Variation Class  \\\n",
       "0   0  FAM58A  Truncating Mutations     1   \n",
       "1   1     CBL                 W802*     2   \n",
       "2   2     CBL                 Q249E     2   \n",
       "3   3     CBL                 N454D     3   \n",
       "4   4     CBL                 L399V     4   \n",
       "\n",
       "                                                Text  \n",
       "0  cyclin-dependent kinases (cdks) regulate a var...  \n",
       "1  ncer (nsclc) is a heterogeneous group of disor...  \n",
       "2  ll lung cancer (nsclc) is a heterogeneous grou...  \n",
       "3  alysis but failed to detect any further sequen...  \n",
       "4  d) compared to either a549 or hek293t cells (m...  "
      ]
     },
     "execution_count": 9,
     "metadata": {},
     "output_type": "execute_result"
    }
   ],
   "source": [
    "# extract section\n",
    "df['Text'] = df[['Text', 'Gene','Variation', 'ID']].apply(lambda x: extract_text_sections(x[0].lower(),x[1].lower(),x[2].lower(), 1000), axis=1)\n",
    "df.head()"
   ]
  },
  {
   "cell_type": "markdown",
   "metadata": {},
   "source": [
    "### Include Additional Features"
   ]
  },
  {
   "cell_type": "markdown",
   "metadata": {},
   "source": [
    "Adding information about the variation, such as original amino acid, replaced amino acid and location of replacement. Along with this, information regarding whether the original and replaced amino acid had somewhat similar properties is included. "
   ]
  },
  {
   "cell_type": "markdown",
   "metadata": {},
   "source": [
    "####  (Optional) Physiochemical Distance"
   ]
  },
  {
   "cell_type": "code",
   "execution_count": 10,
   "metadata": {
    "ExecuteTime": {
     "end_time": "2020-11-11T20:20:47.235492Z",
     "start_time": "2020-11-11T20:20:42.349814Z"
    }
   },
   "outputs": [
    {
     "data": {
      "text/html": [
       "<div>\n",
       "<style scoped>\n",
       "    .dataframe tbody tr th:only-of-type {\n",
       "        vertical-align: middle;\n",
       "    }\n",
       "\n",
       "    .dataframe tbody tr th {\n",
       "        vertical-align: top;\n",
       "    }\n",
       "\n",
       "    .dataframe thead th {\n",
       "        text-align: right;\n",
       "    }\n",
       "</style>\n",
       "<table border=\"1\" class=\"dataframe\">\n",
       "  <thead>\n",
       "    <tr style=\"text-align: right;\">\n",
       "      <th></th>\n",
       "      <th>ID</th>\n",
       "      <th>Gene</th>\n",
       "      <th>Variation</th>\n",
       "      <th>Class</th>\n",
       "      <th>Text</th>\n",
       "      <th>PhsysiochemDistance</th>\n",
       "    </tr>\n",
       "  </thead>\n",
       "  <tbody>\n",
       "    <tr>\n",
       "      <th>0</th>\n",
       "      <td>0</td>\n",
       "      <td>FAM58A</td>\n",
       "      <td>Truncating Mutations</td>\n",
       "      <td>1</td>\n",
       "      <td>cyclin-dependent kinases (cdks) regulate a var...</td>\n",
       "      <td>50.801628</td>\n",
       "    </tr>\n",
       "    <tr>\n",
       "      <th>1</th>\n",
       "      <td>1</td>\n",
       "      <td>CBL</td>\n",
       "      <td>W802*</td>\n",
       "      <td>2</td>\n",
       "      <td>ncer (nsclc) is a heterogeneous group of disor...</td>\n",
       "      <td>50.801628</td>\n",
       "    </tr>\n",
       "    <tr>\n",
       "      <th>2</th>\n",
       "      <td>2</td>\n",
       "      <td>CBL</td>\n",
       "      <td>Q249E</td>\n",
       "      <td>2</td>\n",
       "      <td>ll lung cancer (nsclc) is a heterogeneous grou...</td>\n",
       "      <td>29.000000</td>\n",
       "    </tr>\n",
       "    <tr>\n",
       "      <th>3</th>\n",
       "      <td>3</td>\n",
       "      <td>CBL</td>\n",
       "      <td>N454D</td>\n",
       "      <td>3</td>\n",
       "      <td>alysis but failed to detect any further sequen...</td>\n",
       "      <td>23.000000</td>\n",
       "    </tr>\n",
       "    <tr>\n",
       "      <th>4</th>\n",
       "      <td>4</td>\n",
       "      <td>CBL</td>\n",
       "      <td>L399V</td>\n",
       "      <td>4</td>\n",
       "      <td>d) compared to either a549 or hek293t cells (m...</td>\n",
       "      <td>32.000000</td>\n",
       "    </tr>\n",
       "  </tbody>\n",
       "</table>\n",
       "</div>"
      ],
      "text/plain": [
       "   ID    Gene             Variation Class  \\\n",
       "0   0  FAM58A  Truncating Mutations     1   \n",
       "1   1     CBL                 W802*     2   \n",
       "2   2     CBL                 Q249E     2   \n",
       "3   3     CBL                 N454D     3   \n",
       "4   4     CBL                 L399V     4   \n",
       "\n",
       "                                                Text  PhsysiochemDistance  \n",
       "0  cyclin-dependent kinases (cdks) regulate a var...            50.801628  \n",
       "1  ncer (nsclc) is a heterogeneous group of disor...            50.801628  \n",
       "2  ll lung cancer (nsclc) is a heterogeneous grou...            29.000000  \n",
       "3  alysis but failed to detect any further sequen...            23.000000  \n",
       "4  d) compared to either a549 or hek293t cells (m...            32.000000  "
      ]
     },
     "execution_count": 10,
     "metadata": {},
     "output_type": "execute_result"
    }
   ],
   "source": [
    "df[\"PhsysiochemDistance\"] = df.apply(\n",
    "    lambda row: get_phsysiochem_distance(row.Variation), axis=1\n",
    ")\n",
    "df[\"PhsysiochemDistance\"].fillna((df[\"PhsysiochemDistance\"].mean()), inplace=True)\n",
    "df.head()"
   ]
  },
  {
   "cell_type": "markdown",
   "metadata": {},
   "source": [
    "#### Features based on blog: Literature parsing for mutation classification"
   ]
  },
  {
   "cell_type": "markdown",
   "metadata": {},
   "source": [
    "These additional features are taken from the blog written by McAteer, Matthew contain information about text length, gene and variation description. https://matthewmcateer.me/blog/literature-parsing-for-mutation-classification/"
   ]
  },
  {
   "cell_type": "code",
   "execution_count": 11,
   "metadata": {
    "ExecuteTime": {
     "end_time": "2020-11-11T20:21:02.294833Z",
     "start_time": "2020-11-11T20:20:56.555261Z"
    }
   },
   "outputs": [
    {
     "data": {
      "text/html": [
       "<div>\n",
       "<style scoped>\n",
       "    .dataframe tbody tr th:only-of-type {\n",
       "        vertical-align: middle;\n",
       "    }\n",
       "\n",
       "    .dataframe tbody tr th {\n",
       "        vertical-align: top;\n",
       "    }\n",
       "\n",
       "    .dataframe thead th {\n",
       "        text-align: right;\n",
       "    }\n",
       "</style>\n",
       "<table border=\"1\" class=\"dataframe\">\n",
       "  <thead>\n",
       "    <tr style=\"text-align: right;\">\n",
       "      <th></th>\n",
       "      <th>ID</th>\n",
       "      <th>Gene</th>\n",
       "      <th>Variation</th>\n",
       "      <th>Class</th>\n",
       "      <th>Text</th>\n",
       "      <th>PhsysiochemDistance</th>\n",
       "      <th>Gene_lbl_enc</th>\n",
       "      <th>Gene_len</th>\n",
       "      <th>Gene_words</th>\n",
       "      <th>Variation_lbl_enc</th>\n",
       "      <th>Variation_len</th>\n",
       "      <th>Variation_words</th>\n",
       "      <th>Text_len</th>\n",
       "      <th>Text_words</th>\n",
       "      <th>Gene_Share</th>\n",
       "      <th>Variation_Share</th>\n",
       "    </tr>\n",
       "  </thead>\n",
       "  <tbody>\n",
       "    <tr>\n",
       "      <th>0</th>\n",
       "      <td>0</td>\n",
       "      <td>FAM58A</td>\n",
       "      <td>Truncating Mutations</td>\n",
       "      <td>0</td>\n",
       "      <td>cyclin-dependent kinases (cdks) regulate a var...</td>\n",
       "      <td>50.801628</td>\n",
       "      <td>91</td>\n",
       "      <td>6</td>\n",
       "      <td>1</td>\n",
       "      <td>3010</td>\n",
       "      <td>20</td>\n",
       "      <td>2</td>\n",
       "      <td>17779</td>\n",
       "      <td>2769</td>\n",
       "      <td>0</td>\n",
       "      <td>0</td>\n",
       "    </tr>\n",
       "    <tr>\n",
       "      <th>1</th>\n",
       "      <td>1</td>\n",
       "      <td>CBL</td>\n",
       "      <td>W802*</td>\n",
       "      <td>1</td>\n",
       "      <td>ncer (nsclc) is a heterogeneous group of disor...</td>\n",
       "      <td>50.801628</td>\n",
       "      <td>39</td>\n",
       "      <td>3</td>\n",
       "      <td>1</td>\n",
       "      <td>3265</td>\n",
       "      <td>5</td>\n",
       "      <td>1</td>\n",
       "      <td>19066</td>\n",
       "      <td>2937</td>\n",
       "      <td>0</td>\n",
       "      <td>0</td>\n",
       "    </tr>\n",
       "    <tr>\n",
       "      <th>2</th>\n",
       "      <td>2</td>\n",
       "      <td>CBL</td>\n",
       "      <td>Q249E</td>\n",
       "      <td>1</td>\n",
       "      <td>ll lung cancer (nsclc) is a heterogeneous grou...</td>\n",
       "      <td>29.000000</td>\n",
       "      <td>39</td>\n",
       "      <td>3</td>\n",
       "      <td>1</td>\n",
       "      <td>2158</td>\n",
       "      <td>5</td>\n",
       "      <td>1</td>\n",
       "      <td>19049</td>\n",
       "      <td>2942</td>\n",
       "      <td>0</td>\n",
       "      <td>0</td>\n",
       "    </tr>\n",
       "    <tr>\n",
       "      <th>3</th>\n",
       "      <td>3</td>\n",
       "      <td>CBL</td>\n",
       "      <td>N454D</td>\n",
       "      <td>2</td>\n",
       "      <td>alysis but failed to detect any further sequen...</td>\n",
       "      <td>23.000000</td>\n",
       "      <td>39</td>\n",
       "      <td>3</td>\n",
       "      <td>1</td>\n",
       "      <td>1896</td>\n",
       "      <td>5</td>\n",
       "      <td>1</td>\n",
       "      <td>9788</td>\n",
       "      <td>1507</td>\n",
       "      <td>0</td>\n",
       "      <td>0</td>\n",
       "    </tr>\n",
       "    <tr>\n",
       "      <th>4</th>\n",
       "      <td>4</td>\n",
       "      <td>CBL</td>\n",
       "      <td>L399V</td>\n",
       "      <td>3</td>\n",
       "      <td>d) compared to either a549 or hek293t cells (m...</td>\n",
       "      <td>32.000000</td>\n",
       "      <td>39</td>\n",
       "      <td>3</td>\n",
       "      <td>1</td>\n",
       "      <td>1648</td>\n",
       "      <td>5</td>\n",
       "      <td>1</td>\n",
       "      <td>2810</td>\n",
       "      <td>460</td>\n",
       "      <td>0</td>\n",
       "      <td>0</td>\n",
       "    </tr>\n",
       "  </tbody>\n",
       "</table>\n",
       "</div>"
      ],
      "text/plain": [
       "   ID    Gene             Variation  Class  \\\n",
       "0   0  FAM58A  Truncating Mutations      0   \n",
       "1   1     CBL                 W802*      1   \n",
       "2   2     CBL                 Q249E      1   \n",
       "3   3     CBL                 N454D      2   \n",
       "4   4     CBL                 L399V      3   \n",
       "\n",
       "                                                Text  PhsysiochemDistance  \\\n",
       "0  cyclin-dependent kinases (cdks) regulate a var...            50.801628   \n",
       "1  ncer (nsclc) is a heterogeneous group of disor...            50.801628   \n",
       "2  ll lung cancer (nsclc) is a heterogeneous grou...            29.000000   \n",
       "3  alysis but failed to detect any further sequen...            23.000000   \n",
       "4  d) compared to either a549 or hek293t cells (m...            32.000000   \n",
       "\n",
       "   Gene_lbl_enc  Gene_len  Gene_words  Variation_lbl_enc  Variation_len  \\\n",
       "0            91         6           1               3010             20   \n",
       "1            39         3           1               3265              5   \n",
       "2            39         3           1               2158              5   \n",
       "3            39         3           1               1896              5   \n",
       "4            39         3           1               1648              5   \n",
       "\n",
       "   Variation_words  Text_len  Text_words  Gene_Share  Variation_Share  \n",
       "0                2     17779        2769           0                0  \n",
       "1                1     19066        2937           0                0  \n",
       "2                1     19049        2942           0                0  \n",
       "3                1      9788        1507           0                0  \n",
       "4                1      2810         460           0                0  "
      ]
     },
     "execution_count": 11,
     "metadata": {},
     "output_type": "execute_result"
    }
   ],
   "source": [
    "for columns in df.columns:\n",
    "    if df[columns].dtype == \"object\":\n",
    "        if columns in [\"Gene\", \"Variation\"]:\n",
    "            lbl = LabelEncoder()\n",
    "            df[columns + \"_lbl_enc\"] = lbl.fit_transform(df[columns].values)\n",
    "            df[columns + \"_len\"] = df[columns].map(lambda x: len(str(x)))\n",
    "            df[columns + \"_words\"] = df[columns].map(lambda x: len(str(x).split(\" \")))\n",
    "        elif columns != \"Text\" and columns != \"PC_distance\":\n",
    "            lbl = LabelEncoder()\n",
    "            df[columns] = lbl.fit_transform(df[columns].values)\n",
    "        if columns == \"Text\":\n",
    "            df[columns + \"_len\"] = df[columns].map(lambda x: len(str(x)))\n",
    "            df[columns + \"_words\"] = df[columns].map(lambda x: len(str(x).split(\" \")))\n",
    "\n",
    "df[\"Gene_Share\"] = df.apply(\n",
    "    lambda r: sum([1 for w in r[\"Gene\"].split(\" \") if w in r[\"Text\"].split(\" \")]),\n",
    "    axis=1,\n",
    ")\n",
    "df[\"Variation_Share\"] = df.apply(\n",
    "    lambda r: sum([1 for w in r[\"Variation\"].split(\" \") if w in r[\"Text\"].split(\" \")]),\n",
    "    axis=1,\n",
    ")\n",
    "\n",
    "df.head()"
   ]
  },
  {
   "cell_type": "code",
   "execution_count": 12,
   "metadata": {
    "ExecuteTime": {
     "end_time": "2020-11-11T20:21:02.314134Z",
     "start_time": "2020-11-11T20:21:02.300568Z"
    }
   },
   "outputs": [
    {
     "name": "stdout",
     "output_type": "stream",
     "text": [
      "(3683, 16)\n",
      "(125, 16)\n"
     ]
    }
   ],
   "source": [
    "train = df.iloc[:-test_size]\n",
    "print(train.shape)\n",
    "test = df.iloc[-test_size:]\n",
    "print(test.shape)"
   ]
  },
  {
   "cell_type": "markdown",
   "metadata": {},
   "source": [
    "#### (Optional) Save Data with Additional Features to Interim"
   ]
  },
  {
   "cell_type": "code",
   "execution_count": null,
   "metadata": {
    "ExecuteTime": {
     "end_time": "2020-11-11T20:10:41.196440Z",
     "start_time": "2020-11-11T20:10:37.344Z"
    }
   },
   "outputs": [],
   "source": [
    "train.to_csv(\n",
    "    os.path.join(data_path, \"interim/training_data_additional_features\"), index=False\n",
    ")\n",
    "test.to_csv(\n",
    "    os.path.join(data_path, \"interim/test_data_additional_features\"), index=False\n",
    ")"
   ]
  },
  {
   "cell_type": "markdown",
   "metadata": {},
   "source": [
    "### Verctorize, Reduce Dimension and Normalize"
   ]
  },
  {
   "cell_type": "markdown",
   "metadata": {},
   "source": [
    "#### (Optional) Load saved training and test data"
   ]
  },
  {
   "cell_type": "code",
   "execution_count": null,
   "metadata": {
    "ExecuteTime": {
     "end_time": "2020-10-31T11:52:11.170473Z",
     "start_time": "2020-10-31T11:51:40.606101Z"
    }
   },
   "outputs": [],
   "source": [
    "train = pd.read_csv(\n",
    "    os.path.join(data_path, \"interim/training_data_additional_features\")\n",
    ")\n",
    "test = pd.read_csv(os.path.join(data_path, \"interim/test_data_additional_features\"))"
   ]
  },
  {
   "cell_type": "code",
   "execution_count": 13,
   "metadata": {
    "ExecuteTime": {
     "end_time": "2020-11-11T20:21:02.336623Z",
     "start_time": "2020-11-11T20:21:02.320009Z"
    }
   },
   "outputs": [],
   "source": [
    "y_train = train[\"Class\"].values\n",
    "x_train = train.drop([\"Class\"], axis=1)\n",
    "del train\n",
    "\n",
    "y_test = test[\"Class\"].values\n",
    "x_test = test.drop([\"Class\"], axis=1)\n",
    "\n",
    "del test"
   ]
  },
  {
   "cell_type": "code",
   "execution_count": 14,
   "metadata": {
    "ExecuteTime": {
     "end_time": "2020-11-11T20:21:02.377343Z",
     "start_time": "2020-11-11T20:21:02.342177Z"
    }
   },
   "outputs": [
    {
     "data": {
      "text/html": [
       "<div>\n",
       "<style scoped>\n",
       "    .dataframe tbody tr th:only-of-type {\n",
       "        vertical-align: middle;\n",
       "    }\n",
       "\n",
       "    .dataframe tbody tr th {\n",
       "        vertical-align: top;\n",
       "    }\n",
       "\n",
       "    .dataframe thead th {\n",
       "        text-align: right;\n",
       "    }\n",
       "</style>\n",
       "<table border=\"1\" class=\"dataframe\">\n",
       "  <thead>\n",
       "    <tr style=\"text-align: right;\">\n",
       "      <th></th>\n",
       "      <th>ID</th>\n",
       "      <th>Gene</th>\n",
       "      <th>Variation</th>\n",
       "      <th>Text</th>\n",
       "      <th>PhsysiochemDistance</th>\n",
       "      <th>Gene_lbl_enc</th>\n",
       "      <th>Gene_len</th>\n",
       "      <th>Gene_words</th>\n",
       "      <th>Variation_lbl_enc</th>\n",
       "      <th>Variation_len</th>\n",
       "      <th>Variation_words</th>\n",
       "      <th>Text_len</th>\n",
       "      <th>Text_words</th>\n",
       "      <th>Gene_Share</th>\n",
       "      <th>Variation_Share</th>\n",
       "    </tr>\n",
       "  </thead>\n",
       "  <tbody>\n",
       "    <tr>\n",
       "      <th>0</th>\n",
       "      <td>0</td>\n",
       "      <td>FAM58A</td>\n",
       "      <td>Truncating Mutations</td>\n",
       "      <td>cyclin-dependent kinases (cdks) regulate a var...</td>\n",
       "      <td>50.801628</td>\n",
       "      <td>91</td>\n",
       "      <td>6</td>\n",
       "      <td>1</td>\n",
       "      <td>3010</td>\n",
       "      <td>20</td>\n",
       "      <td>2</td>\n",
       "      <td>17779</td>\n",
       "      <td>2769</td>\n",
       "      <td>0</td>\n",
       "      <td>0</td>\n",
       "    </tr>\n",
       "    <tr>\n",
       "      <th>1</th>\n",
       "      <td>1</td>\n",
       "      <td>CBL</td>\n",
       "      <td>W802*</td>\n",
       "      <td>ncer (nsclc) is a heterogeneous group of disor...</td>\n",
       "      <td>50.801628</td>\n",
       "      <td>39</td>\n",
       "      <td>3</td>\n",
       "      <td>1</td>\n",
       "      <td>3265</td>\n",
       "      <td>5</td>\n",
       "      <td>1</td>\n",
       "      <td>19066</td>\n",
       "      <td>2937</td>\n",
       "      <td>0</td>\n",
       "      <td>0</td>\n",
       "    </tr>\n",
       "    <tr>\n",
       "      <th>2</th>\n",
       "      <td>2</td>\n",
       "      <td>CBL</td>\n",
       "      <td>Q249E</td>\n",
       "      <td>ll lung cancer (nsclc) is a heterogeneous grou...</td>\n",
       "      <td>29.000000</td>\n",
       "      <td>39</td>\n",
       "      <td>3</td>\n",
       "      <td>1</td>\n",
       "      <td>2158</td>\n",
       "      <td>5</td>\n",
       "      <td>1</td>\n",
       "      <td>19049</td>\n",
       "      <td>2942</td>\n",
       "      <td>0</td>\n",
       "      <td>0</td>\n",
       "    </tr>\n",
       "    <tr>\n",
       "      <th>3</th>\n",
       "      <td>3</td>\n",
       "      <td>CBL</td>\n",
       "      <td>N454D</td>\n",
       "      <td>alysis but failed to detect any further sequen...</td>\n",
       "      <td>23.000000</td>\n",
       "      <td>39</td>\n",
       "      <td>3</td>\n",
       "      <td>1</td>\n",
       "      <td>1896</td>\n",
       "      <td>5</td>\n",
       "      <td>1</td>\n",
       "      <td>9788</td>\n",
       "      <td>1507</td>\n",
       "      <td>0</td>\n",
       "      <td>0</td>\n",
       "    </tr>\n",
       "    <tr>\n",
       "      <th>4</th>\n",
       "      <td>4</td>\n",
       "      <td>CBL</td>\n",
       "      <td>L399V</td>\n",
       "      <td>d) compared to either a549 or hek293t cells (m...</td>\n",
       "      <td>32.000000</td>\n",
       "      <td>39</td>\n",
       "      <td>3</td>\n",
       "      <td>1</td>\n",
       "      <td>1648</td>\n",
       "      <td>5</td>\n",
       "      <td>1</td>\n",
       "      <td>2810</td>\n",
       "      <td>460</td>\n",
       "      <td>0</td>\n",
       "      <td>0</td>\n",
       "    </tr>\n",
       "  </tbody>\n",
       "</table>\n",
       "</div>"
      ],
      "text/plain": [
       "   ID    Gene             Variation  \\\n",
       "0   0  FAM58A  Truncating Mutations   \n",
       "1   1     CBL                 W802*   \n",
       "2   2     CBL                 Q249E   \n",
       "3   3     CBL                 N454D   \n",
       "4   4     CBL                 L399V   \n",
       "\n",
       "                                                Text  PhsysiochemDistance  \\\n",
       "0  cyclin-dependent kinases (cdks) regulate a var...            50.801628   \n",
       "1  ncer (nsclc) is a heterogeneous group of disor...            50.801628   \n",
       "2  ll lung cancer (nsclc) is a heterogeneous grou...            29.000000   \n",
       "3  alysis but failed to detect any further sequen...            23.000000   \n",
       "4  d) compared to either a549 or hek293t cells (m...            32.000000   \n",
       "\n",
       "   Gene_lbl_enc  Gene_len  Gene_words  Variation_lbl_enc  Variation_len  \\\n",
       "0            91         6           1               3010             20   \n",
       "1            39         3           1               3265              5   \n",
       "2            39         3           1               2158              5   \n",
       "3            39         3           1               1896              5   \n",
       "4            39         3           1               1648              5   \n",
       "\n",
       "   Variation_words  Text_len  Text_words  Gene_Share  Variation_Share  \n",
       "0                2     17779        2769           0                0  \n",
       "1                1     19066        2937           0                0  \n",
       "2                1     19049        2942           0                0  \n",
       "3                1      9788        1507           0                0  \n",
       "4                1      2810         460           0                0  "
      ]
     },
     "execution_count": 14,
     "metadata": {},
     "output_type": "execute_result"
    }
   ],
   "source": [
    "x_train.head()"
   ]
  },
  {
   "cell_type": "markdown",
   "metadata": {},
   "source": [
    "#### Pipeline"
   ]
  },
  {
   "cell_type": "code",
   "execution_count": 15,
   "metadata": {
    "ExecuteTime": {
     "end_time": "2020-11-11T20:21:03.539302Z",
     "start_time": "2020-11-11T20:21:03.525295Z"
    },
    "code_folding": []
   },
   "outputs": [],
   "source": [
    "gene_pipeline = Pipeline(\n",
    "    [\n",
    "        (\"Gene\", CustTxtCol(\"Gene\")),\n",
    "        (\"count_Gene\", CountVectorizer(analyzer=u\"char\", ngram_range=(1, 8)),),\n",
    "        (\"tsvd1\", TruncatedSVD(n_components=25, n_iter=25, random_state=12),),\n",
    "    ]\n",
    ")\n",
    "\n",
    "variation_pipeline = Pipeline(\n",
    "    [\n",
    "        (\"Variation\", CustTxtCol(\"Variation\")),\n",
    "        (\"count_Variation\", CountVectorizer(analyzer=u\"char\", ngram_range=(1, 8)),),\n",
    "        (\"tsvd2\", TruncatedSVD(n_components=25, n_iter=25, random_state=12),),\n",
    "    ]\n",
    ")\n",
    "\n",
    "text_pipeline = Pipeline(\n",
    "    [\n",
    "        (\"Text\", CustTxtCol(\"Text\")),\n",
    "        (\n",
    "            \"tfidf_Text\",\n",
    "            TfidfVectorizer(\n",
    "                # Clearning\n",
    "                preprocessor=custom_preprocessor,\n",
    "                # Splitting text into tokens(words, senteces, etc.) with at least three characters\n",
    "                tokenizer=tokenizer_at_least_three,\n",
    "                ngram_range=(1, 3),\n",
    "                # Removal of most common words in a language, which usualy does not bring additional meaning\n",
    "                stop_words=stop_words,\n",
    "                min_df=1,\n",
    "            ),\n",
    "        ),\n",
    "        (\"tsvd3\", TruncatedSVD(n_components=50, n_iter=50, random_state=12),),\n",
    "    ]\n",
    ")"
   ]
  },
  {
   "cell_type": "code",
   "execution_count": 16,
   "metadata": {
    "ExecuteTime": {
     "end_time": "2020-11-11T20:21:05.264549Z",
     "start_time": "2020-11-11T20:21:05.257450Z"
    }
   },
   "outputs": [],
   "source": [
    "feature_pipeline = Pipeline(\n",
    "    [\n",
    "        (\n",
    "            \"union\",\n",
    "            FeatureUnion(\n",
    "                n_jobs=1,\n",
    "                transformer_list=[\n",
    "                    (\"standard\", CustRegressionVals()),\n",
    "                    (\"gene_pipeline\", gene_pipeline),\n",
    "                    (\"variation_pipeline\", variation_pipeline),\n",
    "                    (\"text_pipeline\", text_pipeline),\n",
    "                ],\n",
    "                verbose=True,\n",
    "            ),\n",
    "        ),\n",
    "        (\"scaler\", MinMaxScaler()),\n",
    "    ],\n",
    "    verbose=True,\n",
    ")"
   ]
  },
  {
   "cell_type": "code",
   "execution_count": 17,
   "metadata": {
    "ExecuteTime": {
     "end_time": "2020-11-11T20:41:25.238765Z",
     "start_time": "2020-11-11T20:21:05.966458Z"
    }
   },
   "outputs": [
    {
     "name": "stdout",
     "output_type": "stream",
     "text": [
      "[FeatureUnion] ...... (step 1 of 4) Processing standard, total=   0.0s\n",
      "[FeatureUnion] . (step 2 of 4) Processing gene_pipeline, total=   0.3s\n",
      "[FeatureUnion]  (step 3 of 4) Processing variation_pipeline, total=   1.5s\n",
      "[FeatureUnion] . (step 4 of 4) Processing text_pipeline, total=20.3min\n",
      "[Pipeline] ............. (step 1 of 2) Processing union, total=20.3min\n",
      "[Pipeline] ............ (step 2 of 2) Processing scaler, total=   0.2s\n",
      "CPU times: user 15min 50s, sys: 5min 20s, total: 21min 10s\n",
      "Wall time: 20min 19s\n"
     ]
    }
   ],
   "source": [
    "%%time\n",
    "train_processed = feature_pipeline.fit_transform(x_train)"
   ]
  },
  {
   "cell_type": "code",
   "execution_count": 18,
   "metadata": {
    "ExecuteTime": {
     "end_time": "2020-11-11T20:42:09.996883Z",
     "start_time": "2020-11-11T20:41:25.298086Z"
    }
   },
   "outputs": [
    {
     "name": "stdout",
     "output_type": "stream",
     "text": [
      "CPU times: user 38.6 s, sys: 5.32 s, total: 44 s\n",
      "Wall time: 44.6 s\n"
     ]
    }
   ],
   "source": [
    "%%time\n",
    "test_processed = feature_pipeline.transform(x_test)"
   ]
  },
  {
   "cell_type": "code",
   "execution_count": 19,
   "metadata": {
    "ExecuteTime": {
     "end_time": "2020-11-11T20:42:10.019575Z",
     "start_time": "2020-11-11T20:42:10.005324Z"
    }
   },
   "outputs": [
    {
     "name": "stdout",
     "output_type": "stream",
     "text": [
      "Shape of processed training data:   (3683, 111)\n",
      "Shape of processed test data:       (125, 111)\n"
     ]
    }
   ],
   "source": [
    "print(\"Shape of processed training data:\".ljust(35), train_processed.shape)\n",
    "print(\"Shape of processed test data:\".ljust(35), test_processed.shape)"
   ]
  },
  {
   "cell_type": "markdown",
   "metadata": {},
   "source": [
    "## Save Data"
   ]
  },
  {
   "cell_type": "code",
   "execution_count": 21,
   "metadata": {
    "ExecuteTime": {
     "end_time": "2020-11-11T20:42:29.935299Z",
     "start_time": "2020-11-11T20:42:29.797917Z"
    }
   },
   "outputs": [],
   "source": [
    "# save to npy file\n",
    "save(os.path.join(data_path, \"processed/x_train_shuffled\"), train_processed)\n",
    "save(os.path.join(data_path, \"processed/x_test_shuffled\"), test_processed)\n",
    "save(os.path.join(data_path, \"processed/y_train_shuffled\"), y_train)\n",
    "save(os.path.join(data_path, \"processed/y_test_shuffled\"), y_test)"
   ]
  }
 ],
 "metadata": {
  "kernelspec": {
   "display_name": "Python 3",
   "language": "python",
   "name": "python3"
  },
  "language_info": {
   "codemirror_mode": {
    "name": "ipython",
    "version": 3
   },
   "file_extension": ".py",
   "mimetype": "text/x-python",
   "name": "python",
   "nbconvert_exporter": "python",
   "pygments_lexer": "ipython3",
   "version": "3.7.6"
  },
  "toc": {
   "base_numbering": 1,
   "nav_menu": {},
   "number_sections": true,
   "sideBar": true,
   "skip_h1_title": true,
   "title_cell": "Table of Contents",
   "title_sidebar": "Contents",
   "toc_cell": false,
   "toc_position": {},
   "toc_section_display": true,
   "toc_window_display": true
  }
 },
 "nbformat": 4,
 "nbformat_minor": 2
}
