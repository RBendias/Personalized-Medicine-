{
 "cells": [
  {
   "cell_type": "markdown",
   "metadata": {
    "colab_type": "text",
    "id": "fDLhjIPdLKKx"
   },
   "source": [
    "# Imports"
   ]
  },
  {
   "cell_type": "code",
   "execution_count": 1,
   "metadata": {
    "colab": {
     "autoexec": {
      "startup": false,
      "wait_interval": 0
     }
    },
    "colab_type": "code",
    "id": "sRjzIy1ULO_w"
   },
   "outputs": [],
   "source": [
    "from sklearn.utils import shuffle\n",
    "import pandas as pd\n",
    "import pickle"
   ]
  },
  {
   "cell_type": "markdown",
   "metadata": {
    "colab_type": "text",
    "id": "oQ710RwpUBR8"
   },
   "source": [
    "# Modeling the text"
   ]
  },
  {
   "cell_type": "markdown",
   "metadata": {
    "colab_type": "text",
    "id": "b9i2Aw6wCgs9"
   },
   "source": [
    "## Loading data\n"
   ]
  },
  {
   "cell_type": "code",
   "execution_count": 2,
   "metadata": {
    "colab": {
     "autoexec": {
      "startup": false,
      "wait_interval": 0
     }
    },
    "colab_type": "code",
    "id": "7QXwn7aBKnpI"
   },
   "outputs": [],
   "source": [
    "stage2test_text_df = pd.read_csv(\"/mnt/4_TB_HD/ramona/utils/stage2_data/stage2_test_text.csv\", sep=\"\\|\\|\", engine=\"python\", skiprows=1, names=[\"ID\", \"Text\"])\n",
    "stage2test_variants_df = pd.read_csv(\"/mnt/4_TB_HD/ramona/utils/stage2_data/stage2_test_variants.csv\")\n",
    "stage2test_class_df = pd.read_csv('/mnt/4_TB_HD/ramona/utils/stage2_data/stage_2_private_solution.csv')"
   ]
  },
  {
   "cell_type": "markdown",
   "metadata": {},
   "source": [
    "merge training text and variants into one data frame and drop the texts which have no content"
   ]
  },
  {
   "cell_type": "code",
   "execution_count": 3,
   "metadata": {
    "colab": {
     "autoexec": {
      "startup": false,
      "wait_interval": 0
     }
    },
    "colab_type": "code",
    "id": "P_l4dWtKXB0y"
   },
   "outputs": [
    {
     "name": "stdout",
     "output_type": "stream",
     "text": [
      "(986, 4)\n",
      "(986, 5)\n"
     ]
    },
    {
     "data": {
      "text/html": [
       "<div>\n",
       "<style scoped>\n",
       "    .dataframe tbody tr th:only-of-type {\n",
       "        vertical-align: middle;\n",
       "    }\n",
       "\n",
       "    .dataframe tbody tr th {\n",
       "        vertical-align: top;\n",
       "    }\n",
       "\n",
       "    .dataframe thead th {\n",
       "        text-align: right;\n",
       "    }\n",
       "</style>\n",
       "<table border=\"1\" class=\"dataframe\">\n",
       "  <thead>\n",
       "    <tr style=\"text-align: right;\">\n",
       "      <th></th>\n",
       "      <th>ID</th>\n",
       "      <th>Gene</th>\n",
       "      <th>Variation</th>\n",
       "      <th>Text</th>\n",
       "      <th>Text_count</th>\n",
       "    </tr>\n",
       "  </thead>\n",
       "  <tbody>\n",
       "    <tr>\n",
       "      <th>0</th>\n",
       "      <td>1</td>\n",
       "      <td>CHEK2</td>\n",
       "      <td>H371Y</td>\n",
       "      <td>The incidence of breast cancer is increasing i...</td>\n",
       "      <td>5037</td>\n",
       "    </tr>\n",
       "    <tr>\n",
       "      <th>1</th>\n",
       "      <td>2</td>\n",
       "      <td>AXIN2</td>\n",
       "      <td>Truncating Mutations</td>\n",
       "      <td>An unselected series of 310 colorectal carcino...</td>\n",
       "      <td>10245</td>\n",
       "    </tr>\n",
       "    <tr>\n",
       "      <th>2</th>\n",
       "      <td>3</td>\n",
       "      <td>WNT4</td>\n",
       "      <td>E216G</td>\n",
       "      <td>Mycosis fungoides and Sézary syndrome are prim...</td>\n",
       "      <td>8549</td>\n",
       "    </tr>\n",
       "    <tr>\n",
       "      <th>3</th>\n",
       "      <td>4</td>\n",
       "      <td>SUCLA2</td>\n",
       "      <td>G118R</td>\n",
       "      <td>Regulated progression through the cell cycle ...</td>\n",
       "      <td>6168</td>\n",
       "    </tr>\n",
       "    <tr>\n",
       "      <th>4</th>\n",
       "      <td>5</td>\n",
       "      <td>BRAF</td>\n",
       "      <td>T599insTT</td>\n",
       "      <td>Pilocytic astrocytoma (PA) is emerging as a tu...</td>\n",
       "      <td>3262</td>\n",
       "    </tr>\n",
       "  </tbody>\n",
       "</table>\n",
       "</div>"
      ],
      "text/plain": [
       "   ID    Gene             Variation  \\\n",
       "0   1   CHEK2                 H371Y   \n",
       "1   2   AXIN2  Truncating Mutations   \n",
       "2   3    WNT4                 E216G   \n",
       "3   4  SUCLA2                 G118R   \n",
       "4   5    BRAF             T599insTT   \n",
       "\n",
       "                                                Text  Text_count  \n",
       "0  The incidence of breast cancer is increasing i...        5037  \n",
       "1  An unselected series of 310 colorectal carcino...       10245  \n",
       "2  Mycosis fungoides and Sézary syndrome are prim...        8549  \n",
       "3   Regulated progression through the cell cycle ...        6168  \n",
       "4  Pilocytic astrocytoma (PA) is emerging as a tu...        3262  "
      ]
     },
     "execution_count": 3,
     "metadata": {},
     "output_type": "execute_result"
    }
   ],
   "source": [
    "stage2test_merge_df = stage2test_variants_df.merge(stage2test_text_df,left_on=\"ID\",right_on=\"ID\")\n",
    "print(stage2test_merge_df.shape)\n",
    "stage2test_merge_df.loc[:, 'Text_count'] = stage2test_merge_df[\"Text\"].apply(lambda x: len(str(x).split()) )\n",
    "stage2test_merge_df = stage2test_merge_df[stage2test_merge_df['Text_count'] != 1]\n",
    "\n",
    "\n",
    "print(stage2test_merge_df.shape)\n",
    "stage2test_merge_df.head(5) \n",
    "\n"
   ]
  },
  {
   "cell_type": "markdown",
   "metadata": {},
   "source": [
    "There is no 'null' text"
   ]
  },
  {
   "cell_type": "code",
   "execution_count": 4,
   "metadata": {},
   "outputs": [],
   "source": [
    "stage2test_merge_df['Text'] = stage2test_merge_df['Text'].apply(lambda x: x.replace('\\t',' ')) "
   ]
  },
  {
   "cell_type": "code",
   "execution_count": 5,
   "metadata": {},
   "outputs": [
    {
     "data": {
      "text/html": [
       "<div>\n",
       "<style scoped>\n",
       "    .dataframe tbody tr th:only-of-type {\n",
       "        vertical-align: middle;\n",
       "    }\n",
       "\n",
       "    .dataframe tbody tr th {\n",
       "        vertical-align: top;\n",
       "    }\n",
       "\n",
       "    .dataframe thead th {\n",
       "        text-align: right;\n",
       "    }\n",
       "</style>\n",
       "<table border=\"1\" class=\"dataframe\">\n",
       "  <thead>\n",
       "    <tr style=\"text-align: right;\">\n",
       "      <th></th>\n",
       "      <th>ID</th>\n",
       "      <th>Gene</th>\n",
       "      <th>Variation</th>\n",
       "      <th>Text</th>\n",
       "      <th>Text_count</th>\n",
       "    </tr>\n",
       "  </thead>\n",
       "  <tbody>\n",
       "    <tr>\n",
       "      <th>0</th>\n",
       "      <td>1</td>\n",
       "      <td>CHEK2</td>\n",
       "      <td>H371Y</td>\n",
       "      <td>The incidence of breast cancer is increasing i...</td>\n",
       "      <td>5037</td>\n",
       "    </tr>\n",
       "    <tr>\n",
       "      <th>1</th>\n",
       "      <td>2</td>\n",
       "      <td>AXIN2</td>\n",
       "      <td>Truncating Mutations</td>\n",
       "      <td>An unselected series of 310 colorectal carcino...</td>\n",
       "      <td>10245</td>\n",
       "    </tr>\n",
       "    <tr>\n",
       "      <th>2</th>\n",
       "      <td>3</td>\n",
       "      <td>WNT4</td>\n",
       "      <td>E216G</td>\n",
       "      <td>Mycosis fungoides and Sézary syndrome are prim...</td>\n",
       "      <td>8549</td>\n",
       "    </tr>\n",
       "    <tr>\n",
       "      <th>3</th>\n",
       "      <td>4</td>\n",
       "      <td>SUCLA2</td>\n",
       "      <td>G118R</td>\n",
       "      <td>Regulated progression through the cell cycle ...</td>\n",
       "      <td>6168</td>\n",
       "    </tr>\n",
       "    <tr>\n",
       "      <th>4</th>\n",
       "      <td>5</td>\n",
       "      <td>BRAF</td>\n",
       "      <td>T599insTT</td>\n",
       "      <td>Pilocytic astrocytoma (PA) is emerging as a tu...</td>\n",
       "      <td>3262</td>\n",
       "    </tr>\n",
       "  </tbody>\n",
       "</table>\n",
       "</div>"
      ],
      "text/plain": [
       "   ID    Gene             Variation  \\\n",
       "0   1   CHEK2                 H371Y   \n",
       "1   2   AXIN2  Truncating Mutations   \n",
       "2   3    WNT4                 E216G   \n",
       "3   4  SUCLA2                 G118R   \n",
       "4   5    BRAF             T599insTT   \n",
       "\n",
       "                                                Text  Text_count  \n",
       "0  The incidence of breast cancer is increasing i...        5037  \n",
       "1  An unselected series of 310 colorectal carcino...       10245  \n",
       "2  Mycosis fungoides and Sézary syndrome are prim...        8549  \n",
       "3   Regulated progression through the cell cycle ...        6168  \n",
       "4  Pilocytic astrocytoma (PA) is emerging as a tu...        3262  "
      ]
     },
     "execution_count": 5,
     "metadata": {},
     "output_type": "execute_result"
    }
   ],
   "source": [
    "stage2test_merge_df.head()"
   ]
  },
  {
   "cell_type": "code",
   "execution_count": 7,
   "metadata": {},
   "outputs": [],
   "source": [
    "def extract_text_sections(Text, Gene, Variation, ID): \n",
    "    section=''\n",
    "    index = Text.find(Variation)\n",
    "    if index == -1:\n",
    "      Variation = 'mutation'\n",
    "      index = Text.find(Variation)\n",
    "    end_index = 0    \n",
    "    t = 0\n",
    "    index_list = []\n",
    "    while index != -1:\n",
    "      index_list.append(index)\n",
    "      old_index = index\n",
    "      index = Text.find(Variation, old_index+1)\n",
    "      t+ = 1\n",
    "    \n",
    "    \n",
    "    # for the case the variation appears less the 5 times\n",
    "    if t < 5 and t>0: \n",
    "  \n",
    "      for index in index_list: \n",
    "        # if two sections are overlapping \n",
    "        if index <= end_index: \n",
    "          # determine end point depending on if it's out of range or not \n",
    "          if index+int(2000/t) <= (len(Text)-1): \n",
    "            end = index+int(2000/t)\n",
    "          else: \n",
    "            end = (len(Text)-1)\n",
    "          section += Text[end_index:end]\n",
    "       \n",
    "        else: \n",
    "          # determine end point depending on if it's out of range or not\n",
    "          if index+int(2000/t) <=(len(Text)-1): \n",
    "            end = index+int(2000/t)\n",
    "          else: \n",
    "            end = (len(Text)-1)\n",
    "          # determine start point depending on if it's out of range or not\n",
    "          if index-int(2000/t) >= 0: \n",
    "            start = index-int(2000/t)\n",
    "          else: \n",
    "            start = 0\n",
    "          section += Text[start:end] \n",
    "         \n",
    "  \n",
    "        end_index = end\n",
    "    if t==0:\n",
    "      section = Text\n",
    "    else: \n",
    "       for index in index_list :\n",
    "        if index <= end_index: \n",
    "          # determine end point \n",
    "          if index+1000 <= (len(Text)-1): \n",
    "            end = index+1000\n",
    "          else: \n",
    "            end = (len(Text)-1)\n",
    "          section += Text[end_index:end]\n",
    "       \n",
    "        else: \n",
    "          if index+1000 <= (len(Text)-1): \n",
    "            end = index+1000\n",
    "          else: \n",
    "            end = (len(Text)-1)\n",
    "          if index-1000 >= 0: \n",
    "            start = index-1000\n",
    "          else: \n",
    "            start = 0\n",
    "          section += Text[start:end] \n",
    "        \n",
    "        end_index = end\n",
    "    section = section.replace('\\t', ' ')\n",
    "    return section\n",
    "   \n",
    "   \n"
   ]
  },
  {
   "cell_type": "code",
   "execution_count": 8,
   "metadata": {},
   "outputs": [],
   "source": [
    "stage2test_merge_df['text_modified'] = stage2test_merge_df[['Text', 'Gene','Variation', 'ID']].apply(lambda x: extract_text_sections(x[0].lower(), x[1].lower(), x[2].lower(), x[3]),axis=1)"
   ]
  },
  {
   "cell_type": "code",
   "execution_count": 9,
   "metadata": {},
   "outputs": [],
   "source": [
    "stage2test_merge_df.to_pickle('stage2test_1000.sav')"
   ]
  },
  {
   "cell_type": "code",
   "execution_count": 7,
   "metadata": {},
   "outputs": [
    {
     "data": {
      "text/html": [
       "<div>\n",
       "<style scoped>\n",
       "    .dataframe tbody tr th:only-of-type {\n",
       "        vertical-align: middle;\n",
       "    }\n",
       "\n",
       "    .dataframe tbody tr th {\n",
       "        vertical-align: top;\n",
       "    }\n",
       "\n",
       "    .dataframe thead th {\n",
       "        text-align: right;\n",
       "    }\n",
       "</style>\n",
       "<table border=\"1\" class=\"dataframe\">\n",
       "  <thead>\n",
       "    <tr style=\"text-align: right;\">\n",
       "      <th></th>\n",
       "      <th>ID</th>\n",
       "      <th>class1</th>\n",
       "      <th>class2</th>\n",
       "      <th>class3</th>\n",
       "      <th>class4</th>\n",
       "      <th>class5</th>\n",
       "      <th>class6</th>\n",
       "      <th>class7</th>\n",
       "      <th>class8</th>\n",
       "      <th>class9</th>\n",
       "    </tr>\n",
       "  </thead>\n",
       "  <tbody>\n",
       "    <tr>\n",
       "      <th>0</th>\n",
       "      <td>8</td>\n",
       "      <td>0</td>\n",
       "      <td>0</td>\n",
       "      <td>0</td>\n",
       "      <td>1</td>\n",
       "      <td>0</td>\n",
       "      <td>0</td>\n",
       "      <td>0</td>\n",
       "      <td>0</td>\n",
       "      <td>0</td>\n",
       "    </tr>\n",
       "    <tr>\n",
       "      <th>1</th>\n",
       "      <td>15</td>\n",
       "      <td>0</td>\n",
       "      <td>0</td>\n",
       "      <td>0</td>\n",
       "      <td>0</td>\n",
       "      <td>0</td>\n",
       "      <td>0</td>\n",
       "      <td>0</td>\n",
       "      <td>0</td>\n",
       "      <td>1</td>\n",
       "    </tr>\n",
       "    <tr>\n",
       "      <th>2</th>\n",
       "      <td>16</td>\n",
       "      <td>0</td>\n",
       "      <td>0</td>\n",
       "      <td>0</td>\n",
       "      <td>0</td>\n",
       "      <td>0</td>\n",
       "      <td>0</td>\n",
       "      <td>0</td>\n",
       "      <td>1</td>\n",
       "      <td>0</td>\n",
       "    </tr>\n",
       "    <tr>\n",
       "      <th>3</th>\n",
       "      <td>18</td>\n",
       "      <td>0</td>\n",
       "      <td>1</td>\n",
       "      <td>0</td>\n",
       "      <td>0</td>\n",
       "      <td>0</td>\n",
       "      <td>0</td>\n",
       "      <td>0</td>\n",
       "      <td>0</td>\n",
       "      <td>0</td>\n",
       "    </tr>\n",
       "    <tr>\n",
       "      <th>4</th>\n",
       "      <td>19</td>\n",
       "      <td>0</td>\n",
       "      <td>1</td>\n",
       "      <td>0</td>\n",
       "      <td>0</td>\n",
       "      <td>0</td>\n",
       "      <td>0</td>\n",
       "      <td>0</td>\n",
       "      <td>0</td>\n",
       "      <td>0</td>\n",
       "    </tr>\n",
       "  </tbody>\n",
       "</table>\n",
       "</div>"
      ],
      "text/plain": [
       "   ID  class1  class2  class3  class4  class5  class6  class7  class8  class9\n",
       "0   8       0       0       0       1       0       0       0       0       0\n",
       "1  15       0       0       0       0       0       0       0       0       1\n",
       "2  16       0       0       0       0       0       0       0       1       0\n",
       "3  18       0       1       0       0       0       0       0       0       0\n",
       "4  19       0       1       0       0       0       0       0       0       0"
      ]
     },
     "execution_count": 7,
     "metadata": {},
     "output_type": "execute_result"
    }
   ],
   "source": [
    "stage2test_class_df.head()"
   ]
  },
  {
   "cell_type": "code",
   "execution_count": 33,
   "metadata": {},
   "outputs": [
    {
     "data": {
      "text/html": [
       "<div>\n",
       "<style scoped>\n",
       "    .dataframe tbody tr th:only-of-type {\n",
       "        vertical-align: middle;\n",
       "    }\n",
       "\n",
       "    .dataframe tbody tr th {\n",
       "        vertical-align: top;\n",
       "    }\n",
       "\n",
       "    .dataframe thead th {\n",
       "        text-align: right;\n",
       "    }\n",
       "</style>\n",
       "<table border=\"1\" class=\"dataframe\">\n",
       "  <thead>\n",
       "    <tr style=\"text-align: right;\">\n",
       "      <th></th>\n",
       "      <th>ID</th>\n",
       "      <th>Class</th>\n",
       "    </tr>\n",
       "  </thead>\n",
       "  <tbody>\n",
       "    <tr>\n",
       "      <th>0</th>\n",
       "      <td>8</td>\n",
       "      <td>4</td>\n",
       "    </tr>\n",
       "    <tr>\n",
       "      <th>1</th>\n",
       "      <td>15</td>\n",
       "      <td>9</td>\n",
       "    </tr>\n",
       "    <tr>\n",
       "      <th>2</th>\n",
       "      <td>16</td>\n",
       "      <td>8</td>\n",
       "    </tr>\n",
       "    <tr>\n",
       "      <th>3</th>\n",
       "      <td>18</td>\n",
       "      <td>2</td>\n",
       "    </tr>\n",
       "    <tr>\n",
       "      <th>4</th>\n",
       "      <td>19</td>\n",
       "      <td>2</td>\n",
       "    </tr>\n",
       "  </tbody>\n",
       "</table>\n",
       "</div>"
      ],
      "text/plain": [
       "   ID  Class\n",
       "0   8      4\n",
       "1  15      9\n",
       "2  16      8\n",
       "3  18      2\n",
       "4  19      2"
      ]
     },
     "execution_count": 33,
     "metadata": {},
     "output_type": "execute_result"
    }
   ],
   "source": [
    "stage2test_class_df.columns = ['ID', 1, 2, 3, 4, 5, 6,\n",
    "       7, 8, 9]\n",
    "Class_df = pd.DataFrame()\n",
    "Class_df['ID'] = stage2test_class_df['ID']\n",
    "Class_df['Class'] =  stage2test_class_df[[1, 2, 3, 4, 5, 6,\n",
    "       7, 8, 9]].idxmax(axis=1)\n",
    "\n",
    "Class_df.head(5) #Takes the info from solution"
   ]
  },
  {
   "cell_type": "code",
   "execution_count": 34,
   "metadata": {},
   "outputs": [
    {
     "name": "stdout",
     "output_type": "stream",
     "text": [
      "Test classified (125, 6)\n"
     ]
    },
    {
     "data": {
      "text/html": [
       "<div>\n",
       "<style scoped>\n",
       "    .dataframe tbody tr th:only-of-type {\n",
       "        vertical-align: middle;\n",
       "    }\n",
       "\n",
       "    .dataframe tbody tr th {\n",
       "        vertical-align: top;\n",
       "    }\n",
       "\n",
       "    .dataframe thead th {\n",
       "        text-align: right;\n",
       "    }\n",
       "</style>\n",
       "<table border=\"1\" class=\"dataframe\">\n",
       "  <thead>\n",
       "    <tr style=\"text-align: right;\">\n",
       "      <th></th>\n",
       "      <th>ID</th>\n",
       "      <th>Gene</th>\n",
       "      <th>Variation</th>\n",
       "      <th>Text</th>\n",
       "      <th>Text_count</th>\n",
       "      <th>Class</th>\n",
       "    </tr>\n",
       "  </thead>\n",
       "  <tbody>\n",
       "    <tr>\n",
       "      <th>0</th>\n",
       "      <td>8</td>\n",
       "      <td>RNF6</td>\n",
       "      <td>G244D</td>\n",
       "      <td>Human ESCCs 2 occur frequently worldwide (1) ....</td>\n",
       "      <td>1741</td>\n",
       "      <td>4</td>\n",
       "    </tr>\n",
       "    <tr>\n",
       "      <th>1</th>\n",
       "      <td>15</td>\n",
       "      <td>ERBB2</td>\n",
       "      <td>G746S</td>\n",
       "      <td>The protein-kinase family is the most frequent...</td>\n",
       "      <td>11561</td>\n",
       "      <td>9</td>\n",
       "    </tr>\n",
       "    <tr>\n",
       "      <th>2</th>\n",
       "      <td>16</td>\n",
       "      <td>TP53</td>\n",
       "      <td>Y234S</td>\n",
       "      <td>Among the best-studied therapeutic targets in ...</td>\n",
       "      <td>15801</td>\n",
       "      <td>8</td>\n",
       "    </tr>\n",
       "    <tr>\n",
       "      <th>3</th>\n",
       "      <td>18</td>\n",
       "      <td>EGFR</td>\n",
       "      <td>P546S</td>\n",
       "      <td>Head and neck squamous cell carcinoma (HNSCC) ...</td>\n",
       "      <td>4092</td>\n",
       "      <td>2</td>\n",
       "    </tr>\n",
       "    <tr>\n",
       "      <th>4</th>\n",
       "      <td>19</td>\n",
       "      <td>ERBB2</td>\n",
       "      <td>G279E</td>\n",
       "      <td>Functional characterization of cancer-associat...</td>\n",
       "      <td>8273</td>\n",
       "      <td>2</td>\n",
       "    </tr>\n",
       "  </tbody>\n",
       "</table>\n",
       "</div>"
      ],
      "text/plain": [
       "   ID   Gene Variation                                               Text  \\\n",
       "0   8   RNF6     G244D  Human ESCCs 2 occur frequently worldwide (1) ....   \n",
       "1  15  ERBB2     G746S  The protein-kinase family is the most frequent...   \n",
       "2  16   TP53     Y234S  Among the best-studied therapeutic targets in ...   \n",
       "3  18   EGFR     P546S  Head and neck squamous cell carcinoma (HNSCC) ...   \n",
       "4  19  ERBB2     G279E  Functional characterization of cancer-associat...   \n",
       "\n",
       "   Text_count  Class  \n",
       "0        1741      4  \n",
       "1       11561      9  \n",
       "2       15801      8  \n",
       "3        4092      2  \n",
       "4        8273      2  "
      ]
     },
     "execution_count": 34,
     "metadata": {},
     "output_type": "execute_result"
    }
   ],
   "source": [
    "stage2test_classified_df = stage2test_merge_df.merge(Class_df,left_on=\"ID\",right_on=\"ID\")\n",
    "\n",
    "\n",
    "stage2test_classified_df.loc[:, 'Text_count'] = stage2test_classified_df[\"Text\"].apply(lambda x: len(str(x).split()) )\n",
    "stage2test_classified_df = stage2test_classified_df[stage2test_classified_df['Text_count'] != 1]\n",
    "\n",
    "print('Test classified'.ljust(15),stage2test_classified_df.shape)\n",
    "stage2test_classified_df.head(5)"
   ]
  },
  {
   "cell_type": "code",
   "execution_count": 35,
   "metadata": {},
   "outputs": [],
   "source": [
    "#stage2test_classified_df[['Text'].to_pickle('stage2test_text_only_with_classes.sav')\n",
    "stage2test_classified_df[['ID','Class']].to_pickle('stage2test_classes.sav')"
   ]
  }
 ],
 "metadata": {
  "accelerator": "GPU",
  "colab": {
   "default_view": {},
   "name": "Training_and_Test_files.ipynb",
   "private_outputs": true,
   "provenance": [],
   "version": "0.3.2",
   "views": {}
  },
  "kernelspec": {
   "display_name": "Python 3",
   "language": "python",
   "name": "python3"
  },
  "language_info": {
   "codemirror_mode": {
    "name": "ipython",
    "version": 3
   },
   "file_extension": ".py",
   "mimetype": "text/x-python",
   "name": "python",
   "nbconvert_exporter": "python",
   "pygments_lexer": "ipython3",
   "version": "3.6.4"
  }
 },
 "nbformat": 4,
 "nbformat_minor": 2
}
