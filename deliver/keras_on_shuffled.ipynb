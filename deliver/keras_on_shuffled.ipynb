{
 "cells": [
  {
   "cell_type": "markdown",
   "metadata": {},
   "source": [
    "## Imports"
   ]
  },
  {
   "cell_type": "code",
   "execution_count": 1,
   "metadata": {},
   "outputs": [
    {
     "name": "stderr",
     "output_type": "stream",
     "text": [
      "/home/ramona/anaconda3/lib/python3.6/site-packages/h5py/__init__.py:36: FutureWarning: Conversion of the second argument of issubdtype from `float` to `np.floating` is deprecated. In future, it will be treated as `np.float64 == np.dtype(float).type`.\n",
      "  from ._conv import register_converters as _register_converters\n",
      "Using TensorFlow backend.\n",
      "/home/ramona/anaconda3/lib/python3.6/importlib/_bootstrap.py:219: RuntimeWarning: numpy.dtype size changed, may indicate binary incompatibility. Expected 96, got 88\n",
      "  return f(*args, **kwds)\n",
      "/home/ramona/anaconda3/lib/python3.6/importlib/_bootstrap.py:219: ImportWarning: can't resolve package from __spec__ or __package__, falling back on __name__ and __path__\n",
      "  return f(*args, **kwds)\n",
      "/home/ramona/anaconda3/lib/python3.6/importlib/_bootstrap.py:219: ImportWarning: can't resolve package from __spec__ or __package__, falling back on __name__ and __path__\n",
      "  return f(*args, **kwds)\n"
     ]
    }
   ],
   "source": [
    "import datetime\n",
    "import pandas as pd\n",
    "import numpy as np\n",
    "import pickle\n",
    "import sys\n",
    "sys.path.append('../utils/')\n",
    "from Read_data import read_data\n",
    "from evaluation import evaluation_class\n",
    "import ourPreprocessor\n",
    "from sklearn.metrics import make_scorer\n",
    "from sklearn.metrics import log_loss\n",
    "from sklearn.externals import joblib\n",
    "    \n",
    "from keras.wrappers.scikit_learn import KerasClassifier\n",
    "from keras.models import Sequential\n",
    "from keras.layers import Dense\n",
    "from sklearn.model_selection import train_test_split\n",
    "from keras.utils import np_utils\n",
    "\n",
    "from sklearn.preprocessing import MinMaxScaler\n",
    "from keras.models import load_model\n",
    "\n",
    "from keras.layers import Dense, Dropout, LSTM, Embedding, Input, RepeatVector\n",
    "from keras.optimizers import SGD\n",
    "from sklearn.preprocessing import LabelEncoder \n",
    "from keras.utils import to_categorical"
   ]
  },
  {
   "cell_type": "markdown",
   "metadata": {},
   "source": [
    "## Preparing the data"
   ]
  },
  {
   "cell_type": "markdown",
   "metadata": {},
   "source": [
    "Loading data\n"
   ]
  },
  {
   "cell_type": "code",
   "execution_count": 2,
   "metadata": {},
   "outputs": [
    {
     "name": "stdout",
     "output_type": "stream",
     "text": [
      "X_train: (3683, 110) Y_test: (125,) X_test: (986, 110) Y_train: (3683,)\n",
      "(125,)\n",
      "(125, 110)\n"
     ]
    }
   ],
   "source": [
    "# Loading data\n",
    "pipelinetime = '18-05-30-17-11'\n",
    "X_train, Y_train, X_test, Y_test, Y_train_cateogorial, Y_test_cateogorial = read_data(pipelinetime, stack = True, stage2=False)\n",
    "print('X_train:', X_train.shape,  'Y_test:', Y_test.shape, 'X_test:',X_test.shape, 'Y_train:',Y_train.shape)\n",
    "\n",
    "Y_test_stage2_id = pd.read_pickle('../utils/stage2_data/stage2test_classes.sav')['ID'].values\n",
    "print(Y_test.shape)\n",
    "X_test = np.take(X_test,(list(Y_test_stage2_id-1)), axis =0)\n",
    "print(X_test.shape)\n",
    "X = np.vstack((X_train,  X_test))\n",
    "Y = np.hstack((Y_train,  Y_test))\n",
    "X_train, X_test, Y_train, Y_test = train_test_split(X, Y, test_size=125)\n",
    "\n",
    "\n",
    "\n",
    "\n",
    "\n",
    "#Oversampling \n",
    "from imblearn.over_sampling import ADASYN\n",
    "X_resampled, y_resampled = ADASYN(ratio='auto').fit_sample(X_train,Y_train)\n",
    "\n",
    "#Normalize\n",
    "normalizer = MinMaxScaler()\n",
    "X_resampled = normalizer.fit_transform(X_resampled)\n",
    "X_test = normalizer.transform(X_test)"
   ]
  },
  {
   "cell_type": "code",
   "execution_count": 3,
   "metadata": {},
   "outputs": [],
   "source": [
    "encoder = LabelEncoder()\n",
    "encoder.fit(y_resampled .astype(str))\n",
    "encoded_y = encoder.transform(y_resampled)\n",
    "Y_train_cateogorial = to_categorical(encoded_y)"
   ]
  },
  {
   "cell_type": "markdown",
   "metadata": {},
   "source": [
    "## Training the Model and Predicting the Ytest"
   ]
  },
  {
   "cell_type": "code",
   "execution_count": 39,
   "metadata": {},
   "outputs": [
    {
     "name": "stderr",
     "output_type": "stream",
     "text": [
      "/home/ramona/anaconda3/lib/python3.6/site-packages/tensorflow/python/util/tf_inspect.py:55: DeprecationWarning: inspect.getargspec() is deprecated, use inspect.signature() or inspect.getfullargspec()\n",
      "  if d.decorator_argspec is not None), _inspect.getargspec(target))\n",
      "/home/ramona/anaconda3/lib/python3.6/site-packages/tensorflow/python/util/tf_inspect.py:55: DeprecationWarning: inspect.getargspec() is deprecated, use inspect.signature() or inspect.getfullargspec()\n",
      "  if d.decorator_argspec is not None), _inspect.getargspec(target))\n",
      "/home/ramona/anaconda3/lib/python3.6/site-packages/tensorflow/python/util/tf_inspect.py:55: DeprecationWarning: inspect.getargspec() is deprecated, use inspect.signature() or inspect.getfullargspec()\n",
      "  if d.decorator_argspec is not None), _inspect.getargspec(target))\n",
      "/home/ramona/anaconda3/lib/python3.6/site-packages/tensorflow/python/util/tf_inspect.py:55: DeprecationWarning: inspect.getargspec() is deprecated, use inspect.signature() or inspect.getfullargspec()\n",
      "  if d.decorator_argspec is not None), _inspect.getargspec(target))\n",
      "/home/ramona/anaconda3/lib/python3.6/site-packages/tensorflow/python/util/tf_inspect.py:55: DeprecationWarning: inspect.getargspec() is deprecated, use inspect.signature() or inspect.getfullargspec()\n",
      "  if d.decorator_argspec is not None), _inspect.getargspec(target))\n",
      "/home/ramona/anaconda3/lib/python3.6/site-packages/tensorflow/python/util/tf_inspect.py:55: DeprecationWarning: inspect.getargspec() is deprecated, use inspect.signature() or inspect.getfullargspec()\n",
      "  if d.decorator_argspec is not None), _inspect.getargspec(target))\n",
      "/home/ramona/anaconda3/lib/python3.6/site-packages/tensorflow/python/util/tf_inspect.py:55: DeprecationWarning: inspect.getargspec() is deprecated, use inspect.signature() or inspect.getfullargspec()\n",
      "  if d.decorator_argspec is not None), _inspect.getargspec(target))\n",
      "/home/ramona/anaconda3/lib/python3.6/site-packages/tensorflow/python/util/tf_inspect.py:55: DeprecationWarning: inspect.getargspec() is deprecated, use inspect.signature() or inspect.getfullargspec()\n",
      "  if d.decorator_argspec is not None), _inspect.getargspec(target))\n",
      "/home/ramona/anaconda3/lib/python3.6/site-packages/tensorflow/python/util/tf_inspect.py:55: DeprecationWarning: inspect.getargspec() is deprecated, use inspect.signature() or inspect.getfullargspec()\n",
      "  if d.decorator_argspec is not None), _inspect.getargspec(target))\n",
      "/home/ramona/anaconda3/lib/python3.6/site-packages/tensorflow/python/util/tf_inspect.py:55: DeprecationWarning: inspect.getargspec() is deprecated, use inspect.signature() or inspect.getfullargspec()\n",
      "  if d.decorator_argspec is not None), _inspect.getargspec(target))\n",
      "/home/ramona/anaconda3/lib/python3.6/site-packages/tensorflow/python/util/tf_inspect.py:55: DeprecationWarning: inspect.getargspec() is deprecated, use inspect.signature() or inspect.getfullargspec()\n",
      "  if d.decorator_argspec is not None), _inspect.getargspec(target))\n",
      "/home/ramona/anaconda3/lib/python3.6/site-packages/tensorflow/python/util/tf_inspect.py:55: DeprecationWarning: inspect.getargspec() is deprecated, use inspect.signature() or inspect.getfullargspec()\n",
      "  if d.decorator_argspec is not None), _inspect.getargspec(target))\n",
      "/home/ramona/anaconda3/lib/python3.6/site-packages/tensorflow/python/util/tf_inspect.py:55: DeprecationWarning: inspect.getargspec() is deprecated, use inspect.signature() or inspect.getfullargspec()\n",
      "  if d.decorator_argspec is not None), _inspect.getargspec(target))\n",
      "/home/ramona/anaconda3/lib/python3.6/site-packages/tensorflow/python/util/tf_inspect.py:55: DeprecationWarning: inspect.getargspec() is deprecated, use inspect.signature() or inspect.getfullargspec()\n",
      "  if d.decorator_argspec is not None), _inspect.getargspec(target))\n",
      "/home/ramona/anaconda3/lib/python3.6/site-packages/tensorflow/python/util/tf_inspect.py:55: DeprecationWarning: inspect.getargspec() is deprecated, use inspect.signature() or inspect.getfullargspec()\n",
      "  if d.decorator_argspec is not None), _inspect.getargspec(target))\n",
      "/home/ramona/anaconda3/lib/python3.6/site-packages/tensorflow/python/util/tf_inspect.py:55: DeprecationWarning: inspect.getargspec() is deprecated, use inspect.signature() or inspect.getfullargspec()\n",
      "  if d.decorator_argspec is not None), _inspect.getargspec(target))\n",
      "/home/ramona/anaconda3/lib/python3.6/site-packages/tensorflow/python/util/tf_inspect.py:55: DeprecationWarning: inspect.getargspec() is deprecated, use inspect.signature() or inspect.getfullargspec()\n",
      "  if d.decorator_argspec is not None), _inspect.getargspec(target))\n"
     ]
    },
    {
     "name": "stdout",
     "output_type": "stream",
     "text": [
      "_________________________________________________________________\n",
      "Layer (type)                 Output Shape              Param #   \n",
      "=================================================================\n",
      "dense_17 (Dense)             (None, 12)                1332      \n",
      "_________________________________________________________________\n",
      "dense_18 (Dense)             (None, 12)                156       \n",
      "_________________________________________________________________\n",
      "dense_19 (Dense)             (None, 9)                 117       \n",
      "=================================================================\n",
      "Total params: 1,605\n",
      "Trainable params: 1,605\n",
      "Non-trainable params: 0\n",
      "_________________________________________________________________\n"
     ]
    },
    {
     "name": "stderr",
     "output_type": "stream",
     "text": [
      "/home/ramona/anaconda3/lib/python3.6/site-packages/tensorflow/python/util/tf_inspect.py:55: DeprecationWarning: inspect.getargspec() is deprecated, use inspect.signature() or inspect.getfullargspec()\n",
      "  if d.decorator_argspec is not None), _inspect.getargspec(target))\n",
      "/home/ramona/anaconda3/lib/python3.6/site-packages/tensorflow/python/util/tf_inspect.py:55: DeprecationWarning: inspect.getargspec() is deprecated, use inspect.signature() or inspect.getfullargspec()\n",
      "  if d.decorator_argspec is not None), _inspect.getargspec(target))\n",
      "/home/ramona/anaconda3/lib/python3.6/site-packages/tensorflow/python/util/tf_inspect.py:55: DeprecationWarning: inspect.getargspec() is deprecated, use inspect.signature() or inspect.getfullargspec()\n",
      "  if d.decorator_argspec is not None), _inspect.getargspec(target))\n",
      "/home/ramona/anaconda3/lib/python3.6/site-packages/tensorflow/python/util/tf_inspect.py:55: DeprecationWarning: inspect.getargspec() is deprecated, use inspect.signature() or inspect.getfullargspec()\n",
      "  if d.decorator_argspec is not None), _inspect.getargspec(target))\n",
      "/home/ramona/anaconda3/lib/python3.6/site-packages/tensorflow/python/util/tf_inspect.py:55: DeprecationWarning: inspect.getargspec() is deprecated, use inspect.signature() or inspect.getfullargspec()\n",
      "  if d.decorator_argspec is not None), _inspect.getargspec(target))\n",
      "/home/ramona/anaconda3/lib/python3.6/site-packages/tensorflow/python/util/tf_inspect.py:55: DeprecationWarning: inspect.getargspec() is deprecated, use inspect.signature() or inspect.getfullargspec()\n",
      "  if d.decorator_argspec is not None), _inspect.getargspec(target))\n",
      "/home/ramona/anaconda3/lib/python3.6/site-packages/tensorflow/python/util/tf_inspect.py:55: DeprecationWarning: inspect.getargspec() is deprecated, use inspect.signature() or inspect.getfullargspec()\n",
      "  if d.decorator_argspec is not None), _inspect.getargspec(target))\n",
      "/home/ramona/anaconda3/lib/python3.6/site-packages/tensorflow/python/util/tf_inspect.py:55: DeprecationWarning: inspect.getargspec() is deprecated, use inspect.signature() or inspect.getfullargspec()\n",
      "  if d.decorator_argspec is not None), _inspect.getargspec(target))\n"
     ]
    },
    {
     "name": "stdout",
     "output_type": "stream",
     "text": [
      "Train on 8278 samples, validate on 920 samples\n",
      "Epoch 1/20\n",
      "8278/8278 [==============================] - 1s 104us/step - loss: 2.1554 - acc: 0.1569 - val_loss: 2.7346 - val_acc: 0.0000e+00\n",
      "Epoch 2/20\n",
      "8278/8278 [==============================] - 0s 40us/step - loss: 2.0434 - acc: 0.2444 - val_loss: 3.6969 - val_acc: 0.0000e+00\n",
      "Epoch 3/20\n",
      "8278/8278 [==============================] - 0s 40us/step - loss: 1.9013 - acc: 0.3462 - val_loss: 4.2245 - val_acc: 0.0000e+00\n",
      "Epoch 4/20\n",
      "8278/8278 [==============================] - 0s 39us/step - loss: 1.7568 - acc: 0.3738 - val_loss: 4.2522 - val_acc: 0.0000e+00\n",
      "Epoch 5/20\n",
      "8278/8278 [==============================] - 0s 40us/step - loss: 1.6487 - acc: 0.3968 - val_loss: 4.0792 - val_acc: 0.0000e+00\n",
      "Epoch 6/20\n",
      "8278/8278 [==============================] - 0s 39us/step - loss: 1.5690 - acc: 0.4255 - val_loss: 3.9988 - val_acc: 0.0000e+00\n",
      "Epoch 7/20\n",
      "8278/8278 [==============================] - 0s 38us/step - loss: 1.5118 - acc: 0.4532 - val_loss: 3.9930 - val_acc: 0.0000e+00\n",
      "Epoch 8/20\n",
      "8278/8278 [==============================] - 0s 39us/step - loss: 1.4637 - acc: 0.4755 - val_loss: 3.9222 - val_acc: 0.0000e+00\n",
      "Epoch 9/20\n",
      "8278/8278 [==============================] - 0s 39us/step - loss: 1.4225 - acc: 0.4930 - val_loss: 3.8327 - val_acc: 0.0000e+00\n",
      "Epoch 10/20\n",
      "8278/8278 [==============================] - 0s 40us/step - loss: 1.3882 - acc: 0.5006 - val_loss: 3.7780 - val_acc: 0.0000e+00\n",
      "Epoch 11/20\n",
      "8278/8278 [==============================] - 0s 40us/step - loss: 1.3577 - acc: 0.5122 - val_loss: 3.6303 - val_acc: 0.0000e+00\n",
      "Epoch 12/20\n",
      "8278/8278 [==============================] - 0s 39us/step - loss: 1.3350 - acc: 0.5211 - val_loss: 3.6908 - val_acc: 0.0000e+00\n",
      "Epoch 13/20\n",
      "8278/8278 [==============================] - 0s 40us/step - loss: 1.3126 - acc: 0.5300 - val_loss: 3.4969 - val_acc: 0.0000e+00\n",
      "Epoch 14/20\n",
      "8278/8278 [==============================] - 0s 41us/step - loss: 1.2934 - acc: 0.5318 - val_loss: 3.3483 - val_acc: 0.0000e+00\n",
      "Epoch 15/20\n",
      "8278/8278 [==============================] - 0s 39us/step - loss: 1.2699 - acc: 0.5396 - val_loss: 3.4372 - val_acc: 0.0000e+00\n",
      "Epoch 16/20\n",
      "8278/8278 [==============================] - 0s 39us/step - loss: 1.2602 - acc: 0.5419 - val_loss: 3.4116 - val_acc: 0.0000e+00\n",
      "Epoch 17/20\n",
      "8278/8278 [==============================] - 0s 40us/step - loss: 1.2391 - acc: 0.5522 - val_loss: 3.4789 - val_acc: 0.0000e+00\n",
      "Epoch 18/20\n",
      "8278/8278 [==============================] - 0s 39us/step - loss: 1.2309 - acc: 0.5501 - val_loss: 3.3151 - val_acc: 0.0000e+00\n",
      "Epoch 19/20\n",
      "8278/8278 [==============================] - 0s 40us/step - loss: 1.2151 - acc: 0.5581 - val_loss: 3.3162 - val_acc: 0.0000e+00\n",
      "Epoch 20/20\n",
      "8278/8278 [==============================] - 0s 38us/step - loss: 1.2022 - acc: 0.5608 - val_loss: 3.3529 - val_acc: 0.0000e+00\n"
     ]
    }
   ],
   "source": [
    "modeltime = datetime.datetime.now().strftime(\"%y-%m-%d-%H-%M\")\n",
    "def baseline_model():\n",
    "    model = Sequential()\n",
    "    model.add(Dense(12, input_dim=110, activation='relu'))\n",
    "    model.add(Dense(12, activation='relu'))\n",
    "    model.add(Dense(9, activation=\"softmax\"))\n",
    "    model.compile(loss='categorical_crossentropy', optimizer='adam', metrics=['accuracy'])\n",
    "    return model\n",
    "\n",
    "model = baseline_model()\n",
    "model.summary()\n",
    "\n",
    "\n",
    "estimator=model.fit(X_resampled,Y_train_cateogorial, epochs=20, batch_size=64, validation_split=0.1)"
   ]
  },
  {
   "cell_type": "code",
   "execution_count": 40,
   "metadata": {},
   "outputs": [],
   "source": [
    "model.model.save('models/keras_'+modeltime+'.h5')\n",
    "pred = model.predict_proba(X_test)"
   ]
  },
  {
   "cell_type": "code",
   "execution_count": 41,
   "metadata": {},
   "outputs": [],
   "source": [
    "submission = pd.DataFrame(pred, columns=['class'+str(c+1) for c in range(9)])\n",
    "if pred.shape[0] >200:\n",
    "    submission['ID'] = np.arange(1,987)\n",
    "else: \n",
    "    submission['ID'] = np.arange(1,126)\n",
    "submission.to_csv('submissions/submission_keras_' + pipelinetime+'_'+ modeltime +'.csv', index=False)"
   ]
  },
  {
   "cell_type": "markdown",
   "metadata": {},
   "source": [
    "# Weighted average and Leak "
   ]
  },
  {
   "cell_type": "code",
   "execution_count": 42,
   "metadata": {},
   "outputs": [
    {
     "data": {
      "text/plain": [
       "'18-06-04-16-19'"
      ]
     },
     "execution_count": 42,
     "metadata": {},
     "output_type": "execute_result"
    }
   ],
   "source": [
    "modeltime"
   ]
  },
  {
   "cell_type": "code",
   "execution_count": 43,
   "metadata": {},
   "outputs": [],
   "source": [
    "#Loading submission with recent time\n",
    "submission_filled = pd.read_csv('submissions/submission_keras_'+pipelinetime+'_'+ modeltime+'.csv')\n",
    "submission_filled = submission_filled.drop('ID', axis = 1).values\n",
    "submission_all_1_over_9 = pd.read_csv('submissions/submission_sample_fullwith01111.csv')\n",
    "submission_all_1_over_9= submission_all_1_over_9.drop('ID', axis = 1).values[:125,:]\n",
    "\n",
    "#weighted average\n",
    "weighting = (6,4)\n",
    "submission_wighted_average = (submission_filled*weighting[0] +submission_all_1_over_9*weighting[1])/10\n",
    "submission_wighted_average\n",
    "\n",
    "# transforming the weighted average into the right format and save it in submissions\n",
    "submission_wighted_average = pd.DataFrame(submission_wighted_average, columns=['class'+str(c+1) for c in range(9)])\n",
    "submission_wighted_average['ID'] = np.arange(1,126)\n",
    "submission_wighted_average.to_csv('submissions/submission_keras_wighted_average'+str(weighting) + pipelinetime+'_'+ modeltime +'.csv', index=False)"
   ]
  },
  {
   "cell_type": "markdown",
   "metadata": {},
   "source": [
    "# evaluation "
   ]
  },
  {
   "cell_type": "code",
   "execution_count": 44,
   "metadata": {},
   "outputs": [
    {
     "name": "stdout",
     "output_type": "stream",
     "text": [
      "[[0.07785543 0.24482404 0.0496887  ... 0.24955374 0.08611539 0.07802212]\n",
      " [0.07103291 0.0455948  0.14477116 ... 0.04564754 0.04451984 0.04448518]\n",
      " [0.18255748 0.04894172 0.04886854 ... 0.04731944 0.0449149  0.0450479 ]\n",
      " ...\n",
      " [0.11896734 0.12233406 0.09394944 ... 0.11997722 0.0572243  0.05861889]\n",
      " [0.04916726 0.31406656 0.04491806 ... 0.34002448 0.05275311 0.04477002]\n",
      " [0.13773393 0.12862145 0.06774388 ... 0.12030498 0.05964161 0.05934855]]\n"
     ]
    }
   ],
   "source": [
    "#weighting = (3,7)\n",
    "preds = pd.read_csv('submissions/submission_keras_wighted_average'+str(weighting) + pipelinetime +'_'+ modeltime+'.csv')\\\n",
    "           .drop('ID',axis=1)\\\n",
    "           .values\n",
    "print(preds)\n",
    "if preds.shape[0] > 200:\n",
    "    Y_test_stage2_id = pd.read_pickle('../utils/stage2_data/stage2test_classes.sav')['ID'].values\n",
    "    preds = np.take(preds,(list(Y_test_stage2_id-1)), axis =0)  "
   ]
  },
  {
   "cell_type": "code",
   "execution_count": 45,
   "metadata": {},
   "outputs": [
    {
     "name": "stderr",
     "output_type": "stream",
     "text": [
      "/home/ramona/anaconda3/lib/python3.6/site-packages/sklearn/metrics/classification.py:1135: UndefinedMetricWarning: F-score is ill-defined and being set to 0.0 in labels with no predicted samples.\n",
      "  'precision', 'predicted', average, warn_for)\n"
     ]
    },
    {
     "name": "stdout",
     "output_type": "stream",
     "text": [
      "Accuracy: 0.416 Log loss: 1.5862111016496163 F1 micro: 0.416 F1 macro: 0.3621337579333872\n"
     ]
    },
    {
     "data": {
      "image/png": "[encoded data removed]",
      "text/plain": [
       "<matplotlib.figure.Figure at 0x7f16b0691a90>"
      ]
     },
     "metadata": {},
     "output_type": "display_data"
    },
    {
     "data": {
      "image/png": "[encoded data removed]",
      "text/plain": [
       "<matplotlib.figure.Figure at 0x7f16a8005dd8>"
      ]
     },
     "metadata": {},
     "output_type": "display_data"
    },
    {
     "name": "stdout",
     "output_type": "stream",
     "text": [
      "one row with the evaluation data is appended at /mnt/4_TB_HD/ramona/develop/results.csv\n"
     ]
    }
   ],
   "source": [
    "ev = evaluation_class(1000,y_pred=preds, Y_test=Y_test)\n",
    "ev.entire_evaluation()"
   ]
  },
  {
   "cell_type": "code",
   "execution_count": null,
   "metadata": {},
   "outputs": [],
   "source": []
  }
 ],
 "metadata": {
  "kernelspec": {
   "display_name": "Python 3",
   "language": "python",
   "name": "python3"
  },
  "language_info": {
   "codemirror_mode": {
    "name": "ipython",
    "version": 3
   },
   "file_extension": ".py",
   "mimetype": "text/x-python",
   "name": "python",
   "nbconvert_exporter": "python",
   "pygments_lexer": "ipython3",
   "version": "3.6.4"
  }
 },
 "nbformat": 4,
 "nbformat_minor": 2
}
