{
 "cells": [
  {
   "cell_type": "markdown",
   "metadata": {},
   "source": [
    "# Training with CatBoostClassifier\n"
   ]
  },
  {
   "cell_type": "markdown",
   "metadata": {},
   "source": [
    "**In this notebook:**\n",
    "* training CatBoostClassifier\n",
    "* test model on test data set\n",
    "* save prediction in Kaggle submission format\n",
    "\n",
    "**Key insights:**\n",
    "* reaching logloss of 2.05 \n",
    "* test accuracy is low"
   ]
  },
  {
   "cell_type": "markdown",
   "metadata": {},
   "source": [
    "## Installations"
   ]
  },
  {
   "cell_type": "code",
   "execution_count": 1,
   "metadata": {
    "ExecuteTime": {
     "end_time": "2020-11-10T00:22:53.753093Z",
     "start_time": "2020-11-10T00:22:53.736496Z"
    }
   },
   "outputs": [],
   "source": [
    "#!pip install catboost"
   ]
  },
  {
   "cell_type": "markdown",
   "metadata": {},
   "source": [
    "## Imports"
   ]
  },
  {
   "cell_type": "code",
   "execution_count": 2,
   "metadata": {
    "ExecuteTime": {
     "end_time": "2020-11-10T00:23:22.906047Z",
     "start_time": "2020-11-10T00:22:53.763238Z"
    }
   },
   "outputs": [
    {
     "name": "stderr",
     "output_type": "stream",
     "text": [
      "Using TensorFlow backend.\n"
     ]
    }
   ],
   "source": [
    "%load_ext autoreload\n",
    "%autoreload 2\n",
    "\n",
    "import datetime\n",
    "import pandas as pd\n",
    "import numpy as np\n",
    "import os\n",
    "import sys\n",
    "import matplotlib.pyplot as plt\n",
    "from catboost import CatBoostClassifier\n",
    "from imblearn.over_sampling import ADASYN\n",
    "\n",
    "sys.path.append(\"../utils/\")\n",
    "\n",
    "from evaluation import Evaluation"
   ]
  },
  {
   "cell_type": "markdown",
   "metadata": {},
   "source": [
    "## Load Data"
   ]
  },
  {
   "cell_type": "code",
   "execution_count": 3,
   "metadata": {
    "ExecuteTime": {
     "end_time": "2020-11-10T00:23:23.521292Z",
     "start_time": "2020-11-10T00:23:22.914584Z"
    }
   },
   "outputs": [
    {
     "name": "stdout",
     "output_type": "stream",
     "text": [
      "Training Data Shape: (3683, 110)\n",
      "Test Data Shape:     (986, 110)\n"
     ]
    }
   ],
   "source": [
    "data_path = \"../../data/msk-redefining-cancer-treatment\"\n",
    "x_train = np.load(os.path.join(data_path, \"processed/x_train\"), allow_pickle=True)\n",
    "y_train = np.load(os.path.join(data_path, \"processed/y_train\"), allow_pickle=True)\n",
    "x_test = np.load(os.path.join(data_path, \"processed/x_test\"), allow_pickle=True)\n",
    "y_test = np.load(os.path.join(data_path, \"processed/y_test\"), allow_pickle=True)\n",
    "print(\"Training Data Shape:\".ljust(20), x_train.shape)\n",
    "print(\"Test Data Shape:\".ljust(20), x_test.shape)"
   ]
  },
  {
   "cell_type": "markdown",
   "metadata": {},
   "source": [
    "## Prepare Data"
   ]
  },
  {
   "cell_type": "code",
   "execution_count": 4,
   "metadata": {
    "ExecuteTime": {
     "end_time": "2020-11-10T00:23:25.120966Z",
     "start_time": "2020-11-10T00:23:23.526869Z"
    }
   },
   "outputs": [
    {
     "name": "stdout",
     "output_type": "stream",
     "text": [
      "Training Data Shape after Oversampling: (9493, 110)\n"
     ]
    },
    {
     "data": {
      "text/plain": [
       "<BarContainer object of 9 artists>"
      ]
     },
     "execution_count": 4,
     "metadata": {},
     "output_type": "execute_result"
    },
    {
     "data": {
      "image/png": "[encoded data removed]",
      "text/plain": [
       "<Figure size 432x288 with 1 Axes>"
      ]
     },
     "metadata": {
      "needs_background": "light"
     },
     "output_type": "display_data"
    }
   ],
   "source": [
    "# Oversampling\n",
    "x_train, y_train = ADASYN(sampling_strategy=\"auto\").fit_sample(x_train, y_train)\n",
    "print(\"Training Data Shape after Oversampling:\", x_train.shape)\n",
    "plt.title(\"Distribution of labels after oversampling\")\n",
    "plt.xlabel(\"Labels\")\n",
    "plt.ylabel(\"Numbers of samples per class\")\n",
    "plt.bar(\n",
    "    np.unique(y_train, return_counts=True)[0], np.unique(y_train, return_counts=True)[1]\n",
    ")"
   ]
  },
  {
   "cell_type": "code",
   "execution_count": 5,
   "metadata": {
    "ExecuteTime": {
     "end_time": "2020-11-10T00:23:25.267297Z",
     "start_time": "2020-11-10T00:23:25.133184Z"
    }
   },
   "outputs": [],
   "source": [
    "# new labels 0,1,...8\n",
    "y_train = y_train - 1\n",
    "y_test = y_test - 1 "
   ]
  },
  {
   "cell_type": "markdown",
   "metadata": {},
   "source": [
    "## Training Models"
   ]
  },
  {
   "cell_type": "code",
   "execution_count": 6,
   "metadata": {
    "ExecuteTime": {
     "end_time": "2020-11-10T00:23:25.369240Z",
     "start_time": "2020-11-10T00:23:25.277666Z"
    }
   },
   "outputs": [],
   "source": [
    "# initialize model\n",
    "model = CatBoostClassifier(\n",
    "    iterations=250,\n",
    "    learning_rate=0.01,\n",
    "    depth=4,\n",
    "    l2_leaf_reg=3,\n",
    "    model_size_reg=10,\n",
    "    rsm=None,\n",
    "    loss_function=\"MultiClass\", # Negative Log Likelihood Loss \n",
    "    random_seed=100,\n",
    "    classes_count=9,\n",
    "    verbose=False,\n",
    "    bagging_temperature=1.0,\n",
    "    boosting_type=\"Plain\",  # Ordered — Usually provides better quality on small datasets, but it may be slower than the Plain scheme. Plain — The classic gradient boosting scheme.\n",
    "    max_bin=255,\n",
    ")"
   ]
  },
  {
   "cell_type": "code",
   "execution_count": 7,
   "metadata": {
    "ExecuteTime": {
     "end_time": "2020-11-10T00:23:52.209919Z",
     "start_time": "2020-11-10T00:23:25.378691Z"
    }
   },
   "outputs": [
    {
     "data": {
      "text/plain": [
       "<catboost.core.CatBoostClassifier at 0x7f39c95cb990>"
      ]
     },
     "execution_count": 7,
     "metadata": {},
     "output_type": "execute_result"
    }
   ],
   "source": [
    "modeltime = datetime.datetime.now().strftime(\"%y-%m-%d-%H-%M-%S\")\n",
    "\n",
    "# train the model\n",
    "model.fit(x_train, y_train, verbose_eval=0)"
   ]
  },
  {
   "cell_type": "code",
   "execution_count": 8,
   "metadata": {
    "ExecuteTime": {
     "end_time": "2020-11-10T00:23:52.331199Z",
     "start_time": "2020-11-10T00:23:52.217058Z"
    }
   },
   "outputs": [
    {
     "data": {
      "text/plain": [
       "{'learn': {'MultiClass': [2.1891149689779703,\n",
       "   2.1789091689873974,\n",
       "   2.1701073710202015,\n",
       "   2.1611275439980275,\n",
       "   2.1513863171651852,\n",
       "   2.142637482121324,\n",
       "   2.135146522104353,\n",
       "   2.1270162908750745,\n",
       "   2.1184116825177175,\n",
       "   2.1103188110326747,\n",
       "   2.101577271980214,\n",
       "   2.0931742833526803,\n",
       "   2.085689736187198,\n",
       "   2.078192815595903,\n",
       "   2.0708107956493667,\n",
       "   2.0640889748100584,\n",
       "   2.0571448334204825,\n",
       "   2.0503025595521964,\n",
       "   2.0427695364905665,\n",
       "   2.036134964600701,\n",
       "   2.0304360736853933,\n",
       "   2.0238674814586988,\n",
       "   2.0180416454328696,\n",
       "   2.012278384527866,\n",
       "   2.0068260125632986,\n",
       "   1.9992925672682023,\n",
       "   1.9936534394096075,\n",
       "   1.9885734617338187,\n",
       "   1.982499242602474,\n",
       "   1.9771868471469791,\n",
       "   1.9714875316410791,\n",
       "   1.9650608359421669,\n",
       "   1.9599431709888817,\n",
       "   1.9544596431457462,\n",
       "   1.948972473408618,\n",
       "   1.9433995001812892,\n",
       "   1.937866140509766,\n",
       "   1.932071987061004,\n",
       "   1.9271118234489337,\n",
       "   1.9222606315038937,\n",
       "   1.9168725673805525,\n",
       "   1.911957621644611,\n",
       "   1.9071876523810944,\n",
       "   1.9021956514345255,\n",
       "   1.8969690687954464,\n",
       "   1.8926520580489496,\n",
       "   1.8879916132388004,\n",
       "   1.8827952528413323,\n",
       "   1.8780524891436532,\n",
       "   1.8736819251194294,\n",
       "   1.86954880418953,\n",
       "   1.8647707428517937,\n",
       "   1.8597838794283603,\n",
       "   1.8547960859160482,\n",
       "   1.8503076951812663,\n",
       "   1.845617116214574,\n",
       "   1.8415011828335304,\n",
       "   1.837641759559764,\n",
       "   1.8334336887398512,\n",
       "   1.8288221485367702,\n",
       "   1.8253762722251088,\n",
       "   1.8210146190744985,\n",
       "   1.817158159844465,\n",
       "   1.814022021608441,\n",
       "   1.8098936113122737,\n",
       "   1.8064293289416835,\n",
       "   1.8020673454738065,\n",
       "   1.7981315549874861,\n",
       "   1.794339974645878,\n",
       "   1.790251298092865,\n",
       "   1.786529439936254,\n",
       "   1.7827311775921624,\n",
       "   1.779047637633976,\n",
       "   1.7747985616014648,\n",
       "   1.7715510151145528,\n",
       "   1.7677549906394041,\n",
       "   1.7641355807574863,\n",
       "   1.7594054273645785,\n",
       "   1.755574142002203,\n",
       "   1.7523877804547923,\n",
       "   1.7483855239593824,\n",
       "   1.7447852354051088,\n",
       "   1.741132879197905,\n",
       "   1.7375119761264932,\n",
       "   1.7337555667541567,\n",
       "   1.7309405141854304,\n",
       "   1.7268568814071332,\n",
       "   1.7232378026642883,\n",
       "   1.7187442825069095,\n",
       "   1.7159628172099581,\n",
       "   1.713164553526269,\n",
       "   1.7102014653199993,\n",
       "   1.707221555604118,\n",
       "   1.703984328037112,\n",
       "   1.7015518515761254,\n",
       "   1.69814018551575,\n",
       "   1.6952964507142645,\n",
       "   1.6917106007880325,\n",
       "   1.6886572293793845,\n",
       "   1.6850900569985192,\n",
       "   1.6818714219430106,\n",
       "   1.678710179320786,\n",
       "   1.6763862591881245,\n",
       "   1.6731223806992817,\n",
       "   1.6689948507884278,\n",
       "   1.6662212435775905,\n",
       "   1.6628752943649399,\n",
       "   1.6608953839343472,\n",
       "   1.6575404295235963,\n",
       "   1.6542415368758772,\n",
       "   1.6515759865290511,\n",
       "   1.6486258105117704,\n",
       "   1.645932920448013,\n",
       "   1.6430923597673879,\n",
       "   1.640725562063141,\n",
       "   1.6378977840926474,\n",
       "   1.6347660829021686,\n",
       "   1.6319235669232488,\n",
       "   1.628493107681944,\n",
       "   1.6258354578901382,\n",
       "   1.6237521500447598,\n",
       "   1.6212571147103714,\n",
       "   1.6181330066713986,\n",
       "   1.6146991259049688,\n",
       "   1.6118856689818757,\n",
       "   1.608797762334523,\n",
       "   1.6063203103016015,\n",
       "   1.6040010562999036,\n",
       "   1.6014761288315675,\n",
       "   1.5986433274115064,\n",
       "   1.596591974866817,\n",
       "   1.5942461312075316,\n",
       "   1.5916265815657322,\n",
       "   1.5889860863461591,\n",
       "   1.5859059800957864,\n",
       "   1.583781045074196,\n",
       "   1.5816278572422258,\n",
       "   1.5784813492647927,\n",
       "   1.575540620779599,\n",
       "   1.573525391720105,\n",
       "   1.5702259039817987,\n",
       "   1.567558122602945,\n",
       "   1.5655205803302226,\n",
       "   1.5634286293396549,\n",
       "   1.5607686548198016,\n",
       "   1.5588901957384798,\n",
       "   1.5567793715218767,\n",
       "   1.5538075994850191,\n",
       "   1.5512362781871931,\n",
       "   1.5496322206996245,\n",
       "   1.5478728863419813,\n",
       "   1.546391579505891,\n",
       "   1.5438013863827058,\n",
       "   1.541643680791568,\n",
       "   1.5394473851448662,\n",
       "   1.5373801923360175,\n",
       "   1.5350167917218125,\n",
       "   1.5333103176053982,\n",
       "   1.5310448667425745,\n",
       "   1.529286404992396,\n",
       "   1.5266156953046786,\n",
       "   1.5240730598593608,\n",
       "   1.5219121168871441,\n",
       "   1.5196018205077544,\n",
       "   1.51785786114911,\n",
       "   1.515296943173347,\n",
       "   1.5128629553988426,\n",
       "   1.511247389074558,\n",
       "   1.5090048399257987,\n",
       "   1.5069585521740754,\n",
       "   1.5052221244304675,\n",
       "   1.5032298140992222,\n",
       "   1.5013890099865421,\n",
       "   1.498937329140559,\n",
       "   1.4971557124297166,\n",
       "   1.4953503926473832,\n",
       "   1.4929164391166545,\n",
       "   1.4904991001642314,\n",
       "   1.4890513214245238,\n",
       "   1.4868874358481354,\n",
       "   1.4849262911614742,\n",
       "   1.4835149866006714,\n",
       "   1.4817501101611101,\n",
       "   1.4794660888108724,\n",
       "   1.4774036815009413,\n",
       "   1.475809334956567,\n",
       "   1.4737078242591406,\n",
       "   1.4717840289492297,\n",
       "   1.4702539188617871,\n",
       "   1.46789213456983,\n",
       "   1.4657712048480245,\n",
       "   1.463482015810004,\n",
       "   1.4618310522816258,\n",
       "   1.4602997500740182,\n",
       "   1.4585865416815667,\n",
       "   1.4562554192652022,\n",
       "   1.454387788889236,\n",
       "   1.4525581165015387,\n",
       "   1.4507084366141214,\n",
       "   1.4491225551457616,\n",
       "   1.4473680276480967,\n",
       "   1.4454035125297593,\n",
       "   1.4441308150088372,\n",
       "   1.4422810196328641,\n",
       "   1.440573430397468,\n",
       "   1.438371888262296,\n",
       "   1.436581204871847,\n",
       "   1.4348214916043989,\n",
       "   1.433166804366632,\n",
       "   1.4309240098996265,\n",
       "   1.4295496438201125,\n",
       "   1.4280248000728677,\n",
       "   1.4263404024078272,\n",
       "   1.4251932136810155,\n",
       "   1.4233757348622118,\n",
       "   1.4219789149484072,\n",
       "   1.419977606037675,\n",
       "   1.4181350395248753,\n",
       "   1.416119436131105,\n",
       "   1.4143219241775085,\n",
       "   1.4124359162021696,\n",
       "   1.4109658473923972,\n",
       "   1.4092264026990515,\n",
       "   1.407780043571135,\n",
       "   1.4060771498064168,\n",
       "   1.4045654797148748,\n",
       "   1.40282462266307,\n",
       "   1.4011845981647435,\n",
       "   1.3993101139532813,\n",
       "   1.3974881671973352,\n",
       "   1.3960080890874444,\n",
       "   1.394848187124691,\n",
       "   1.3935403908545685,\n",
       "   1.3914479491360503,\n",
       "   1.3894734732708907,\n",
       "   1.3876428977360764,\n",
       "   1.3855256603343726,\n",
       "   1.3838809026924133,\n",
       "   1.3826607013853518,\n",
       "   1.381177992861598,\n",
       "   1.3799604952684514,\n",
       "   1.3786046726305934,\n",
       "   1.377344990756723,\n",
       "   1.3756623008947377,\n",
       "   1.3742993602095224,\n",
       "   1.3730130602361974,\n",
       "   1.3713001217902105,\n",
       "   1.3698726648452617,\n",
       "   1.3677888423936106,\n",
       "   1.3659706416852522]}}"
      ]
     },
     "execution_count": 8,
     "metadata": {},
     "output_type": "execute_result"
    }
   ],
   "source": [
    "model.get_evals_result()"
   ]
  },
  {
   "cell_type": "code",
   "execution_count": 9,
   "metadata": {
    "ExecuteTime": {
     "end_time": "2020-11-10T00:23:52.420185Z",
     "start_time": "2020-11-10T00:23:52.337529Z"
    }
   },
   "outputs": [
    {
     "data": {
      "text/plain": [
       "'20-11-10-00-23-25'"
      ]
     },
     "execution_count": 9,
     "metadata": {},
     "output_type": "execute_result"
    }
   ],
   "source": [
    "modeltime"
   ]
  },
  {
   "cell_type": "code",
   "execution_count": 10,
   "metadata": {
    "ExecuteTime": {
     "end_time": "2020-11-10T00:23:52.662779Z",
     "start_time": "2020-11-10T00:23:52.451544Z"
    }
   },
   "outputs": [],
   "source": [
    "model.save_model(\"models/catboost_\" + \"modeltime_\" + modeltime)"
   ]
  },
  {
   "cell_type": "code",
   "execution_count": 11,
   "metadata": {
    "ExecuteTime": {
     "end_time": "2020-11-10T00:23:52.878389Z",
     "start_time": "2020-11-10T00:23:52.669899Z"
    }
   },
   "outputs": [
    {
     "name": "stdout",
     "output_type": "stream",
     "text": [
      "proba =  [[0.14443398 0.08775679 0.12988113 ... 0.07922435 0.04841243 0.08092841]\n",
      " [0.52478903 0.0599828  0.04063185 ... 0.0559959  0.0594105  0.05789805]\n",
      " [0.11150493 0.11748814 0.11369015 ... 0.14658918 0.11566962 0.04492339]\n",
      " ...\n",
      " [0.06290462 0.24920804 0.05921362 ... 0.24430496 0.05067408 0.0320001 ]\n",
      " [0.15028952 0.08124112 0.11042325 ... 0.08514706 0.0930819  0.11733668]\n",
      " [0.06985003 0.20424172 0.13375731 ... 0.21572644 0.06236112 0.042269  ]]\n"
     ]
    }
   ],
   "source": [
    "# make the prediction using the resulting model\n",
    "preds_class = model.predict(x_test)\n",
    "preds_proba = model.predict_proba(x_test)\n",
    "print(\"proba = \", preds_proba)"
   ]
  },
  {
   "cell_type": "code",
   "execution_count": 12,
   "metadata": {
    "ExecuteTime": {
     "end_time": "2020-11-10T00:23:53.140256Z",
     "start_time": "2020-11-10T00:23:52.884998Z"
    }
   },
   "outputs": [],
   "source": [
    "# Transform into submission format\n",
    "submission = pd.DataFrame(preds_proba, columns=[\"class\" + str(c + 1) for c in range(9)])\n",
    "submission[\"ID\"] = np.arange(1, 987)\n",
    "# Save submission without weighting\n",
    "submission.to_csv(\"submissions/submission_catboost_\" + modeltime + \".csv\", index=False)"
   ]
  },
  {
   "cell_type": "markdown",
   "metadata": {},
   "source": [
    "## Weighting Predictions"
   ]
  },
  {
   "cell_type": "code",
   "execution_count": 13,
   "metadata": {
    "ExecuteTime": {
     "end_time": "2020-11-10T00:23:53.495933Z",
     "start_time": "2020-11-10T00:23:53.144339Z"
    }
   },
   "outputs": [
    {
     "data": {
      "text/plain": [
       "(986, 9)"
      ]
     },
     "execution_count": 13,
     "metadata": {},
     "output_type": "execute_result"
    }
   ],
   "source": [
    "all_1_over_9 = pd.read_csv(os.path.join(data_path, \"external/submission_1_over_9.csv\"))\n",
    "all_1_over_9 = all_1_over_9.drop(\"ID\", axis=1)\n",
    "\n",
    "# weighted average\n",
    "weighting = (6, 4)\n",
    "submission_weighted = (preds_proba * weighting[0] + all_1_over_9 * weighting[1]) / 10\n",
    "submission_weighted.shape"
   ]
  },
  {
   "cell_type": "markdown",
   "metadata": {},
   "source": [
    "## Private Leaderboard Evaluation"
   ]
  },
  {
   "cell_type": "code",
   "execution_count": 14,
   "metadata": {
    "ExecuteTime": {
     "end_time": "2020-11-10T00:23:53.691104Z",
     "start_time": "2020-11-10T00:23:53.500060Z"
    }
   },
   "outputs": [
    {
     "data": {
      "text/html": [
       "<div>\n",
       "<style scoped>\n",
       "    .dataframe tbody tr th:only-of-type {\n",
       "        vertical-align: middle;\n",
       "    }\n",
       "\n",
       "    .dataframe tbody tr th {\n",
       "        vertical-align: top;\n",
       "    }\n",
       "\n",
       "    .dataframe thead th {\n",
       "        text-align: right;\n",
       "    }\n",
       "</style>\n",
       "<table border=\"1\" class=\"dataframe\">\n",
       "  <thead>\n",
       "    <tr style=\"text-align: right;\">\n",
       "      <th></th>\n",
       "      <th>class1</th>\n",
       "      <th>class2</th>\n",
       "      <th>class3</th>\n",
       "      <th>class4</th>\n",
       "      <th>class5</th>\n",
       "      <th>class6</th>\n",
       "      <th>class7</th>\n",
       "      <th>class8</th>\n",
       "      <th>class9</th>\n",
       "    </tr>\n",
       "  </thead>\n",
       "  <tbody>\n",
       "    <tr>\n",
       "      <th>7</th>\n",
       "      <td>0.140541</td>\n",
       "      <td>0.090284</td>\n",
       "      <td>0.116338</td>\n",
       "      <td>0.176322</td>\n",
       "      <td>0.100194</td>\n",
       "      <td>0.109569</td>\n",
       "      <td>0.087873</td>\n",
       "      <td>0.090156</td>\n",
       "      <td>0.088723</td>\n",
       "    </tr>\n",
       "    <tr>\n",
       "      <th>14</th>\n",
       "      <td>0.099591</td>\n",
       "      <td>0.122168</td>\n",
       "      <td>0.114507</td>\n",
       "      <td>0.105355</td>\n",
       "      <td>0.118495</td>\n",
       "      <td>0.118478</td>\n",
       "      <td>0.136853</td>\n",
       "      <td>0.113068</td>\n",
       "      <td>0.071483</td>\n",
       "    </tr>\n",
       "    <tr>\n",
       "      <th>15</th>\n",
       "      <td>0.168398</td>\n",
       "      <td>0.098539</td>\n",
       "      <td>0.096695</td>\n",
       "      <td>0.132461</td>\n",
       "      <td>0.095036</td>\n",
       "      <td>0.110847</td>\n",
       "      <td>0.088244</td>\n",
       "      <td>0.133278</td>\n",
       "      <td>0.076501</td>\n",
       "    </tr>\n",
       "    <tr>\n",
       "      <th>17</th>\n",
       "      <td>0.081170</td>\n",
       "      <td>0.179718</td>\n",
       "      <td>0.094425</td>\n",
       "      <td>0.101202</td>\n",
       "      <td>0.086818</td>\n",
       "      <td>0.084137</td>\n",
       "      <td>0.203637</td>\n",
       "      <td>0.094617</td>\n",
       "      <td>0.074275</td>\n",
       "    </tr>\n",
       "    <tr>\n",
       "      <th>18</th>\n",
       "      <td>0.084536</td>\n",
       "      <td>0.128339</td>\n",
       "      <td>0.093045</td>\n",
       "      <td>0.083801</td>\n",
       "      <td>0.101442</td>\n",
       "      <td>0.120338</td>\n",
       "      <td>0.187309</td>\n",
       "      <td>0.123458</td>\n",
       "      <td>0.077732</td>\n",
       "    </tr>\n",
       "    <tr>\n",
       "      <th>...</th>\n",
       "      <td>...</td>\n",
       "      <td>...</td>\n",
       "      <td>...</td>\n",
       "      <td>...</td>\n",
       "      <td>...</td>\n",
       "      <td>...</td>\n",
       "      <td>...</td>\n",
       "      <td>...</td>\n",
       "      <td>...</td>\n",
       "    </tr>\n",
       "    <tr>\n",
       "      <th>965</th>\n",
       "      <td>0.092286</td>\n",
       "      <td>0.152079</td>\n",
       "      <td>0.118949</td>\n",
       "      <td>0.108855</td>\n",
       "      <td>0.092866</td>\n",
       "      <td>0.102736</td>\n",
       "      <td>0.173563</td>\n",
       "      <td>0.087098</td>\n",
       "      <td>0.071568</td>\n",
       "    </tr>\n",
       "    <tr>\n",
       "      <th>970</th>\n",
       "      <td>0.168144</td>\n",
       "      <td>0.124615</td>\n",
       "      <td>0.092422</td>\n",
       "      <td>0.110812</td>\n",
       "      <td>0.087715</td>\n",
       "      <td>0.099499</td>\n",
       "      <td>0.098076</td>\n",
       "      <td>0.147257</td>\n",
       "      <td>0.071461</td>\n",
       "    </tr>\n",
       "    <tr>\n",
       "      <th>971</th>\n",
       "      <td>0.170631</td>\n",
       "      <td>0.105744</td>\n",
       "      <td>0.111841</td>\n",
       "      <td>0.167108</td>\n",
       "      <td>0.094613</td>\n",
       "      <td>0.100725</td>\n",
       "      <td>0.108603</td>\n",
       "      <td>0.073554</td>\n",
       "      <td>0.067182</td>\n",
       "    </tr>\n",
       "    <tr>\n",
       "      <th>972</th>\n",
       "      <td>0.162258</td>\n",
       "      <td>0.116480</td>\n",
       "      <td>0.087910</td>\n",
       "      <td>0.100554</td>\n",
       "      <td>0.082710</td>\n",
       "      <td>0.125377</td>\n",
       "      <td>0.098765</td>\n",
       "      <td>0.147827</td>\n",
       "      <td>0.078120</td>\n",
       "    </tr>\n",
       "    <tr>\n",
       "      <th>978</th>\n",
       "      <td>0.090478</td>\n",
       "      <td>0.152501</td>\n",
       "      <td>0.116438</td>\n",
       "      <td>0.106580</td>\n",
       "      <td>0.093101</td>\n",
       "      <td>0.112292</td>\n",
       "      <td>0.178330</td>\n",
       "      <td>0.081808</td>\n",
       "      <td>0.068472</td>\n",
       "    </tr>\n",
       "  </tbody>\n",
       "</table>\n",
       "<p>125 rows × 9 columns</p>\n",
       "</div>"
      ],
      "text/plain": [
       "       class1    class2    class3    class4    class5    class6    class7  \\\n",
       "7    0.140541  0.090284  0.116338  0.176322  0.100194  0.109569  0.087873   \n",
       "14   0.099591  0.122168  0.114507  0.105355  0.118495  0.118478  0.136853   \n",
       "15   0.168398  0.098539  0.096695  0.132461  0.095036  0.110847  0.088244   \n",
       "17   0.081170  0.179718  0.094425  0.101202  0.086818  0.084137  0.203637   \n",
       "18   0.084536  0.128339  0.093045  0.083801  0.101442  0.120338  0.187309   \n",
       "..        ...       ...       ...       ...       ...       ...       ...   \n",
       "965  0.092286  0.152079  0.118949  0.108855  0.092866  0.102736  0.173563   \n",
       "970  0.168144  0.124615  0.092422  0.110812  0.087715  0.099499  0.098076   \n",
       "971  0.170631  0.105744  0.111841  0.167108  0.094613  0.100725  0.108603   \n",
       "972  0.162258  0.116480  0.087910  0.100554  0.082710  0.125377  0.098765   \n",
       "978  0.090478  0.152501  0.116438  0.106580  0.093101  0.112292  0.178330   \n",
       "\n",
       "       class8    class9  \n",
       "7    0.090156  0.088723  \n",
       "14   0.113068  0.071483  \n",
       "15   0.133278  0.076501  \n",
       "17   0.094617  0.074275  \n",
       "18   0.123458  0.077732  \n",
       "..        ...       ...  \n",
       "965  0.087098  0.071568  \n",
       "970  0.147257  0.071461  \n",
       "971  0.073554  0.067182  \n",
       "972  0.147827  0.078120  \n",
       "978  0.081808  0.068472  \n",
       "\n",
       "[125 rows x 9 columns]"
      ]
     },
     "execution_count": 14,
     "metadata": {},
     "output_type": "execute_result"
    }
   ],
   "source": [
    "ids = pd.read_csv(os.path.join(data_path, \"raw/stage_2_private_solution.csv\")).ID.values\n",
    "pred = np.take(submission_weighted, (list(ids - 1)), axis=0)\n",
    "pred"
   ]
  },
  {
   "cell_type": "code",
   "execution_count": 15,
   "metadata": {
    "ExecuteTime": {
     "end_time": "2020-11-10T00:23:56.515232Z",
     "start_time": "2020-11-10T00:23:53.702416Z"
    }
   },
   "outputs": [
    {
     "name": "stdout",
     "output_type": "stream",
     "text": [
      "Accuracy: 0.144 Log loss: 2.060835392527957 F1 micro: 0.144 F1 macro: 0.05980330198508539\n"
     ]
    },
    {
     "data": {
      "image/png": "[encoded data removed]",
      "text/plain": [
       "<Figure size 432x288 with 2 Axes>"
      ]
     },
     "metadata": {
      "needs_background": "light"
     },
     "output_type": "display_data"
    },
    {
     "data": {
      "image/png": "[encoded data removed]",
      "text/plain": [
       "<Figure size 432x288 with 2 Axes>"
      ]
     },
     "metadata": {
      "needs_background": "light"
     },
     "output_type": "display_data"
    },
    {
     "name": "stdout",
     "output_type": "stream",
     "text": [
      "Evaluation data is added to results_catboost.csv\n"
     ]
    }
   ],
   "source": [
    "ev = Evaluation(y_pred=pred.to_numpy(), y_test=y_test)\n",
    "ev.entire_evaluation(filename=\"results_catboost.csv\")"
   ]
  },
  {
   "cell_type": "markdown",
   "metadata": {},
   "source": [
    "## Save Submission"
   ]
  },
  {
   "cell_type": "code",
   "execution_count": 16,
   "metadata": {
    "ExecuteTime": {
     "end_time": "2020-11-10T00:23:56.845810Z",
     "start_time": "2020-11-10T00:23:56.520381Z"
    }
   },
   "outputs": [],
   "source": [
    "# transform weighted average into kaggle format\n",
    "submission_weighted = pd.DataFrame(\n",
    "    submission_weighted, columns=[\"class\" + str(c + 1) for c in range(9)]\n",
    ")\n",
    "submission_weighted[\"ID\"] = np.arange(1, 987)\n",
    "\n",
    "# save submission\n",
    "submission_weighted.to_csv(\n",
    "    \"submissions/submission_catboost_weighted\"\n",
    "    + str(weighting)\n",
    "    + \"_\"\n",
    "    + modeltime\n",
    "    + \".csv\",\n",
    "    index=False,\n",
    ")"
   ]
  }
 ],
 "metadata": {
  "kernelspec": {
   "display_name": "Python 3",
   "language": "python",
   "name": "python3"
  },
  "language_info": {
   "codemirror_mode": {
    "name": "ipython",
    "version": 3
   },
   "file_extension": ".py",
   "mimetype": "text/x-python",
   "name": "python",
   "nbconvert_exporter": "python",
   "pygments_lexer": "ipython3",
   "version": "3.7.6"
  },
  "toc": {
   "base_numbering": 1,
   "nav_menu": {},
   "number_sections": false,
   "sideBar": true,
   "skip_h1_title": false,
   "title_cell": "Table of Contents",
   "title_sidebar": "Contents",
   "toc_cell": false,
   "toc_position": {},
   "toc_section_display": true,
   "toc_window_display": false
  }
 },
 "nbformat": 4,
 "nbformat_minor": 2
}
