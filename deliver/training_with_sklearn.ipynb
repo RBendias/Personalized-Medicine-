{
 "cells": [
  {
   "cell_type": "markdown",
   "metadata": {},
   "source": [
    "# Training with Sklearn\n"
   ]
  },
  {
   "cell_type": "markdown",
   "metadata": {},
   "source": [
    "**In this notebook:**\n",
    "* load training and test data\n",
    "* oversample training data with ADASYN\n",
    "* define grisearch for logistic regression and svc model\n",
    "* test best models on test data set\n",
    "* evaluate predictions \n",
    "\n",
    "**Key insights:**\n",
    "* Without oversampling, all test data is assigned to the most representative classes (1,2,4 and 7).\n",
    "* learning does not converge\n",
    "* minimum logloss 2.02\n",
    "* maximum accuracy 32%\n"
   ]
  },
  {
   "cell_type": "markdown",
   "metadata": {},
   "source": [
    "## Imports"
   ]
  },
  {
   "cell_type": "code",
   "execution_count": 2,
   "metadata": {
    "ExecuteTime": {
     "end_time": "2020-11-11T21:30:55.204641Z",
     "start_time": "2020-11-11T21:30:55.107486Z"
    }
   },
   "outputs": [
    {
     "name": "stdout",
     "output_type": "stream",
     "text": [
      "The autoreload extension is already loaded. To reload it, use:\n",
      "  %reload_ext autoreload\n"
     ]
    }
   ],
   "source": [
    "%load_ext autoreload\n",
    "%autoreload 2\n",
    "#%load_ext jupyternotify\n",
    "#%autonotify -a 30\n",
    "\n",
    "import pandas as pd\n",
    "import numpy as np\n",
    "import os\n",
    "import matplotlib.pyplot as plt\n",
    "import itertools\n",
    "from imblearn.over_sampling import SMOTE, ADASYN\n",
    "from sklearn.linear_model import LogisticRegression\n",
    "from sklearn import svm\n",
    "from sklearn.preprocessing import LabelBinarizer\n",
    "from sklearn.preprocessing import MinMaxScaler\n",
    "from sklearn.model_selection import GridSearchCV\n",
    "from pprint import pprint\n",
    "from time import time\n",
    "\n",
    "import sys\n",
    "\n",
    "sys.path.append(\"../utils/\")\n",
    "from evaluation import Evaluation"
   ]
  },
  {
   "cell_type": "markdown",
   "metadata": {},
   "source": [
    "## Prepare Data"
   ]
  },
  {
   "cell_type": "code",
   "execution_count": 3,
   "metadata": {
    "ExecuteTime": {
     "end_time": "2020-11-11T21:30:55.317507Z",
     "start_time": "2020-11-11T21:30:55.210102Z"
    }
   },
   "outputs": [
    {
     "name": "stdout",
     "output_type": "stream",
     "text": [
      "Training Data Shape: (3683, 111)\n",
      "Test Data Shape:     (125, 111)\n"
     ]
    }
   ],
   "source": [
    "# Load Data\n",
    "data_path = \"../../data/msk-redefining-cancer-treatment\"\n",
    "x_train = np.load(os.path.join(data_path, \"processed/x_train_shuffled.npy\"))\n",
    "y_train = np.load(os.path.join(data_path, \"processed/y_train_shuffled.npy\"))\n",
    "x_test = np.load(os.path.join(data_path, \"processed/x_test_shuffled.npy\"))\n",
    "y_test = np.load(os.path.join(data_path, \"processed/y_test_shuffled.npy\"))\n",
    "print(\"Training Data Shape:\".ljust(20), x_train.shape)\n",
    "print(\"Test Data Shape:\".ljust(20), x_test.shape)"
   ]
  },
  {
   "cell_type": "code",
   "execution_count": 4,
   "metadata": {
    "ExecuteTime": {
     "end_time": "2020-11-11T21:30:55.478262Z",
     "start_time": "2020-11-11T21:30:55.324216Z"
    }
   },
   "outputs": [],
   "source": [
    "# Data needed for weighting\n",
    "all_1_over_9 = pd.read_csv(os.path.join(data_path, \"external/submission_1_over_9.csv\"))\n",
    "all_1_over_9 = all_1_over_9.drop(\"ID\", axis=1)"
   ]
  },
  {
   "cell_type": "code",
   "execution_count": 5,
   "metadata": {
    "ExecuteTime": {
     "end_time": "2020-11-11T21:30:56.549401Z",
     "start_time": "2020-11-11T21:30:56.476011Z"
    }
   },
   "outputs": [],
   "source": [
    "# Not all test samples have a solution -> ids - with solution\n",
    "ids = pd.read_csv(os.path.join(data_path, \"raw/stage_2_private_solution.csv\")).ID.values"
   ]
  },
  {
   "cell_type": "code",
   "execution_count": 6,
   "metadata": {
    "ExecuteTime": {
     "end_time": "2020-11-11T21:30:59.994243Z",
     "start_time": "2020-11-11T21:30:57.686059Z"
    }
   },
   "outputs": [
    {
     "name": "stdout",
     "output_type": "stream",
     "text": [
      "Training Data Shape after Oversampling: (9447, 111)\n"
     ]
    }
   ],
   "source": [
    "# Oversample Training Data\n",
    "x_train, y_train = ADASYN(sampling_strategy=\"auto\").fit_sample(x_train, y_train)\n",
    "print(\"Training Data Shape after Oversampling:\", x_train.shape)"
   ]
  },
  {
   "cell_type": "code",
   "execution_count": 7,
   "metadata": {
    "ExecuteTime": {
     "end_time": "2020-11-11T21:31:00.340581Z",
     "start_time": "2020-11-11T21:30:59.999444Z"
    }
   },
   "outputs": [
    {
     "data": {
      "text/plain": [
       "<BarContainer object of 9 artists>"
      ]
     },
     "execution_count": 7,
     "metadata": {},
     "output_type": "execute_result"
    },
    {
     "data": {
      "image/png": "[encoded data removed]",
      "text/plain": [
       "<Figure size 432x288 with 1 Axes>"
      ]
     },
     "metadata": {
      "needs_background": "light"
     },
     "output_type": "display_data"
    }
   ],
   "source": [
    "plt.title(\"Distribution of Labels\")\n",
    "plt.xlabel(\"Labels\")\n",
    "plt.ylabel(\"Numbers of samples per class\")\n",
    "plt.bar(\n",
    "    np.unique(y_train, return_counts=True)[0], np.unique(y_train, return_counts=True)[1]\n",
    ")"
   ]
  },
  {
   "cell_type": "code",
   "execution_count": 8,
   "metadata": {
    "ExecuteTime": {
     "end_time": "2020-11-11T21:31:00.449457Z",
     "start_time": "2020-11-11T21:31:00.346008Z"
    }
   },
   "outputs": [],
   "source": [
    "# Normalize (if not already during preprocessing)\n",
    "normalizer = MinMaxScaler()\n",
    "x_train = normalizer.fit_transform(x_train)\n",
    "x_test = normalizer.transform(x_test)"
   ]
  },
  {
   "cell_type": "markdown",
   "metadata": {},
   "source": [
    "## Gridsearch Function"
   ]
  },
  {
   "cell_type": "code",
   "execution_count": 9,
   "metadata": {
    "ExecuteTime": {
     "end_time": "2020-11-11T21:31:00.681776Z",
     "start_time": "2020-11-11T21:31:00.598701Z"
    }
   },
   "outputs": [],
   "source": [
    "def get_best_estimator(clf, parameters, scoring, n_jobs=12):\n",
    "    grid_search = GridSearchCV(\n",
    "        clf, param_grid=parameters, scoring=\"neg_log_loss\", verbose=1\n",
    "    )\n",
    "\n",
    "    print(\"Performing grid search...\")\n",
    "    print(\"parameters:\")\n",
    "    pprint(parameters)\n",
    "    t0 = time()\n",
    "\n",
    "    grid_search.fit(x_train, y_train.astype(str))\n",
    "\n",
    "    print(\"done in %0.3fs\" % (time() - t0))\n",
    "    print()\n",
    "\n",
    "    print(\"Best score: %0.3f\" % grid_search.best_score_)\n",
    "    print(\"Best parameters set:\")\n",
    "    best_parameters = grid_search.best_estimator_.get_params()\n",
    "    for param_name in sorted(parameters.keys()):\n",
    "        print(\"\\t%s: %r\" % (param_name, best_parameters[param_name]))\n",
    "    print(\"Done!\")\n",
    "    return grid_search.best_estimator_"
   ]
  },
  {
   "cell_type": "markdown",
   "metadata": {},
   "source": [
    "## Logistic Regression Classifier"
   ]
  },
  {
   "cell_type": "markdown",
   "metadata": {},
   "source": [
    "### Grid-Search"
   ]
  },
  {
   "cell_type": "code",
   "execution_count": 12,
   "metadata": {
    "ExecuteTime": {
     "end_time": "2020-11-11T21:31:15.804072Z",
     "start_time": "2020-11-11T21:31:15.733988Z"
    }
   },
   "outputs": [],
   "source": [
    "# define model\n",
    "clf = LogisticRegression()"
   ]
  },
  {
   "cell_type": "code",
   "execution_count": 13,
   "metadata": {
    "ExecuteTime": {
     "end_time": "2020-11-11T21:31:17.170916Z",
     "start_time": "2020-11-11T21:31:17.097020Z"
    }
   },
   "outputs": [],
   "source": [
    "# define parameters\n",
    "parameters = {\n",
    "    'tol':(1e-5,1e-4,1e-3),\n",
    "    \"class_weight\": (None, \"balanced\"),\n",
    "    'solver': ('newton-cg', 'saga'), \n",
    "    'max_iter': (5000, 10000),\n",
    "}\n",
    "scoring = \"neg_log_loss\"\n",
    "n_jobs = 12"
   ]
  },
  {
   "cell_type": "code",
   "execution_count": 14,
   "metadata": {
    "ExecuteTime": {
     "end_time": "2020-11-11T21:48:58.284031Z",
     "start_time": "2020-11-11T21:31:17.952852Z"
    }
   },
   "outputs": [
    {
     "name": "stdout",
     "output_type": "stream",
     "text": [
      "Performing grid search...\n",
      "parameters:\n",
      "{'class_weight': (None, 'balanced'),\n",
      " 'max_iter': (5000, 10000),\n",
      " 'solver': ('newton-cg', 'saga'),\n",
      " 'tol': (1e-05, 0.0001, 0.001)}\n",
      "Fitting 5 folds for each of 24 candidates, totalling 120 fits\n"
     ]
    },
    {
     "name": "stderr",
     "output_type": "stream",
     "text": [
      "[Parallel(n_jobs=1)]: Using backend SequentialBackend with 1 concurrent workers.\n",
      "[Parallel(n_jobs=1)]: Done 120 out of 120 | elapsed: 17.1min finished\n"
     ]
    },
    {
     "name": "stdout",
     "output_type": "stream",
     "text": [
      "done in 1060.236s\n",
      "\n",
      "Best score: -1.513\n",
      "Best parameters set:\n",
      "\tclass_weight: None\n",
      "\tmax_iter: 5000\n",
      "\tsolver: 'saga'\n",
      "\ttol: 1e-05\n",
      "Done!\n"
     ]
    }
   ],
   "source": [
    "best_clf = get_best_estimator(clf=clf, parameters=parameters, scoring=scoring, n_jobs=n_jobs)"
   ]
  },
  {
   "cell_type": "markdown",
   "metadata": {},
   "source": [
    "### Predict Test Labels"
   ]
  },
  {
   "cell_type": "code",
   "execution_count": 15,
   "metadata": {
    "ExecuteTime": {
     "end_time": "2020-11-11T21:48:58.594630Z",
     "start_time": "2020-11-11T21:48:58.292881Z"
    }
   },
   "outputs": [
    {
     "name": "stdout",
     "output_type": "stream",
     "text": [
      "Sample of Prediction:  [0.16085978 0.09881158 0.12310813 0.08852787 0.08813452 0.22385128\n",
      " 0.17101125 0.03456609 0.01112949]\n"
     ]
    }
   ],
   "source": [
    "pred = best_clf.predict_proba(x_test) \n",
    "print('Sample of Prediction: ', pred[0])"
   ]
  },
  {
   "cell_type": "markdown",
   "metadata": {},
   "source": [
    "### Weighting of Predictions"
   ]
  },
  {
   "cell_type": "code",
   "execution_count": 17,
   "metadata": {
    "ExecuteTime": {
     "end_time": "2020-11-11T22:06:39.976223Z",
     "start_time": "2020-11-11T22:06:39.671647Z"
    }
   },
   "outputs": [
    {
     "ename": "ValueError",
     "evalue": "Unable to coerce to DataFrame, shape must be (986, 9): given (125, 9)",
     "output_type": "error",
     "traceback": [
      "\u001b[0;31m---------------------------------------------------------------------------\u001b[0m",
      "\u001b[0;31mValueError\u001b[0m                                Traceback (most recent call last)",
      "\u001b[0;32m<ipython-input-17-9eb3b2bb241d>\u001b[0m in \u001b[0;36m<module>\u001b[0;34m\u001b[0m\n\u001b[1;32m      1\u001b[0m \u001b[0;31m# weighted average\u001b[0m\u001b[0;34m\u001b[0m\u001b[0;34m\u001b[0m\u001b[0;34m\u001b[0m\u001b[0m\n\u001b[1;32m      2\u001b[0m \u001b[0mweighting\u001b[0m \u001b[0;34m=\u001b[0m \u001b[0;34m(\u001b[0m\u001b[0;36m6\u001b[0m\u001b[0;34m,\u001b[0m \u001b[0;36m4\u001b[0m\u001b[0;34m)\u001b[0m\u001b[0;34m\u001b[0m\u001b[0;34m\u001b[0m\u001b[0m\n\u001b[0;32m----> 3\u001b[0;31m \u001b[0msubmission_weighted\u001b[0m \u001b[0;34m=\u001b[0m \u001b[0;34m(\u001b[0m\u001b[0mpred\u001b[0m \u001b[0;34m*\u001b[0m \u001b[0mweighting\u001b[0m\u001b[0;34m[\u001b[0m\u001b[0;36m0\u001b[0m\u001b[0;34m]\u001b[0m \u001b[0;34m+\u001b[0m \u001b[0mall_1_over_9\u001b[0m \u001b[0;34m*\u001b[0m \u001b[0mweighting\u001b[0m\u001b[0;34m[\u001b[0m\u001b[0;36m1\u001b[0m\u001b[0;34m]\u001b[0m\u001b[0;34m)\u001b[0m \u001b[0;34m/\u001b[0m \u001b[0;36m10\u001b[0m\u001b[0;34m\u001b[0m\u001b[0;34m\u001b[0m\u001b[0m\n\u001b[0m\u001b[1;32m      4\u001b[0m \u001b[0msubmission_weighted\u001b[0m\u001b[0;34m.\u001b[0m\u001b[0mshape\u001b[0m\u001b[0;34m\u001b[0m\u001b[0;34m\u001b[0m\u001b[0m\n",
      "\u001b[0;32m/opt/conda/lib/python3.7/site-packages/pandas/core/ops/__init__.py\u001b[0m in \u001b[0;36mf\u001b[0;34m(self, other, axis, level, fill_value)\u001b[0m\n\u001b[1;32m   1486\u001b[0m     \u001b[0;32mdef\u001b[0m \u001b[0mf\u001b[0m\u001b[0;34m(\u001b[0m\u001b[0mself\u001b[0m\u001b[0;34m,\u001b[0m \u001b[0mother\u001b[0m\u001b[0;34m,\u001b[0m \u001b[0maxis\u001b[0m\u001b[0;34m=\u001b[0m\u001b[0mdefault_axis\u001b[0m\u001b[0;34m,\u001b[0m \u001b[0mlevel\u001b[0m\u001b[0;34m=\u001b[0m\u001b[0;32mNone\u001b[0m\u001b[0;34m,\u001b[0m \u001b[0mfill_value\u001b[0m\u001b[0;34m=\u001b[0m\u001b[0;32mNone\u001b[0m\u001b[0;34m)\u001b[0m\u001b[0;34m:\u001b[0m\u001b[0;34m\u001b[0m\u001b[0;34m\u001b[0m\u001b[0m\n\u001b[1;32m   1487\u001b[0m \u001b[0;34m\u001b[0m\u001b[0m\n\u001b[0;32m-> 1488\u001b[0;31m         \u001b[0mother\u001b[0m \u001b[0;34m=\u001b[0m \u001b[0m_align_method_FRAME\u001b[0m\u001b[0;34m(\u001b[0m\u001b[0mself\u001b[0m\u001b[0;34m,\u001b[0m \u001b[0mother\u001b[0m\u001b[0;34m,\u001b[0m \u001b[0maxis\u001b[0m\u001b[0;34m)\u001b[0m\u001b[0;34m\u001b[0m\u001b[0;34m\u001b[0m\u001b[0m\n\u001b[0m\u001b[1;32m   1489\u001b[0m \u001b[0;34m\u001b[0m\u001b[0m\n\u001b[1;32m   1490\u001b[0m         \u001b[0;32mif\u001b[0m \u001b[0misinstance\u001b[0m\u001b[0;34m(\u001b[0m\u001b[0mother\u001b[0m\u001b[0;34m,\u001b[0m \u001b[0mABCDataFrame\u001b[0m\u001b[0;34m)\u001b[0m\u001b[0;34m:\u001b[0m\u001b[0;34m\u001b[0m\u001b[0;34m\u001b[0m\u001b[0m\n",
      "\u001b[0;32m/opt/conda/lib/python3.7/site-packages/pandas/core/ops/__init__.py\u001b[0m in \u001b[0;36m_align_method_FRAME\u001b[0;34m(left, right, axis)\u001b[0m\n\u001b[1;32m   1444\u001b[0m                     \u001b[0;34m\"Unable to coerce to DataFrame, shape \"\u001b[0m\u001b[0;34m\u001b[0m\u001b[0;34m\u001b[0m\u001b[0m\n\u001b[1;32m   1445\u001b[0m                     \"must be {req_shape}: given {given_shape}\".format(\n\u001b[0;32m-> 1446\u001b[0;31m                         \u001b[0mreq_shape\u001b[0m\u001b[0;34m=\u001b[0m\u001b[0mleft\u001b[0m\u001b[0;34m.\u001b[0m\u001b[0mshape\u001b[0m\u001b[0;34m,\u001b[0m \u001b[0mgiven_shape\u001b[0m\u001b[0;34m=\u001b[0m\u001b[0mright\u001b[0m\u001b[0;34m.\u001b[0m\u001b[0mshape\u001b[0m\u001b[0;34m\u001b[0m\u001b[0;34m\u001b[0m\u001b[0m\n\u001b[0m\u001b[1;32m   1447\u001b[0m                     )\n\u001b[1;32m   1448\u001b[0m                 )\n",
      "\u001b[0;31mValueError\u001b[0m: Unable to coerce to DataFrame, shape must be (986, 9): given (125, 9)"
     ]
    }
   ],
   "source": [
    "# weighted average\n",
    "weighting = (6, 4)\n",
    "submission_weighted = (pred * weighting[0] + all_1_over_9 * weighting[1]) / 10\n",
    "submission_weighted.shape"
   ]
  },
  {
   "cell_type": "markdown",
   "metadata": {},
   "source": [
    "### Evaluate Classifier"
   ]
  },
  {
   "cell_type": "code",
   "execution_count": null,
   "metadata": {
    "ExecuteTime": {
     "end_time": "2020-11-11T21:48:58.771775Z",
     "start_time": "2020-11-11T21:31:22.329Z"
    }
   },
   "outputs": [],
   "source": [
    "# Filter ids with given label \n",
    "pred_weighted = np.take(submission_weighted, (list(ids - 1)), axis=0)"
   ]
  },
  {
   "cell_type": "code",
   "execution_count": null,
   "metadata": {
    "ExecuteTime": {
     "end_time": "2020-11-11T21:48:58.774083Z",
     "start_time": "2020-11-11T21:31:24.595Z"
    }
   },
   "outputs": [],
   "source": [
    "ev = Evaluation(y_pred = pred_weighted.to_numpy(), y_test=y_test)\n",
    "ev.entire_evaluation()"
   ]
  },
  {
   "cell_type": "markdown",
   "metadata": {},
   "source": [
    "## Linear SVC Classifier"
   ]
  },
  {
   "cell_type": "markdown",
   "metadata": {},
   "source": [
    "### Grid-Search"
   ]
  },
  {
   "cell_type": "code",
   "execution_count": null,
   "metadata": {
    "ExecuteTime": {
     "end_time": "2020-11-11T21:48:58.776024Z",
     "start_time": "2020-11-11T21:31:26.004Z"
    }
   },
   "outputs": [],
   "source": [
    "# define model\n",
    "svc_clf = svm.SVC(kernel='linear',probability=True)"
   ]
  },
  {
   "cell_type": "code",
   "execution_count": null,
   "metadata": {
    "ExecuteTime": {
     "end_time": "2020-11-11T21:48:58.778458Z",
     "start_time": "2020-11-11T21:31:26.769Z"
    }
   },
   "outputs": [],
   "source": [
    "# define parameters\n",
    "svc_parameters = {\n",
    "    'tol':(1e-5,1e-4,1e-3),\n",
    "    'C':(0.5, 1),\n",
    "    'class_weight':(None, 'balanced'), \n",
    "    'max_iter': (5000, 10000),\n",
    "}\n",
    "svc_scoring = 'accuracy'\n",
    "svc_n_jobs = 8"
   ]
  },
  {
   "cell_type": "code",
   "execution_count": null,
   "metadata": {
    "ExecuteTime": {
     "end_time": "2020-11-11T21:48:58.781765Z",
     "start_time": "2020-11-11T21:31:27.483Z"
    }
   },
   "outputs": [],
   "source": [
    "best_svc_clf = get_best_estimator(clf=svc_clf, parameters=svc_parameters, scoring=svc_scoring, n_jobs=svc_n_jobs )"
   ]
  },
  {
   "cell_type": "markdown",
   "metadata": {},
   "source": [
    "### Predict Test Labels"
   ]
  },
  {
   "cell_type": "code",
   "execution_count": null,
   "metadata": {
    "ExecuteTime": {
     "end_time": "2020-11-11T21:48:58.783707Z",
     "start_time": "2020-11-11T21:31:28.497Z"
    }
   },
   "outputs": [],
   "source": [
    "pred = best_svc_clf.predict_proba(x_test) \n",
    "print('Sample of Prediction: ', pred[0])"
   ]
  },
  {
   "cell_type": "markdown",
   "metadata": {},
   "source": [
    "### Weighting of Predictions"
   ]
  },
  {
   "cell_type": "code",
   "execution_count": null,
   "metadata": {
    "ExecuteTime": {
     "end_time": "2020-11-11T21:48:58.786204Z",
     "start_time": "2020-11-11T21:31:29.679Z"
    }
   },
   "outputs": [],
   "source": [
    "# weighted average\n",
    "weighting = (6, 4)\n",
    "submission_weighted = (pred * weighting[0] + all_1_over_9 * weighting[1]) / 10\n",
    "submission_weighted.shape"
   ]
  },
  {
   "cell_type": "markdown",
   "metadata": {},
   "source": [
    "### Evaluate Classifier"
   ]
  },
  {
   "cell_type": "code",
   "execution_count": null,
   "metadata": {
    "ExecuteTime": {
     "end_time": "2020-11-11T21:48:58.788769Z",
     "start_time": "2020-11-11T21:31:30.909Z"
    }
   },
   "outputs": [],
   "source": [
    "# Filter ids with given label \n",
    "pred_weighted = np.take(submission_weighted, (list(ids - 1)), axis=0)"
   ]
  },
  {
   "cell_type": "code",
   "execution_count": null,
   "metadata": {
    "ExecuteTime": {
     "end_time": "2020-11-11T21:48:58.792224Z",
     "start_time": "2020-11-11T21:31:31.960Z"
    }
   },
   "outputs": [],
   "source": [
    "ev = Evaluation(y_pred = pred_weighted.to_numpy(), y_test=y_test)\n",
    "ev.entire_evaluation()"
   ]
  }
 ],
 "metadata": {
  "kernelspec": {
   "display_name": "Python 3",
   "language": "python",
   "name": "python3"
  },
  "language_info": {
   "codemirror_mode": {
    "name": "ipython",
    "version": 3
   },
   "file_extension": ".py",
   "mimetype": "text/x-python",
   "name": "python",
   "nbconvert_exporter": "python",
   "pygments_lexer": "ipython3",
   "version": "3.7.6"
  },
  "toc": {
   "base_numbering": 1,
   "nav_menu": {},
   "number_sections": true,
   "sideBar": true,
   "skip_h1_title": true,
   "title_cell": "Table of Contents",
   "title_sidebar": "Contents",
   "toc_cell": false,
   "toc_position": {},
   "toc_section_display": true,
   "toc_window_display": true
  }
 },
 "nbformat": 4,
 "nbformat_minor": 2
}
