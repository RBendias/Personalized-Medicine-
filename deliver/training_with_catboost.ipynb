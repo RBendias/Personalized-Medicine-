{
 "cells": [
  {
   "cell_type": "markdown",
   "metadata": {},
   "source": [
    "# Training with CatBoostClassifier\n"
   ]
  },
  {
   "cell_type": "markdown",
   "metadata": {},
   "source": [
    "**In this notebook:**\n",
    "* training CatBoostClassifier\n",
    "* test model on test data set\n",
    "* save prediction in Kaggle submission format\n",
    "\n",
    "**Key insights:**\n",
    "* reaching logloss of 2.05 \n",
    "* test accuracy is low"
   ]
  },
  {
   "cell_type": "markdown",
   "metadata": {},
   "source": [
    "## Installations"
   ]
  },
  {
   "cell_type": "code",
   "execution_count": null,
   "metadata": {
    "ExecuteTime": {
     "end_time": "2020-11-11T19:39:36.013628Z",
     "start_time": "2020-11-11T19:39:01.051475Z"
    }
   },
   "outputs": [],
   "source": [
    "!pip install catboost"
   ]
  },
  {
   "cell_type": "markdown",
   "metadata": {},
   "source": [
    "## Imports"
   ]
  },
  {
   "cell_type": "code",
   "execution_count": 1,
   "metadata": {
    "ExecuteTime": {
     "end_time": "2020-11-11T21:26:19.643418Z",
     "start_time": "2020-11-11T21:26:09.877504Z"
    }
   },
   "outputs": [
    {
     "name": "stderr",
     "output_type": "stream",
     "text": [
      "Using TensorFlow backend.\n"
     ]
    }
   ],
   "source": [
    "%load_ext autoreload\n",
    "%autoreload 2\n",
    "\n",
    "import datetime\n",
    "import pandas as pd\n",
    "import numpy as np\n",
    "import os\n",
    "import sys\n",
    "import matplotlib.pyplot as plt\n",
    "from catboost import CatBoostClassifier\n",
    "from imblearn.over_sampling import ADASYN\n",
    "\n",
    "sys.path.append(\"../utils/\")\n",
    "\n",
    "from evaluation import Evaluation"
   ]
  },
  {
   "cell_type": "markdown",
   "metadata": {},
   "source": [
    "## Load Data"
   ]
  },
  {
   "cell_type": "code",
   "execution_count": 2,
   "metadata": {
    "ExecuteTime": {
     "end_time": "2020-11-11T21:26:24.892558Z",
     "start_time": "2020-11-11T21:26:24.706727Z"
    }
   },
   "outputs": [
    {
     "name": "stdout",
     "output_type": "stream",
     "text": [
      "Training Data Shape: (3683, 111)\n",
      "Test Data Shape:     (125, 111)\n"
     ]
    }
   ],
   "source": [
    "data_path = \"../../data/msk-redefining-cancer-treatment\"\n",
    "x_train = np.load(os.path.join(data_path, \"processed/x_train_shuffled.npy\"))\n",
    "y_train = np.load(os.path.join(data_path, \"processed/y_train_shuffled.npy\"))\n",
    "x_test = np.load(os.path.join(data_path, \"processed/x_test_shuffled.npy\"))\n",
    "y_test = np.load(os.path.join(data_path, \"processed/y_test_shuffled.npy\"))\n",
    "print(\"Training Data Shape:\".ljust(20), x_train.shape)\n",
    "print(\"Test Data Shape:\".ljust(20), x_test.shape)"
   ]
  },
  {
   "cell_type": "markdown",
   "metadata": {},
   "source": [
    "## Prepare Data"
   ]
  },
  {
   "cell_type": "code",
   "execution_count": 3,
   "metadata": {
    "ExecuteTime": {
     "end_time": "2020-11-11T21:26:30.113175Z",
     "start_time": "2020-11-11T21:26:27.181812Z"
    }
   },
   "outputs": [
    {
     "name": "stdout",
     "output_type": "stream",
     "text": [
      "Training Data Shape after Oversampling: (9447, 111)\n"
     ]
    },
    {
     "data": {
      "text/plain": [
       "<BarContainer object of 9 artists>"
      ]
     },
     "execution_count": 3,
     "metadata": {},
     "output_type": "execute_result"
    },
    {
     "data": {
      "image/png": "[encoded data removed]",
      "text/plain": [
       "<Figure size 432x288 with 1 Axes>"
      ]
     },
     "metadata": {
      "needs_background": "light"
     },
     "output_type": "display_data"
    }
   ],
   "source": [
    "# Oversampling\n",
    "x_train, y_train = ADASYN(sampling_strategy=\"auto\").fit_sample(x_train, y_train)\n",
    "print(\"Training Data Shape after Oversampling:\", x_train.shape)\n",
    "plt.title(\"Distribution of labels after oversampling\")\n",
    "plt.xlabel(\"Labels\")\n",
    "plt.ylabel(\"Numbers of samples per class\")\n",
    "plt.bar(\n",
    "    np.unique(y_train, return_counts=True)[0], np.unique(y_train, return_counts=True)[1]\n",
    ")"
   ]
  },
  {
   "cell_type": "code",
   "execution_count": 4,
   "metadata": {
    "ExecuteTime": {
     "end_time": "2020-11-11T21:26:30.204020Z",
     "start_time": "2020-11-11T21:26:30.119042Z"
    }
   },
   "outputs": [],
   "source": [
    "# new labels 0,1,...8\n",
    "y_train = y_train - 1\n",
    "y_test = y_test - 1 "
   ]
  },
  {
   "cell_type": "markdown",
   "metadata": {},
   "source": [
    "## Training Models"
   ]
  },
  {
   "cell_type": "code",
   "execution_count": 5,
   "metadata": {
    "ExecuteTime": {
     "end_time": "2020-11-11T21:26:31.052568Z",
     "start_time": "2020-11-11T21:26:30.976806Z"
    }
   },
   "outputs": [],
   "source": [
    "# initialize model\n",
    "model = CatBoostClassifier(\n",
    "    iterations=250,\n",
    "    learning_rate=0.01,\n",
    "    depth=4,\n",
    "    l2_leaf_reg=3,\n",
    "    model_size_reg=10,\n",
    "    rsm=None,\n",
    "    loss_function=\"MultiClass\", # Negative Log Likelihood Loss \n",
    "    random_seed=100,\n",
    "    classes_count=9,\n",
    "    verbose=False,\n",
    "    bagging_temperature=1.0,\n",
    "    boosting_type=\"Plain\",  # Ordered — Usually provides better quality on small datasets, but it may be slower than the Plain scheme. Plain — The classic gradient boosting scheme.\n",
    "    max_bin=255,\n",
    ")"
   ]
  },
  {
   "cell_type": "code",
   "execution_count": 7,
   "metadata": {
    "ExecuteTime": {
     "end_time": "2020-11-11T21:26:38.626161Z",
     "start_time": "2020-11-11T21:26:38.057376Z"
    }
   },
   "outputs": [
    {
     "ename": "CatBoostError",
     "evalue": "catboost/private/libs/target/target_converter.cpp:166: Value in target (-1) is not expected class index",
     "output_type": "error",
     "traceback": [
      "\u001b[0;31m---------------------------------------------------------------------------\u001b[0m",
      "\u001b[0;31mCatBoostError\u001b[0m                             Traceback (most recent call last)",
      "\u001b[0;32m<ipython-input-7-2109a0a69086>\u001b[0m in \u001b[0;36m<module>\u001b[0;34m\u001b[0m\n\u001b[1;32m      2\u001b[0m \u001b[0;34m\u001b[0m\u001b[0m\n\u001b[1;32m      3\u001b[0m \u001b[0;31m# train the model\u001b[0m\u001b[0;34m\u001b[0m\u001b[0;34m\u001b[0m\u001b[0;34m\u001b[0m\u001b[0m\n\u001b[0;32m----> 4\u001b[0;31m \u001b[0mmodel\u001b[0m\u001b[0;34m.\u001b[0m\u001b[0mfit\u001b[0m\u001b[0;34m(\u001b[0m\u001b[0mx_train\u001b[0m\u001b[0;34m,\u001b[0m \u001b[0my_train\u001b[0m\u001b[0;34m,\u001b[0m \u001b[0mverbose_eval\u001b[0m\u001b[0;34m=\u001b[0m\u001b[0;36m0\u001b[0m\u001b[0;34m)\u001b[0m\u001b[0;34m\u001b[0m\u001b[0;34m\u001b[0m\u001b[0m\n\u001b[0m",
      "\u001b[0;32m/opt/conda/lib/python3.7/site-packages/catboost/core.py\u001b[0m in \u001b[0;36mfit\u001b[0;34m(self, X, y, cat_features, text_features, embedding_features, sample_weight, baseline, use_best_model, eval_set, verbose, logging_level, plot, column_description, verbose_eval, metric_period, silent, early_stopping_rounds, save_snapshot, snapshot_file, snapshot_interval, init_model)\u001b[0m\n\u001b[1;32m   4296\u001b[0m         self._fit(X, y, cat_features, text_features, embedding_features, None, sample_weight, None, None, None, None, baseline, use_best_model,\n\u001b[1;32m   4297\u001b[0m                   \u001b[0meval_set\u001b[0m\u001b[0;34m,\u001b[0m \u001b[0mverbose\u001b[0m\u001b[0;34m,\u001b[0m \u001b[0mlogging_level\u001b[0m\u001b[0;34m,\u001b[0m \u001b[0mplot\u001b[0m\u001b[0;34m,\u001b[0m \u001b[0mcolumn_description\u001b[0m\u001b[0;34m,\u001b[0m \u001b[0mverbose_eval\u001b[0m\u001b[0;34m,\u001b[0m \u001b[0mmetric_period\u001b[0m\u001b[0;34m,\u001b[0m\u001b[0;34m\u001b[0m\u001b[0;34m\u001b[0m\u001b[0m\n\u001b[0;32m-> 4298\u001b[0;31m                   silent, early_stopping_rounds, save_snapshot, snapshot_file, snapshot_interval, init_model)\n\u001b[0m\u001b[1;32m   4299\u001b[0m         \u001b[0;32mreturn\u001b[0m \u001b[0mself\u001b[0m\u001b[0;34m\u001b[0m\u001b[0;34m\u001b[0m\u001b[0m\n\u001b[1;32m   4300\u001b[0m \u001b[0;34m\u001b[0m\u001b[0m\n",
      "\u001b[0;32m/opt/conda/lib/python3.7/site-packages/catboost/core.py\u001b[0m in \u001b[0;36m_fit\u001b[0;34m(self, X, y, cat_features, text_features, embedding_features, pairs, sample_weight, group_id, group_weight, subgroup_id, pairs_weight, baseline, use_best_model, eval_set, verbose, logging_level, plot, column_description, verbose_eval, metric_period, silent, early_stopping_rounds, save_snapshot, snapshot_file, snapshot_interval, init_model)\u001b[0m\n\u001b[1;32m   1807\u001b[0m                 \u001b[0mparams\u001b[0m\u001b[0;34m,\u001b[0m\u001b[0;34m\u001b[0m\u001b[0;34m\u001b[0m\u001b[0m\n\u001b[1;32m   1808\u001b[0m                 \u001b[0mallow_clear_pool\u001b[0m\u001b[0;34m,\u001b[0m\u001b[0;34m\u001b[0m\u001b[0;34m\u001b[0m\u001b[0m\n\u001b[0;32m-> 1809\u001b[0;31m                 \u001b[0mtrain_params\u001b[0m\u001b[0;34m[\u001b[0m\u001b[0;34m\"init_model\"\u001b[0m\u001b[0;34m]\u001b[0m\u001b[0;34m\u001b[0m\u001b[0;34m\u001b[0m\u001b[0m\n\u001b[0m\u001b[1;32m   1810\u001b[0m             )\n\u001b[1;32m   1811\u001b[0m \u001b[0;34m\u001b[0m\u001b[0m\n",
      "\u001b[0;32m/opt/conda/lib/python3.7/site-packages/catboost/core.py\u001b[0m in \u001b[0;36m_train\u001b[0;34m(self, train_pool, test_pool, params, allow_clear_pool, init_model)\u001b[0m\n\u001b[1;32m   1256\u001b[0m \u001b[0;34m\u001b[0m\u001b[0m\n\u001b[1;32m   1257\u001b[0m     \u001b[0;32mdef\u001b[0m \u001b[0m_train\u001b[0m\u001b[0;34m(\u001b[0m\u001b[0mself\u001b[0m\u001b[0;34m,\u001b[0m \u001b[0mtrain_pool\u001b[0m\u001b[0;34m,\u001b[0m \u001b[0mtest_pool\u001b[0m\u001b[0;34m,\u001b[0m \u001b[0mparams\u001b[0m\u001b[0;34m,\u001b[0m \u001b[0mallow_clear_pool\u001b[0m\u001b[0;34m,\u001b[0m \u001b[0minit_model\u001b[0m\u001b[0;34m)\u001b[0m\u001b[0;34m:\u001b[0m\u001b[0;34m\u001b[0m\u001b[0;34m\u001b[0m\u001b[0m\n\u001b[0;32m-> 1258\u001b[0;31m         \u001b[0mself\u001b[0m\u001b[0;34m.\u001b[0m\u001b[0m_object\u001b[0m\u001b[0;34m.\u001b[0m\u001b[0m_train\u001b[0m\u001b[0;34m(\u001b[0m\u001b[0mtrain_pool\u001b[0m\u001b[0;34m,\u001b[0m \u001b[0mtest_pool\u001b[0m\u001b[0;34m,\u001b[0m \u001b[0mparams\u001b[0m\u001b[0;34m,\u001b[0m \u001b[0mallow_clear_pool\u001b[0m\u001b[0;34m,\u001b[0m \u001b[0minit_model\u001b[0m\u001b[0;34m.\u001b[0m\u001b[0m_object\u001b[0m \u001b[0;32mif\u001b[0m \u001b[0minit_model\u001b[0m \u001b[0;32melse\u001b[0m \u001b[0;32mNone\u001b[0m\u001b[0;34m)\u001b[0m\u001b[0;34m\u001b[0m\u001b[0;34m\u001b[0m\u001b[0m\n\u001b[0m\u001b[1;32m   1259\u001b[0m         \u001b[0mself\u001b[0m\u001b[0;34m.\u001b[0m\u001b[0m_set_trained_model_attributes\u001b[0m\u001b[0;34m(\u001b[0m\u001b[0;34m)\u001b[0m\u001b[0;34m\u001b[0m\u001b[0;34m\u001b[0m\u001b[0m\n\u001b[1;32m   1260\u001b[0m \u001b[0;34m\u001b[0m\u001b[0m\n",
      "\u001b[0;32m_catboost.pyx\u001b[0m in \u001b[0;36m_catboost._CatBoost._train\u001b[0;34m()\u001b[0m\n",
      "\u001b[0;32m_catboost.pyx\u001b[0m in \u001b[0;36m_catboost._CatBoost._train\u001b[0;34m()\u001b[0m\n",
      "\u001b[0;31mCatBoostError\u001b[0m: catboost/private/libs/target/target_converter.cpp:166: Value in target (-1) is not expected class index"
     ]
    }
   ],
   "source": [
    "modeltime = datetime.datetime.now().strftime(\"%y-%m-%d-%H-%M-%S\")\n",
    "\n",
    "# train the model\n",
    "model.fit(x_train, y_train, verbose_eval=0)"
   ]
  },
  {
   "cell_type": "code",
   "execution_count": null,
   "metadata": {
    "ExecuteTime": {
     "end_time": "2020-11-11T21:26:34.450216Z",
     "start_time": "2020-11-11T21:26:33.868Z"
    }
   },
   "outputs": [],
   "source": [
    "model.get_evals_result()"
   ]
  },
  {
   "cell_type": "code",
   "execution_count": null,
   "metadata": {
    "ExecuteTime": {
     "end_time": "2020-11-10T00:23:52.420185Z",
     "start_time": "2020-11-10T00:23:52.337529Z"
    }
   },
   "outputs": [],
   "source": [
    "modeltime"
   ]
  },
  {
   "cell_type": "code",
   "execution_count": null,
   "metadata": {
    "ExecuteTime": {
     "end_time": "2020-11-10T00:23:52.662779Z",
     "start_time": "2020-11-10T00:23:52.451544Z"
    }
   },
   "outputs": [],
   "source": [
    "model.save_model(\"models/catboost_\" + \"modeltime_\" + modeltime)"
   ]
  },
  {
   "cell_type": "code",
   "execution_count": null,
   "metadata": {
    "ExecuteTime": {
     "end_time": "2020-11-10T00:23:52.878389Z",
     "start_time": "2020-11-10T00:23:52.669899Z"
    }
   },
   "outputs": [],
   "source": [
    "# make the prediction using the resulting model\n",
    "preds_class = model.predict(x_test)\n",
    "preds_proba = model.predict_proba(x_test)\n",
    "print(\"proba = \", preds_proba)"
   ]
  },
  {
   "cell_type": "code",
   "execution_count": null,
   "metadata": {
    "ExecuteTime": {
     "end_time": "2020-11-10T00:23:53.140256Z",
     "start_time": "2020-11-10T00:23:52.884998Z"
    }
   },
   "outputs": [],
   "source": [
    "# Transform into submission format\n",
    "submission = pd.DataFrame(preds_proba, columns=[\"class\" + str(c + 1) for c in range(9)])\n",
    "submission[\"ID\"] = np.arange(1, 987)\n",
    "# Save submission without weighting\n",
    "submission.to_csv(\"submissions/submission_catboost_\" + modeltime + \".csv\", index=False)"
   ]
  },
  {
   "cell_type": "markdown",
   "metadata": {},
   "source": [
    "## Weighting Predictions"
   ]
  },
  {
   "cell_type": "code",
   "execution_count": null,
   "metadata": {
    "ExecuteTime": {
     "end_time": "2020-11-10T00:23:53.495933Z",
     "start_time": "2020-11-10T00:23:53.144339Z"
    }
   },
   "outputs": [],
   "source": [
    "all_1_over_9 = pd.read_csv(os.path.join(data_path, \"external/submission_1_over_9.csv\"))\n",
    "all_1_over_9 = all_1_over_9.drop(\"ID\", axis=1)\n",
    "\n",
    "# weighted average\n",
    "weighting = (6, 4)\n",
    "submission_weighted = (preds_proba * weighting[0] + all_1_over_9 * weighting[1]) / 10\n",
    "submission_weighted.shape"
   ]
  },
  {
   "cell_type": "markdown",
   "metadata": {},
   "source": [
    "## Private Leaderboard Evaluation"
   ]
  },
  {
   "cell_type": "code",
   "execution_count": null,
   "metadata": {
    "ExecuteTime": {
     "end_time": "2020-11-10T00:23:53.691104Z",
     "start_time": "2020-11-10T00:23:53.500060Z"
    }
   },
   "outputs": [],
   "source": [
    "ids = pd.read_csv(os.path.join(data_path, \"raw/stage_2_private_solution.csv\")).ID.values\n",
    "pred = np.take(submission_weighted, (list(ids - 1)), axis=0)\n",
    "pred"
   ]
  },
  {
   "cell_type": "code",
   "execution_count": null,
   "metadata": {
    "ExecuteTime": {
     "end_time": "2020-11-10T00:23:56.515232Z",
     "start_time": "2020-11-10T00:23:53.702416Z"
    }
   },
   "outputs": [],
   "source": [
    "ev = Evaluation(y_pred=pred.to_numpy(), y_test=y_test)\n",
    "ev.entire_evaluation(filename=\"results_catboost.csv\")"
   ]
  },
  {
   "cell_type": "markdown",
   "metadata": {},
   "source": [
    "## Save Submission"
   ]
  },
  {
   "cell_type": "code",
   "execution_count": null,
   "metadata": {
    "ExecuteTime": {
     "end_time": "2020-11-10T00:23:56.845810Z",
     "start_time": "2020-11-10T00:23:56.520381Z"
    }
   },
   "outputs": [],
   "source": [
    "# transform weighted average into kaggle format\n",
    "submission_weighted = pd.DataFrame(\n",
    "    submission_weighted, columns=[\"class\" + str(c + 1) for c in range(9)]\n",
    ")\n",
    "submission_weighted[\"ID\"] = np.arange(1, 987)\n",
    "\n",
    "# save submission\n",
    "submission_weighted.to_csv(\n",
    "    \"submissions/submission_catboost_weighted\"\n",
    "    + str(weighting)\n",
    "    + \"_\"\n",
    "    + modeltime\n",
    "    + \".csv\",\n",
    "    index=False,\n",
    ")"
   ]
  }
 ],
 "metadata": {
  "kernelspec": {
   "display_name": "Python 3",
   "language": "python",
   "name": "python3"
  },
  "language_info": {
   "codemirror_mode": {
    "name": "ipython",
    "version": 3
   },
   "file_extension": ".py",
   "mimetype": "text/x-python",
   "name": "python",
   "nbconvert_exporter": "python",
   "pygments_lexer": "ipython3",
   "version": "3.7.6"
  },
  "toc": {
   "base_numbering": 1,
   "nav_menu": {},
   "number_sections": false,
   "sideBar": true,
   "skip_h1_title": false,
   "title_cell": "Table of Contents",
   "title_sidebar": "Contents",
   "toc_cell": false,
   "toc_position": {},
   "toc_section_display": true,
   "toc_window_display": false
  }
 },
 "nbformat": 4,
 "nbformat_minor": 2
}
