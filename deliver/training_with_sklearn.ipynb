{
 "cells": [
  {
   "cell_type": "markdown",
   "metadata": {},
   "source": [
    "# Training with Sklearn\n"
   ]
  },
  {
   "cell_type": "markdown",
   "metadata": {},
   "source": [
    "**In this notebook:**\n",
    "* load training and test data\n",
    "* oversample training data with ADASYN\n",
    "* define grisearch for logistic regression and svc model\n",
    "* test best models on test data set\n",
    "* evaluate predictions \n",
    "\n",
    "**Key insights:**\n",
    "* Without oversampling, all test data is assigned to the most representative classes (1,2,4 and 7).\n",
    "* learning does not converge\n",
    "* minimum logloss 2.02\n",
    "* maximum accuracy 32%\n"
   ]
  },
  {
   "cell_type": "markdown",
   "metadata": {},
   "source": [
    "## Imports"
   ]
  },
  {
   "cell_type": "code",
   "execution_count": 1,
   "metadata": {
    "ExecuteTime": {
     "end_time": "2020-11-11T18:27:21.512919Z",
     "start_time": "2020-11-11T18:27:00.408657Z"
    }
   },
   "outputs": [
    {
     "data": {
      "application/javascript": [
       "if (!(\"Notification\" in window)) {\n",
       "    alert(\"This browser does not support desktop notifications, so the %%notify magic will not work.\");\n",
       "} else if (Notification.permission !== 'granted' && Notification.permission !== 'denied') {\n",
       "    Notification.requestPermission(function (permission) {\n",
       "        if(!('permission' in Notification)) {\n",
       "            Notification.permission = permission;\n",
       "        }\n",
       "    })\n",
       "}\n"
      ],
      "text/plain": [
       "<IPython.core.display.Javascript object>"
      ]
     },
     "metadata": {},
     "output_type": "display_data"
    },
    {
     "name": "stderr",
     "output_type": "stream",
     "text": [
      "Using TensorFlow backend.\n"
     ]
    }
   ],
   "source": [
    "%load_ext autoreload\n",
    "%autoreload 2\n",
    "%load_ext jupyternotify\n",
    "%autonotify -a 30\n",
    "\n",
    "import pandas as pd\n",
    "import numpy as np\n",
    "import os\n",
    "import matplotlib.pyplot as plt\n",
    "import itertools\n",
    "from imblearn.over_sampling import SMOTE, ADASYN\n",
    "from sklearn.linear_model import LogisticRegression\n",
    "from sklearn import svm\n",
    "from sklearn.preprocessing import LabelBinarizer\n",
    "from sklearn.preprocessing import MinMaxScaler\n",
    "from sklearn.model_selection import GridSearchCV\n",
    "from pprint import pprint\n",
    "from time import time\n",
    "\n",
    "import sys\n",
    "\n",
    "sys.path.append(\"../utils/\")\n",
    "from evaluation import Evaluation"
   ]
  },
  {
   "cell_type": "markdown",
   "metadata": {},
   "source": [
    "## Prepare Data"
   ]
  },
  {
   "cell_type": "code",
   "execution_count": 2,
   "metadata": {
    "ExecuteTime": {
     "end_time": "2020-11-11T18:27:22.008670Z",
     "start_time": "2020-11-11T18:27:21.528013Z"
    }
   },
   "outputs": [
    {
     "name": "stdout",
     "output_type": "stream",
     "text": [
      "Training Data Shape: (3683, 110)\n",
      "Test Data Shape:     (986, 110)\n"
     ]
    }
   ],
   "source": [
    "# Load Data\n",
    "data_path = \"../../data/msk-redefining-cancer-treatment\"\n",
    "x_train = np.load(os.path.join(data_path, \"processed/x_train\"), allow_pickle=True)\n",
    "y_train = np.load(os.path.join(data_path, \"processed/y_train\"), allow_pickle=True)\n",
    "x_test = np.load(os.path.join(data_path, \"processed/x_test\"), allow_pickle=True)\n",
    "y_test = np.load(os.path.join(data_path, \"processed/y_test\"), allow_pickle=True)\n",
    "print(\"Training Data Shape:\".ljust(20), x_train.shape)\n",
    "print(\"Test Data Shape:\".ljust(20), x_test.shape)"
   ]
  },
  {
   "cell_type": "code",
   "execution_count": 3,
   "metadata": {
    "ExecuteTime": {
     "end_time": "2020-11-11T18:27:22.254018Z",
     "start_time": "2020-11-11T18:27:22.027369Z"
    }
   },
   "outputs": [],
   "source": [
    "# Data needed for weighting\n",
    "all_1_over_9 = pd.read_csv(os.path.join(data_path, \"external/submission_1_over_9.csv\"))\n",
    "all_1_over_9 = all_1_over_9.drop(\"ID\", axis=1)"
   ]
  },
  {
   "cell_type": "code",
   "execution_count": 4,
   "metadata": {
    "ExecuteTime": {
     "end_time": "2020-11-11T18:27:22.494441Z",
     "start_time": "2020-11-11T18:27:22.259510Z"
    }
   },
   "outputs": [],
   "source": [
    "# Not all test samples have a solution -> ids - with solution\n",
    "ids = pd.read_csv(os.path.join(data_path, \"raw/stage_2_private_solution.csv\")).ID.values"
   ]
  },
  {
   "cell_type": "code",
   "execution_count": 5,
   "metadata": {
    "ExecuteTime": {
     "end_time": "2020-11-11T18:27:24.191652Z",
     "start_time": "2020-11-11T18:27:22.504920Z"
    }
   },
   "outputs": [
    {
     "name": "stdout",
     "output_type": "stream",
     "text": [
      "Training Data Shape after Oversampling: (9493, 110)\n"
     ]
    }
   ],
   "source": [
    "# Oversample Training Data\n",
    "x_train, y_train = ADASYN(sampling_strategy=\"auto\").fit_sample(x_train, y_train)\n",
    "print(\"Training Data Shape after Oversampling:\", x_train.shape)"
   ]
  },
  {
   "cell_type": "code",
   "execution_count": 6,
   "metadata": {
    "ExecuteTime": {
     "end_time": "2020-11-11T18:27:24.853774Z",
     "start_time": "2020-11-11T18:27:24.198983Z"
    }
   },
   "outputs": [
    {
     "data": {
      "text/plain": [
       "<BarContainer object of 9 artists>"
      ]
     },
     "execution_count": 6,
     "metadata": {},
     "output_type": "execute_result"
    },
    {
     "data": {
      "image/png": "[encoded data removed]",
      "text/plain": [
       "<Figure size 432x288 with 1 Axes>"
      ]
     },
     "metadata": {
      "needs_background": "light"
     },
     "output_type": "display_data"
    }
   ],
   "source": [
    "plt.title(\"Distribution of Labels\")\n",
    "plt.xlabel(\"Labels\")\n",
    "plt.ylabel(\"Numbers of samples per class\")\n",
    "plt.bar(\n",
    "    np.unique(y_train, return_counts=True)[0], np.unique(y_train, return_counts=True)[1]\n",
    ")"
   ]
  },
  {
   "cell_type": "code",
   "execution_count": 7,
   "metadata": {
    "ExecuteTime": {
     "end_time": "2020-11-11T18:27:25.012995Z",
     "start_time": "2020-11-11T18:27:24.864276Z"
    }
   },
   "outputs": [],
   "source": [
    "# Normalize (if not already during preprocessing)\n",
    "normalizer = MinMaxScaler()\n",
    "x_train = normalizer.fit_transform(x_train)\n",
    "x_test = normalizer.transform(x_test)"
   ]
  },
  {
   "cell_type": "markdown",
   "metadata": {},
   "source": [
    "## Gridsearch Function"
   ]
  },
  {
   "cell_type": "code",
   "execution_count": 8,
   "metadata": {
    "ExecuteTime": {
     "end_time": "2020-11-11T18:27:25.130196Z",
     "start_time": "2020-11-11T18:27:25.018894Z"
    }
   },
   "outputs": [],
   "source": [
    "def get_best_estimator(clf, parameters, scoring, n_jobs=12):\n",
    "    grid_search = GridSearchCV(\n",
    "        clf, param_grid=parameters, scoring=\"neg_log_loss\", verbose=1\n",
    "    )\n",
    "\n",
    "    print(\"Performing grid search...\")\n",
    "    print(\"parameters:\")\n",
    "    pprint(parameters)\n",
    "    t0 = time()\n",
    "\n",
    "    grid_search.fit(x_train, y_train.astype(str))\n",
    "\n",
    "    print(\"done in %0.3fs\" % (time() - t0))\n",
    "    print()\n",
    "\n",
    "    print(\"Best score: %0.3f\" % grid_search.best_score_)\n",
    "    print(\"Best parameters set:\")\n",
    "    best_parameters = grid_search.best_estimator_.get_params()\n",
    "    for param_name in sorted(parameters.keys()):\n",
    "        print(\"\\t%s: %r\" % (param_name, best_parameters[param_name]))\n",
    "    print(\"Done!\")\n",
    "    return grid_search.best_estimator_"
   ]
  },
  {
   "cell_type": "markdown",
   "metadata": {},
   "source": [
    "## Logistic Regression Classifier"
   ]
  },
  {
   "cell_type": "markdown",
   "metadata": {
    "heading_collapsed": true
   },
   "source": [
    "### Grid-Search"
   ]
  },
  {
   "cell_type": "code",
   "execution_count": 27,
   "metadata": {
    "ExecuteTime": {
     "end_time": "2020-11-11T17:52:43.765121Z",
     "start_time": "2020-11-11T17:52:43.665598Z"
    },
    "hidden": true
   },
   "outputs": [],
   "source": [
    "# define model\n",
    "clf = LogisticRegression()"
   ]
  },
  {
   "cell_type": "code",
   "execution_count": 28,
   "metadata": {
    "ExecuteTime": {
     "end_time": "2020-11-11T17:52:43.870971Z",
     "start_time": "2020-11-11T17:52:43.770733Z"
    },
    "hidden": true
   },
   "outputs": [],
   "source": [
    "# define parameters\n",
    "parameters = {\n",
    "    'tol':(1e-5,1e-4,1e-3),\n",
    "    \"class_weight\": (None, \"balanced\"),\n",
    "    'solver': ('newton-cg', 'saga'), \n",
    "    'max_iter': (5000, 10000),\n",
    "}\n",
    "scoring = \"neg_log_loss\"\n",
    "n_jobs = 12"
   ]
  },
  {
   "cell_type": "code",
   "execution_count": 29,
   "metadata": {
    "ExecuteTime": {
     "end_time": "2020-11-11T18:12:36.907879Z",
     "start_time": "2020-11-11T17:52:43.877484Z"
    },
    "hidden": true
   },
   "outputs": [
    {
     "name": "stdout",
     "output_type": "stream",
     "text": [
      "Performing grid search...\n",
      "parameters:\n",
      "{'class_weight': (None, 'balanced'),\n",
      " 'max_iter': (5000, 10000),\n",
      " 'solver': ('newton-cg', 'saga'),\n",
      " 'tol': (1e-05, 0.0001, 0.001)}\n",
      "Fitting 5 folds for each of 24 candidates, totalling 120 fits\n"
     ]
    },
    {
     "name": "stderr",
     "output_type": "stream",
     "text": [
      "[Parallel(n_jobs=1)]: Using backend SequentialBackend with 1 concurrent workers.\n",
      "[Parallel(n_jobs=1)]: Done 120 out of 120 | elapsed: 19.8min finished\n"
     ]
    },
    {
     "name": "stdout",
     "output_type": "stream",
     "text": [
      "done in 1191.971s\n",
      "\n",
      "Best score: -1.194\n",
      "Best parameters set:\n",
      "\tclass_weight: None\n",
      "\tmax_iter: 5000\n",
      "\tsolver: 'newton-cg'\n",
      "\ttol: 0.001\n",
      "Done!\n"
     ]
    },
    {
     "data": {
      "application/javascript": [
       "$(document).ready(\n",
       "    function() {\n",
       "        function appendUniqueDiv(){\n",
       "            // append a div with our uuid so we can check that it's already\n",
       "            // been sent and avoid duplicates on page reload\n",
       "            var notifiedDiv = document.createElement(\"div\")\n",
       "            notifiedDiv.id = \"27271202-d157-4a44-a5eb-e458485693a0\"\n",
       "            element.append(notifiedDiv)\n",
       "        }\n",
       "\n",
       "        // only send notifications if the pageload is complete; this will\n",
       "        // help stop extra notifications when a saved notebook is loaded,\n",
       "        // which during testing gives us state \"interactive\", not \"complete\"\n",
       "        if (document.readyState === 'complete') {\n",
       "            // check for the div that signifies that the notification\n",
       "            // was already sent\n",
       "            if (document.getElementById(\"27271202-d157-4a44-a5eb-e458485693a0\") === null) {\n",
       "                var notificationPayload = {\"requireInteraction\": false, \"icon\": \"/static/base/images/favicon.ico\", \"body\": \"Cell Execution Has Finished!!\", \"autonotify_after\": \"30\", \"autonotify_output\": false};\n",
       "                if (Notification.permission !== 'denied') {\n",
       "                    if (Notification.permission !== 'granted') { \n",
       "                        Notification.requestPermission(function (permission) {\n",
       "                            if(!('permission' in Notification)) {\n",
       "                                Notification.permission = permission\n",
       "                            }\n",
       "                        })\n",
       "                    }\n",
       "                    if (Notification.permission === 'granted') {\n",
       "                    var notification = new Notification(\"Jupyter Notebook\", notificationPayload)\n",
       "                    appendUniqueDiv()\n",
       "                    notification.onclick = function () {\n",
       "                        window.focus();\n",
       "                        this.close();\n",
       "                        };\n",
       "                    } \n",
       "                }     \n",
       "            }\n",
       "        }\n",
       "    }\n",
       ")\n"
      ],
      "text/plain": [
       "<IPython.core.display.Javascript object>"
      ]
     },
     "metadata": {},
     "output_type": "display_data"
    },
    {
     "data": {
      "application/javascript": [
       "$(document).ready(\n",
       "    function() {\n",
       "        function appendUniqueDiv(){\n",
       "            // append a div with our uuid so we can check that it's already\n",
       "            // been sent and avoid duplicates on page reload\n",
       "            var notifiedDiv = document.createElement(\"div\")\n",
       "            notifiedDiv.id = \"27271202-d157-4a44-a5eb-e458485693a0\"\n",
       "            element.append(notifiedDiv)\n",
       "        }\n",
       "\n",
       "        // only send notifications if the pageload is complete; this will\n",
       "        // help stop extra notifications when a saved notebook is loaded,\n",
       "        // which during testing gives us state \"interactive\", not \"complete\"\n",
       "        if (document.readyState === 'complete') {\n",
       "            // check for the div that signifies that the notification\n",
       "            // was already sent\n",
       "            if (document.getElementById(\"27271202-d157-4a44-a5eb-e458485693a0\") === null) {\n",
       "                var notificationPayload = {\"requireInteraction\": false, \"icon\": \"/static/base/images/favicon.ico\", \"body\": \"Cell Execution Has Finished!!\", \"autonotify_after\": \"30\", \"autonotify_output\": false};\n",
       "                if (Notification.permission !== 'denied') {\n",
       "                    if (Notification.permission !== 'granted') { \n",
       "                        Notification.requestPermission(function (permission) {\n",
       "                            if(!('permission' in Notification)) {\n",
       "                                Notification.permission = permission\n",
       "                            }\n",
       "                        })\n",
       "                    }\n",
       "                    if (Notification.permission === 'granted') {\n",
       "                    var notification = new Notification(\"Jupyter Notebook\", notificationPayload)\n",
       "                    appendUniqueDiv()\n",
       "                    notification.onclick = function () {\n",
       "                        window.focus();\n",
       "                        this.close();\n",
       "                        };\n",
       "                    } \n",
       "                }     \n",
       "            }\n",
       "        }\n",
       "    }\n",
       ")\n"
      ],
      "text/plain": [
       "<IPython.core.display.Javascript object>"
      ]
     },
     "metadata": {},
     "output_type": "display_data"
    },
    {
     "data": {
      "application/javascript": [
       "$(document).ready(\n",
       "    function() {\n",
       "        function appendUniqueDiv(){\n",
       "            // append a div with our uuid so we can check that it's already\n",
       "            // been sent and avoid duplicates on page reload\n",
       "            var notifiedDiv = document.createElement(\"div\")\n",
       "            notifiedDiv.id = \"27271202-d157-4a44-a5eb-e458485693a0\"\n",
       "            element.append(notifiedDiv)\n",
       "        }\n",
       "\n",
       "        // only send notifications if the pageload is complete; this will\n",
       "        // help stop extra notifications when a saved notebook is loaded,\n",
       "        // which during testing gives us state \"interactive\", not \"complete\"\n",
       "        if (document.readyState === 'complete') {\n",
       "            // check for the div that signifies that the notification\n",
       "            // was already sent\n",
       "            if (document.getElementById(\"27271202-d157-4a44-a5eb-e458485693a0\") === null) {\n",
       "                var notificationPayload = {\"requireInteraction\": false, \"icon\": \"/static/base/images/favicon.ico\", \"body\": \"Cell Execution Has Finished!!\", \"autonotify_after\": \"30\", \"autonotify_output\": false};\n",
       "                if (Notification.permission !== 'denied') {\n",
       "                    if (Notification.permission !== 'granted') { \n",
       "                        Notification.requestPermission(function (permission) {\n",
       "                            if(!('permission' in Notification)) {\n",
       "                                Notification.permission = permission\n",
       "                            }\n",
       "                        })\n",
       "                    }\n",
       "                    if (Notification.permission === 'granted') {\n",
       "                    var notification = new Notification(\"Jupyter Notebook\", notificationPayload)\n",
       "                    appendUniqueDiv()\n",
       "                    notification.onclick = function () {\n",
       "                        window.focus();\n",
       "                        this.close();\n",
       "                        };\n",
       "                    } \n",
       "                }     \n",
       "            }\n",
       "        }\n",
       "    }\n",
       ")\n"
      ],
      "text/plain": [
       "<IPython.core.display.Javascript object>"
      ]
     },
     "metadata": {},
     "output_type": "display_data"
    },
    {
     "data": {
      "application/javascript": [
       "$(document).ready(\n",
       "    function() {\n",
       "        function appendUniqueDiv(){\n",
       "            // append a div with our uuid so we can check that it's already\n",
       "            // been sent and avoid duplicates on page reload\n",
       "            var notifiedDiv = document.createElement(\"div\")\n",
       "            notifiedDiv.id = \"27271202-d157-4a44-a5eb-e458485693a0\"\n",
       "            element.append(notifiedDiv)\n",
       "        }\n",
       "\n",
       "        // only send notifications if the pageload is complete; this will\n",
       "        // help stop extra notifications when a saved notebook is loaded,\n",
       "        // which during testing gives us state \"interactive\", not \"complete\"\n",
       "        if (document.readyState === 'complete') {\n",
       "            // check for the div that signifies that the notification\n",
       "            // was already sent\n",
       "            if (document.getElementById(\"27271202-d157-4a44-a5eb-e458485693a0\") === null) {\n",
       "                var notificationPayload = {\"requireInteraction\": false, \"icon\": \"/static/base/images/favicon.ico\", \"body\": \"Cell Execution Has Finished!!\", \"autonotify_after\": \"30\", \"autonotify_output\": false};\n",
       "                if (Notification.permission !== 'denied') {\n",
       "                    if (Notification.permission !== 'granted') { \n",
       "                        Notification.requestPermission(function (permission) {\n",
       "                            if(!('permission' in Notification)) {\n",
       "                                Notification.permission = permission\n",
       "                            }\n",
       "                        })\n",
       "                    }\n",
       "                    if (Notification.permission === 'granted') {\n",
       "                    var notification = new Notification(\"Jupyter Notebook\", notificationPayload)\n",
       "                    appendUniqueDiv()\n",
       "                    notification.onclick = function () {\n",
       "                        window.focus();\n",
       "                        this.close();\n",
       "                        };\n",
       "                    } \n",
       "                }     \n",
       "            }\n",
       "        }\n",
       "    }\n",
       ")\n"
      ],
      "text/plain": [
       "<IPython.core.display.Javascript object>"
      ]
     },
     "metadata": {},
     "output_type": "display_data"
    }
   ],
   "source": [
    "best_clf = get_best_estimator(clf=clf, parameters=parameters, scoring=scoring, n_jobs=n_jobs)"
   ]
  },
  {
   "cell_type": "markdown",
   "metadata": {},
   "source": [
    "### Predict Test Labels"
   ]
  },
  {
   "cell_type": "code",
   "execution_count": null,
   "metadata": {
    "ExecuteTime": {
     "end_time": "2020-11-11T18:19:38.314925Z",
     "start_time": "2020-11-11T18:13:09.811Z"
    }
   },
   "outputs": [],
   "source": [
    "pred = best_clf.predict_proba(x_test) \n",
    "print('Sample of Prediction: ', pred[0])"
   ]
  },
  {
   "cell_type": "markdown",
   "metadata": {},
   "source": [
    "### Weighting of Predictions"
   ]
  },
  {
   "cell_type": "code",
   "execution_count": null,
   "metadata": {
    "ExecuteTime": {
     "end_time": "2020-11-11T18:19:38.319293Z",
     "start_time": "2020-11-11T18:13:18.620Z"
    }
   },
   "outputs": [],
   "source": [
    "# weighted average\n",
    "weighting = (6, 4)\n",
    "submission_weighted = (pred * weighting[0] + all_1_over_9 * weighting[1]) / 10\n",
    "submission_weighted.shape"
   ]
  },
  {
   "cell_type": "markdown",
   "metadata": {},
   "source": [
    "### Evaluate Classifier"
   ]
  },
  {
   "cell_type": "code",
   "execution_count": 32,
   "metadata": {
    "ExecuteTime": {
     "end_time": "2020-11-11T18:12:40.970477Z",
     "start_time": "2020-11-11T18:12:40.884535Z"
    }
   },
   "outputs": [],
   "source": [
    "# Filter ids with given label \n",
    "pred_weighted = np.take(submission_weighted, (list(ids - 1)), axis=0)"
   ]
  },
  {
   "cell_type": "code",
   "execution_count": 33,
   "metadata": {
    "ExecuteTime": {
     "end_time": "2020-11-11T18:12:44.382131Z",
     "start_time": "2020-11-11T18:12:40.976267Z"
    }
   },
   "outputs": [
    {
     "name": "stdout",
     "output_type": "stream",
     "text": [
      "Accuracy: 0.32 Log loss: 2.0205699501486203 F1 micro: 0.32 F1 macro: 0.1325481006625616\n"
     ]
    },
    {
     "data": {
      "image/png": "[encoded data removed]",
      "text/plain": [
       "<Figure size 432x288 with 2 Axes>"
      ]
     },
     "metadata": {
      "needs_background": "light"
     },
     "output_type": "display_data"
    },
    {
     "data": {
      "image/png": "[encoded data removed]",
      "text/plain": [
       "<Figure size 432x288 with 2 Axes>"
      ]
     },
     "metadata": {
      "needs_background": "light"
     },
     "output_type": "display_data"
    }
   ],
   "source": [
    "ev = Evaluation(y_pred = pred_weighted.to_numpy(), y_test=y_test)\n",
    "ev.entire_evaluation()"
   ]
  },
  {
   "cell_type": "markdown",
   "metadata": {},
   "source": [
    "## Linear SVC Classifier"
   ]
  },
  {
   "cell_type": "markdown",
   "metadata": {},
   "source": [
    "### Grid-Search"
   ]
  },
  {
   "cell_type": "code",
   "execution_count": 9,
   "metadata": {
    "ExecuteTime": {
     "end_time": "2020-11-11T18:27:25.236617Z",
     "start_time": "2020-11-11T18:27:25.143596Z"
    }
   },
   "outputs": [],
   "source": [
    "# define model\n",
    "svc_clf = svm.SVC(kernel='linear',probability=True)"
   ]
  },
  {
   "cell_type": "code",
   "execution_count": 14,
   "metadata": {
    "ExecuteTime": {
     "end_time": "2020-11-11T18:29:39.748660Z",
     "start_time": "2020-11-11T18:29:39.617760Z"
    }
   },
   "outputs": [],
   "source": [
    "# define parameters\n",
    "svc_parameters = {\n",
    "    'tol':(1e-5,1e-4,1e-3),\n",
    "    'C':(0.5, 1),\n",
    "    'class_weight':(None, 'balanced'), \n",
    "    'max_iter': (5000, 10000),\n",
    "}\n",
    "svc_scoring = 'accuracy'\n",
    "svc_n_jobs = 8"
   ]
  },
  {
   "cell_type": "code",
   "execution_count": null,
   "metadata": {
    "ExecuteTime": {
     "start_time": "2020-11-11T18:29:41.053Z"
    }
   },
   "outputs": [
    {
     "name": "stdout",
     "output_type": "stream",
     "text": [
      "Performing grid search...\n",
      "parameters:\n",
      "{'C': (0.5, 1),\n",
      " 'class_weight': (None, 'balanced'),\n",
      " 'max_iter': (5000, 10000),\n",
      " 'tol': (1e-05, 0.0001, 0.001)}\n",
      "Fitting 5 folds for each of 24 candidates, totalling 120 fits\n"
     ]
    },
    {
     "name": "stderr",
     "output_type": "stream",
     "text": [
      "[Parallel(n_jobs=1)]: Using backend SequentialBackend with 1 concurrent workers.\n"
     ]
    }
   ],
   "source": [
    "best_svc_clf = get_best_estimator(clf=svc_clf, parameters=svc_parameters, scoring=svc_scoring, n_jobs=svc_n_jobs )"
   ]
  },
  {
   "cell_type": "markdown",
   "metadata": {},
   "source": [
    "### Predict Test Labels"
   ]
  },
  {
   "cell_type": "code",
   "execution_count": null,
   "metadata": {
    "ExecuteTime": {
     "end_time": "2020-11-11T18:19:38.302237Z",
     "start_time": "2020-11-11T17:52:41.138Z"
    }
   },
   "outputs": [],
   "source": [
    "pred = best_svc_clf.predict_proba(x_test) \n",
    "print('Sample of Prediction: ', pred[0])"
   ]
  },
  {
   "cell_type": "markdown",
   "metadata": {},
   "source": [
    "### Weighting of Predictions"
   ]
  },
  {
   "cell_type": "code",
   "execution_count": null,
   "metadata": {
    "ExecuteTime": {
     "end_time": "2020-11-11T18:19:38.306211Z",
     "start_time": "2020-11-11T17:52:41.142Z"
    }
   },
   "outputs": [],
   "source": [
    "# weighted average\n",
    "weighting = (6, 4)\n",
    "submission_weighted = (pred * weighting[0] + all_1_over_9 * weighting[1]) / 10\n",
    "submission_weighted.shape"
   ]
  },
  {
   "cell_type": "markdown",
   "metadata": {},
   "source": [
    "### Evaluate Classifier"
   ]
  },
  {
   "cell_type": "code",
   "execution_count": null,
   "metadata": {
    "ExecuteTime": {
     "end_time": "2020-11-11T18:19:38.309664Z",
     "start_time": "2020-11-11T17:52:41.145Z"
    }
   },
   "outputs": [],
   "source": [
    "# Filter ids with given label \n",
    "pred_weighted = np.take(submission_weighted, (list(ids - 1)), axis=0)"
   ]
  },
  {
   "cell_type": "code",
   "execution_count": null,
   "metadata": {
    "ExecuteTime": {
     "end_time": "2020-11-11T18:19:38.312451Z",
     "start_time": "2020-11-11T17:52:41.148Z"
    }
   },
   "outputs": [],
   "source": [
    "ev = Evaluation(y_pred = pred_weighted.to_numpy(), y_test=y_test)\n",
    "ev.entire_evaluation()"
   ]
  }
 ],
 "metadata": {
  "kernelspec": {
   "display_name": "Python 3",
   "language": "python",
   "name": "python3"
  },
  "language_info": {
   "codemirror_mode": {
    "name": "ipython",
    "version": 3
   },
   "file_extension": ".py",
   "mimetype": "text/x-python",
   "name": "python",
   "nbconvert_exporter": "python",
   "pygments_lexer": "ipython3",
   "version": "3.7.6"
  },
  "toc": {
   "base_numbering": 1,
   "nav_menu": {},
   "number_sections": true,
   "sideBar": true,
   "skip_h1_title": true,
   "title_cell": "Table of Contents",
   "title_sidebar": "Contents",
   "toc_cell": false,
   "toc_position": {},
   "toc_section_display": true,
   "toc_window_display": true
  }
 },
 "nbformat": 4,
 "nbformat_minor": 2
}
