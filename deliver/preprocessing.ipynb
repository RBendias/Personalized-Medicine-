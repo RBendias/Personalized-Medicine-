{
 "cells": [
  {
   "cell_type": "markdown",
   "metadata": {},
   "source": [
    "# Preprocessing "
   ]
  },
  {
   "cell_type": "markdown",
   "metadata": {},
   "source": [
    "**In this notebook:**\n",
    "* Loading raw text and variation data \n",
    "* Adding features such as physiochemical distance (Grantham, 1974) \n",
    "* Vectorization of the data\n",
    "* Dimension reduction\n",
    "* Saving the features"
   ]
  },
  {
   "cell_type": "markdown",
   "metadata": {},
   "source": [
    "## Imports"
   ]
  },
  {
   "cell_type": "code",
   "execution_count": 1,
   "metadata": {
    "ExecuteTime": {
     "end_time": "2020-10-30T15:13:55.464531Z",
     "start_time": "2020-10-30T15:13:50.054931Z"
    }
   },
   "outputs": [],
   "source": [
    "import os\n",
    "import pandas as pd\n",
    "import sys\n",
    "\n",
    "sys.path.append(\"../utils/\")\n",
    "from our_preprocessor import *\n",
    "from preprocessing import get_phsysiochem_distance"
   ]
  },
  {
   "cell_type": "code",
   "execution_count": 10,
   "metadata": {
    "ExecuteTime": {
     "end_time": "2020-10-30T15:29:35.591200Z",
     "start_time": "2020-10-30T15:29:35.479875Z"
    }
   },
   "outputs": [],
   "source": [
    "from sklearn.pipeline import Pipeline, FeatureUnion\n",
    "from sklearn.base import BaseEstimator, TransformerMixin\n",
    "from sklearn.feature_extraction.text import CountVectorizer, TfidfVectorizer\n",
    "from sklearn.decomposition import TruncatedSVD\n",
    "from sklearn.preprocessing import LabelEncoder"
   ]
  },
  {
   "cell_type": "markdown",
   "metadata": {},
   "source": [
    "## Load Data"
   ]
  },
  {
   "cell_type": "code",
   "execution_count": 3,
   "metadata": {
    "ExecuteTime": {
     "end_time": "2020-10-30T15:13:56.010109Z",
     "start_time": "2020-10-30T15:13:56.003599Z"
    }
   },
   "outputs": [],
   "source": [
    "data_path = \"../../data/msk-redefining-cancer-treatment\""
   ]
  },
  {
   "cell_type": "markdown",
   "metadata": {},
   "source": [
    "### Training Data - Text and Genetic Variants Information"
   ]
  },
  {
   "cell_type": "code",
   "execution_count": 4,
   "metadata": {
    "ExecuteTime": {
     "end_time": "2020-10-30T15:14:04.178181Z",
     "start_time": "2020-10-30T15:13:56.036566Z"
    }
   },
   "outputs": [
    {
     "name": "stdout",
     "output_type": "stream",
     "text": [
      "Number of Training Samples 3316\n"
     ]
    },
    {
     "data": {
      "text/html": [
       "<div>\n",
       "<style scoped>\n",
       "    .dataframe tbody tr th:only-of-type {\n",
       "        vertical-align: middle;\n",
       "    }\n",
       "\n",
       "    .dataframe tbody tr th {\n",
       "        vertical-align: top;\n",
       "    }\n",
       "\n",
       "    .dataframe thead th {\n",
       "        text-align: right;\n",
       "    }\n",
       "</style>\n",
       "<table border=\"1\" class=\"dataframe\">\n",
       "  <thead>\n",
       "    <tr style=\"text-align: right;\">\n",
       "      <th></th>\n",
       "      <th>ID</th>\n",
       "      <th>Gene</th>\n",
       "      <th>Variation</th>\n",
       "      <th>Class</th>\n",
       "      <th>Text</th>\n",
       "    </tr>\n",
       "  </thead>\n",
       "  <tbody>\n",
       "    <tr>\n",
       "      <th>0</th>\n",
       "      <td>0</td>\n",
       "      <td>FAM58A</td>\n",
       "      <td>Truncating Mutations</td>\n",
       "      <td>1</td>\n",
       "      <td>Cyclin-dependent kinases (CDKs) regulate a var...</td>\n",
       "    </tr>\n",
       "    <tr>\n",
       "      <th>1</th>\n",
       "      <td>1</td>\n",
       "      <td>CBL</td>\n",
       "      <td>W802*</td>\n",
       "      <td>2</td>\n",
       "      <td>Abstract Background  Non-small cell lung canc...</td>\n",
       "    </tr>\n",
       "    <tr>\n",
       "      <th>2</th>\n",
       "      <td>2</td>\n",
       "      <td>CBL</td>\n",
       "      <td>Q249E</td>\n",
       "      <td>2</td>\n",
       "      <td>Abstract Background  Non-small cell lung canc...</td>\n",
       "    </tr>\n",
       "    <tr>\n",
       "      <th>3</th>\n",
       "      <td>3</td>\n",
       "      <td>CBL</td>\n",
       "      <td>N454D</td>\n",
       "      <td>3</td>\n",
       "      <td>Recent evidence has demonstrated that acquired...</td>\n",
       "    </tr>\n",
       "    <tr>\n",
       "      <th>4</th>\n",
       "      <td>4</td>\n",
       "      <td>CBL</td>\n",
       "      <td>L399V</td>\n",
       "      <td>4</td>\n",
       "      <td>Oncogenic mutations in the monomeric Casitas B...</td>\n",
       "    </tr>\n",
       "  </tbody>\n",
       "</table>\n",
       "</div>"
      ],
      "text/plain": [
       "   ID    Gene             Variation  Class  \\\n",
       "0   0  FAM58A  Truncating Mutations      1   \n",
       "1   1     CBL                 W802*      2   \n",
       "2   2     CBL                 Q249E      2   \n",
       "3   3     CBL                 N454D      3   \n",
       "4   4     CBL                 L399V      4   \n",
       "\n",
       "                                                Text  \n",
       "0  Cyclin-dependent kinases (CDKs) regulate a var...  \n",
       "1   Abstract Background  Non-small cell lung canc...  \n",
       "2   Abstract Background  Non-small cell lung canc...  \n",
       "3  Recent evidence has demonstrated that acquired...  \n",
       "4  Oncogenic mutations in the monomeric Casitas B...  "
      ]
     },
     "execution_count": 4,
     "metadata": {},
     "output_type": "execute_result"
    }
   ],
   "source": [
    "training_variants_df = pd.read_csv(os.path.join(data_path, \"raw/training_variants\"))\n",
    "training_text_df = pd.read_csv(\n",
    "    os.path.join(data_path, \"raw/training_text\"),\n",
    "    sep=\"\\|\\|\",\n",
    "    engine=\"python\",\n",
    "    skiprows=1,\n",
    "    names=[\"ID\", \"Text\"],\n",
    ")\n",
    "\n",
    "training_merge_df = training_variants_df.merge(\n",
    "    training_text_df, left_on=\"ID\", right_on=\"ID\"\n",
    ")\n",
    "\n",
    "# Delete Samples with Empty Text\n",
    "training_merge_df = training_merge_df.loc[~training_merge_df.Text.isnull()]\n",
    "\n",
    "training_size = training_merge_df.shape[0]\n",
    "print(\"Number of Training Samples\", training_size)\n",
    "training_merge_df.head()"
   ]
  },
  {
   "cell_type": "markdown",
   "metadata": {},
   "source": [
    "### Validation Data - Text and Genetic Variants Information"
   ]
  },
  {
   "cell_type": "code",
   "execution_count": 5,
   "metadata": {
    "ExecuteTime": {
     "end_time": "2020-10-30T15:14:25.541061Z",
     "start_time": "2020-10-30T15:14:04.183096Z"
    }
   },
   "outputs": [
    {
     "name": "stdout",
     "output_type": "stream",
     "text": [
      "Number of Validation Samples: 367\n"
     ]
    },
    {
     "data": {
      "text/html": [
       "<div>\n",
       "<style scoped>\n",
       "    .dataframe tbody tr th:only-of-type {\n",
       "        vertical-align: middle;\n",
       "    }\n",
       "\n",
       "    .dataframe tbody tr th {\n",
       "        vertical-align: top;\n",
       "    }\n",
       "\n",
       "    .dataframe thead th {\n",
       "        text-align: right;\n",
       "    }\n",
       "</style>\n",
       "<table border=\"1\" class=\"dataframe\">\n",
       "  <thead>\n",
       "    <tr style=\"text-align: right;\">\n",
       "      <th></th>\n",
       "      <th>ID</th>\n",
       "      <th>Gene</th>\n",
       "      <th>Variation</th>\n",
       "      <th>Text</th>\n",
       "      <th>Class</th>\n",
       "    </tr>\n",
       "  </thead>\n",
       "  <tbody>\n",
       "    <tr>\n",
       "      <th>0</th>\n",
       "      <td>12</td>\n",
       "      <td>TET2</td>\n",
       "      <td>Y1902A</td>\n",
       "      <td>TET proteins oxidize 5-methylcytosine (5mC) on...</td>\n",
       "      <td>1</td>\n",
       "    </tr>\n",
       "    <tr>\n",
       "      <th>1</th>\n",
       "      <td>19</td>\n",
       "      <td>MTOR</td>\n",
       "      <td>D2512H</td>\n",
       "      <td>Genes encoding components of the PI3K-Akt-mTOR...</td>\n",
       "      <td>2</td>\n",
       "    </tr>\n",
       "    <tr>\n",
       "      <th>2</th>\n",
       "      <td>21</td>\n",
       "      <td>KIT</td>\n",
       "      <td>D52N</td>\n",
       "      <td>Myeloproliferative disorders (MPD) constitute ...</td>\n",
       "      <td>2</td>\n",
       "    </tr>\n",
       "    <tr>\n",
       "      <th>3</th>\n",
       "      <td>55</td>\n",
       "      <td>SPOP</td>\n",
       "      <td>F125V</td>\n",
       "      <td>In the largest E3 ligase subfamily, Cul3 binds...</td>\n",
       "      <td>4</td>\n",
       "    </tr>\n",
       "    <tr>\n",
       "      <th>4</th>\n",
       "      <td>64</td>\n",
       "      <td>KEAP1</td>\n",
       "      <td>C23Y</td>\n",
       "      <td>Keap1 is the substrate recognition module of a...</td>\n",
       "      <td>4</td>\n",
       "    </tr>\n",
       "  </tbody>\n",
       "</table>\n",
       "</div>"
      ],
      "text/plain": [
       "   ID   Gene Variation                                               Text  \\\n",
       "0  12   TET2    Y1902A  TET proteins oxidize 5-methylcytosine (5mC) on...   \n",
       "1  19   MTOR    D2512H  Genes encoding components of the PI3K-Akt-mTOR...   \n",
       "2  21    KIT      D52N  Myeloproliferative disorders (MPD) constitute ...   \n",
       "3  55   SPOP     F125V  In the largest E3 ligase subfamily, Cul3 binds...   \n",
       "4  64  KEAP1      C23Y  Keap1 is the substrate recognition module of a...   \n",
       "\n",
       "  Class  \n",
       "0     1  \n",
       "1     2  \n",
       "2     2  \n",
       "3     4  \n",
       "4     4  "
      ]
     },
     "execution_count": 5,
     "metadata": {},
     "output_type": "execute_result"
    }
   ],
   "source": [
    "validation_variants_df = pd.read_csv(os.path.join(data_path, \"raw/test_variants\"))\n",
    "validation_text_df = pd.read_csv(\n",
    "    os.path.join(data_path, \"raw/test_text\"),\n",
    "    sep=\"\\|\\|\",\n",
    "    engine=\"python\",\n",
    "    skiprows=1,\n",
    "    names=[\"ID\", \"Text\"],\n",
    ")\n",
    "\n",
    "valdiation_merge_df = validation_variants_df.merge(\n",
    "    validation_text_df, left_on=\"ID\", right_on=\"ID\"\n",
    ")\n",
    "\n",
    "# Validation Solution\n",
    "validation_class_df = pd.read_csv(\n",
    "    os.path.join(data_path, \"raw/stage1_solution_filtered.csv\")\n",
    ")\n",
    "validation_class_df.columns = [\"ID\", 1, 2, 3, 4, 5, 6, 7, 8, 9]\n",
    "validation_class_df = (\n",
    "    validation_class_df.melt(\"ID\", var_name=\"Class\")\n",
    "    .query(\"value== 1\")\n",
    "    .sort_values([\"ID\", \"Class\"])\n",
    "    .drop(\"value\", 1)\n",
    ")\n",
    "valdiation_merge_df = valdiation_merge_df.merge(\n",
    "    validation_class_df, left_on=\"ID\", right_on=\"ID\"\n",
    ")\n",
    "\n",
    "# Delete Samples with Empty Text\n",
    "valdiation_merge_df = valdiation_merge_df.loc[~valdiation_merge_df.Text.isnull()]\n",
    "\n",
    "validation_size = valdiation_merge_df.shape[0]\n",
    "print(\"Number of Validation Samples:\", validation_size)\n",
    "valdiation_merge_df.head()"
   ]
  },
  {
   "cell_type": "markdown",
   "metadata": {},
   "source": [
    "### Test Data - Text and Genetic Variants Information"
   ]
  },
  {
   "cell_type": "code",
   "execution_count": 6,
   "metadata": {
    "ExecuteTime": {
     "end_time": "2020-10-30T12:39:16.530233Z",
     "start_time": "2020-10-30T12:38:44.681434Z"
    }
   },
   "outputs": [
    {
     "name": "stdout",
     "output_type": "stream",
     "text": [
      "Number of Test Samples: 986\n",
      "Number of Test Samples: 125\n"
     ]
    },
    {
     "data": {
      "text/html": [
       "<div>\n",
       "<style scoped>\n",
       "    .dataframe tbody tr th:only-of-type {\n",
       "        vertical-align: middle;\n",
       "    }\n",
       "\n",
       "    .dataframe tbody tr th {\n",
       "        vertical-align: top;\n",
       "    }\n",
       "\n",
       "    .dataframe thead th {\n",
       "        text-align: right;\n",
       "    }\n",
       "</style>\n",
       "<table border=\"1\" class=\"dataframe\">\n",
       "  <thead>\n",
       "    <tr style=\"text-align: right;\">\n",
       "      <th></th>\n",
       "      <th>ID</th>\n",
       "      <th>Gene</th>\n",
       "      <th>Variation</th>\n",
       "      <th>Text</th>\n",
       "      <th>Class</th>\n",
       "    </tr>\n",
       "  </thead>\n",
       "  <tbody>\n",
       "    <tr>\n",
       "      <th>0</th>\n",
       "      <td>8</td>\n",
       "      <td>RNF6</td>\n",
       "      <td>G244D</td>\n",
       "      <td>Human ESCCs 2 occur frequently worldwide (1) ....</td>\n",
       "      <td>4</td>\n",
       "    </tr>\n",
       "    <tr>\n",
       "      <th>1</th>\n",
       "      <td>15</td>\n",
       "      <td>ERBB2</td>\n",
       "      <td>G746S</td>\n",
       "      <td>The protein-kinase family is the most frequent...</td>\n",
       "      <td>9</td>\n",
       "    </tr>\n",
       "    <tr>\n",
       "      <th>2</th>\n",
       "      <td>16</td>\n",
       "      <td>TP53</td>\n",
       "      <td>Y234S</td>\n",
       "      <td>Among the best-studied therapeutic targets in ...</td>\n",
       "      <td>8</td>\n",
       "    </tr>\n",
       "    <tr>\n",
       "      <th>3</th>\n",
       "      <td>18</td>\n",
       "      <td>EGFR</td>\n",
       "      <td>P546S</td>\n",
       "      <td>Head and neck squamous cell carcinoma (HNSCC) ...</td>\n",
       "      <td>2</td>\n",
       "    </tr>\n",
       "    <tr>\n",
       "      <th>4</th>\n",
       "      <td>19</td>\n",
       "      <td>ERBB2</td>\n",
       "      <td>G279E</td>\n",
       "      <td>Functional characterization of cancer-associat...</td>\n",
       "      <td>2</td>\n",
       "    </tr>\n",
       "  </tbody>\n",
       "</table>\n",
       "</div>"
      ],
      "text/plain": [
       "   ID   Gene Variation                                               Text  \\\n",
       "0   8   RNF6     G244D  Human ESCCs 2 occur frequently worldwide (1) ....   \n",
       "1  15  ERBB2     G746S  The protein-kinase family is the most frequent...   \n",
       "2  16   TP53     Y234S  Among the best-studied therapeutic targets in ...   \n",
       "3  18   EGFR     P546S  Head and neck squamous cell carcinoma (HNSCC) ...   \n",
       "4  19  ERBB2     G279E  Functional characterization of cancer-associat...   \n",
       "\n",
       "  Class  \n",
       "0     4  \n",
       "1     9  \n",
       "2     8  \n",
       "3     2  \n",
       "4     2  "
      ]
     },
     "execution_count": 6,
     "metadata": {},
     "output_type": "execute_result"
    }
   ],
   "source": [
    "# Test Data - Text and Genetic Variants Information\n",
    "test_variants_df = pd.read_csv(os.path.join(data_path, \"raw/stage2_test_variants.csv\"))\n",
    "test_text_df = pd.read_csv(\n",
    "    os.path.join(data_path, \"raw/stage2_test_text.csv\"),\n",
    "    sep=\"\\|\\|\",\n",
    "    engine=\"python\",\n",
    "    skiprows=1,\n",
    "    names=[\"ID\", \"Text\"],\n",
    ")\n",
    "\n",
    "test_merge_df = test_variants_df.merge(test_text_df, left_on=\"ID\", right_on=\"ID\")\n",
    "print(\"Number of Test Samples:\", test_merge_df.shape[0])\n",
    "\n",
    "# Test Solution\n",
    "test_class_df = pd.read_csv(os.path.join(data_path, \"raw/stage_2_private_solution.csv\"))\n",
    "test_class_df.columns = [\"ID\", 1, 2, 3, 4, 5, 6, 7, 8, 9]\n",
    "test_class_df = (\n",
    "    test_class_df.melt(\"ID\", var_name=\"Class\")\n",
    "    .query(\"value== 1\")\n",
    "    .sort_values([\"ID\", \"Class\"])\n",
    "    .drop(\"value\", 1)\n",
    ")\n",
    "test_merge_df = test_merge_df.merge(test_class_df, left_on=\"ID\", right_on=\"ID\")\n",
    "test_size = test_merge_df.shape[0]\n",
    "print(\"Number of Test Samples:\", test_size)\n",
    "test_merge_df.head()"
   ]
  },
  {
   "cell_type": "markdown",
   "metadata": {},
   "source": [
    "## Transform Data"
   ]
  },
  {
   "cell_type": "code",
   "execution_count": 6,
   "metadata": {
    "ExecuteTime": {
     "end_time": "2020-10-30T15:14:32.040096Z",
     "start_time": "2020-10-30T15:14:29.184897Z"
    }
   },
   "outputs": [
    {
     "ename": "NameError",
     "evalue": "name 'test_merge_df' is not defined",
     "output_type": "error",
     "traceback": [
      "\u001b[0;31m---------------------------------------------------------------------------\u001b[0m",
      "\u001b[0;31mNameError\u001b[0m                                 Traceback (most recent call last)",
      "\u001b[0;32m<ipython-input-6-30368adb1c09>\u001b[0m in \u001b[0;36m<module>\u001b[0;34m\u001b[0m\n\u001b[1;32m      7\u001b[0m \u001b[0;34m\u001b[0m\u001b[0m\n\u001b[1;32m      8\u001b[0m \u001b[0;31m# free memory\u001b[0m\u001b[0;34m\u001b[0m\u001b[0;34m\u001b[0m\u001b[0;34m\u001b[0m\u001b[0m\n\u001b[0;32m----> 9\u001b[0;31m \u001b[0;32mdel\u001b[0m \u001b[0mtraining_merge_df\u001b[0m\u001b[0;34m,\u001b[0m \u001b[0mvaldiation_merge_df\u001b[0m\u001b[0;34m,\u001b[0m \u001b[0mtest_merge_df\u001b[0m\u001b[0;34m\u001b[0m\u001b[0;34m\u001b[0m\u001b[0m\n\u001b[0m",
      "\u001b[0;31mNameError\u001b[0m: name 'test_merge_df' is not defined"
     ]
    }
   ],
   "source": [
    "df = pd.concat(\n",
    "    [training_merge_df, valdiation_merge_df, test_merge_df],\n",
    "    axis=0,\n",
    "    ignore_index=True,\n",
    "    sort=False,\n",
    ")\n",
    "\n",
    "# free memory\n",
    "del training_merge_df, valdiation_merge_df, test_merge_df"
   ]
  },
  {
   "cell_type": "code",
   "execution_count": 7,
   "metadata": {
    "ExecuteTime": {
     "end_time": "2020-10-30T15:14:35.141249Z",
     "start_time": "2020-10-30T15:14:34.985790Z"
    }
   },
   "outputs": [
    {
     "data": {
      "text/html": [
       "<div>\n",
       "<style scoped>\n",
       "    .dataframe tbody tr th:only-of-type {\n",
       "        vertical-align: middle;\n",
       "    }\n",
       "\n",
       "    .dataframe tbody tr th {\n",
       "        vertical-align: top;\n",
       "    }\n",
       "\n",
       "    .dataframe thead th {\n",
       "        text-align: right;\n",
       "    }\n",
       "</style>\n",
       "<table border=\"1\" class=\"dataframe\">\n",
       "  <thead>\n",
       "    <tr style=\"text-align: right;\">\n",
       "      <th></th>\n",
       "      <th>ID</th>\n",
       "      <th>Gene</th>\n",
       "      <th>Variation</th>\n",
       "      <th>Class</th>\n",
       "      <th>Text</th>\n",
       "    </tr>\n",
       "  </thead>\n",
       "  <tbody>\n",
       "    <tr>\n",
       "      <th>0</th>\n",
       "      <td>0</td>\n",
       "      <td>FAM58A</td>\n",
       "      <td>Truncating Mutations</td>\n",
       "      <td>1</td>\n",
       "      <td>Cyclin-dependent kinases (CDKs) regulate a var...</td>\n",
       "    </tr>\n",
       "    <tr>\n",
       "      <th>1</th>\n",
       "      <td>1</td>\n",
       "      <td>CBL</td>\n",
       "      <td>W802*</td>\n",
       "      <td>2</td>\n",
       "      <td>Abstract Background  Non-small cell lung canc...</td>\n",
       "    </tr>\n",
       "    <tr>\n",
       "      <th>2</th>\n",
       "      <td>2</td>\n",
       "      <td>CBL</td>\n",
       "      <td>Q249E</td>\n",
       "      <td>2</td>\n",
       "      <td>Abstract Background  Non-small cell lung canc...</td>\n",
       "    </tr>\n",
       "    <tr>\n",
       "      <th>3</th>\n",
       "      <td>3</td>\n",
       "      <td>CBL</td>\n",
       "      <td>N454D</td>\n",
       "      <td>3</td>\n",
       "      <td>Recent evidence has demonstrated that acquired...</td>\n",
       "    </tr>\n",
       "    <tr>\n",
       "      <th>4</th>\n",
       "      <td>4</td>\n",
       "      <td>CBL</td>\n",
       "      <td>L399V</td>\n",
       "      <td>4</td>\n",
       "      <td>Oncogenic mutations in the monomeric Casitas B...</td>\n",
       "    </tr>\n",
       "  </tbody>\n",
       "</table>\n",
       "</div>"
      ],
      "text/plain": [
       "   ID    Gene             Variation Class  \\\n",
       "0   0  FAM58A  Truncating Mutations     1   \n",
       "1   1     CBL                 W802*     2   \n",
       "2   2     CBL                 Q249E     2   \n",
       "3   3     CBL                 N454D     3   \n",
       "4   4     CBL                 L399V     4   \n",
       "\n",
       "                                                Text  \n",
       "0  Cyclin-dependent kinases (CDKs) regulate a var...  \n",
       "1   Abstract Background  Non-small cell lung canc...  \n",
       "2   Abstract Background  Non-small cell lung canc...  \n",
       "3  Recent evidence has demonstrated that acquired...  \n",
       "4  Oncogenic mutations in the monomeric Casitas B...  "
      ]
     },
     "execution_count": 7,
     "metadata": {},
     "output_type": "execute_result"
    }
   ],
   "source": [
    "df.head()"
   ]
  },
  {
   "cell_type": "markdown",
   "metadata": {},
   "source": [
    "### Including Additional Features"
   ]
  },
  {
   "cell_type": "markdown",
   "metadata": {},
   "source": [
    "Adding information about the variation, such as original amino acid, replaced amino acid and location of replacement. Along with this, information regarding whether the original and replaced amino acid had somewhat similar properties is included. "
   ]
  },
  {
   "cell_type": "markdown",
   "metadata": {},
   "source": [
    "#### Physiochemical Distance"
   ]
  },
  {
   "cell_type": "code",
   "execution_count": 8,
   "metadata": {
    "ExecuteTime": {
     "end_time": "2020-10-30T15:14:48.880316Z",
     "start_time": "2020-10-30T15:14:41.636726Z"
    }
   },
   "outputs": [
    {
     "data": {
      "text/html": [
       "<div>\n",
       "<style scoped>\n",
       "    .dataframe tbody tr th:only-of-type {\n",
       "        vertical-align: middle;\n",
       "    }\n",
       "\n",
       "    .dataframe tbody tr th {\n",
       "        vertical-align: top;\n",
       "    }\n",
       "\n",
       "    .dataframe thead th {\n",
       "        text-align: right;\n",
       "    }\n",
       "</style>\n",
       "<table border=\"1\" class=\"dataframe\">\n",
       "  <thead>\n",
       "    <tr style=\"text-align: right;\">\n",
       "      <th></th>\n",
       "      <th>ID</th>\n",
       "      <th>Gene</th>\n",
       "      <th>Variation</th>\n",
       "      <th>Class</th>\n",
       "      <th>Text</th>\n",
       "      <th>PhsysiochemDistance</th>\n",
       "    </tr>\n",
       "  </thead>\n",
       "  <tbody>\n",
       "    <tr>\n",
       "      <th>0</th>\n",
       "      <td>0</td>\n",
       "      <td>FAM58A</td>\n",
       "      <td>Truncating Mutations</td>\n",
       "      <td>1</td>\n",
       "      <td>Cyclin-dependent kinases (CDKs) regulate a var...</td>\n",
       "      <td>50.592068</td>\n",
       "    </tr>\n",
       "    <tr>\n",
       "      <th>1</th>\n",
       "      <td>1</td>\n",
       "      <td>CBL</td>\n",
       "      <td>W802*</td>\n",
       "      <td>2</td>\n",
       "      <td>Abstract Background  Non-small cell lung canc...</td>\n",
       "      <td>50.592068</td>\n",
       "    </tr>\n",
       "    <tr>\n",
       "      <th>2</th>\n",
       "      <td>2</td>\n",
       "      <td>CBL</td>\n",
       "      <td>Q249E</td>\n",
       "      <td>2</td>\n",
       "      <td>Abstract Background  Non-small cell lung canc...</td>\n",
       "      <td>29.000000</td>\n",
       "    </tr>\n",
       "    <tr>\n",
       "      <th>3</th>\n",
       "      <td>3</td>\n",
       "      <td>CBL</td>\n",
       "      <td>N454D</td>\n",
       "      <td>3</td>\n",
       "      <td>Recent evidence has demonstrated that acquired...</td>\n",
       "      <td>23.000000</td>\n",
       "    </tr>\n",
       "    <tr>\n",
       "      <th>4</th>\n",
       "      <td>4</td>\n",
       "      <td>CBL</td>\n",
       "      <td>L399V</td>\n",
       "      <td>4</td>\n",
       "      <td>Oncogenic mutations in the monomeric Casitas B...</td>\n",
       "      <td>32.000000</td>\n",
       "    </tr>\n",
       "  </tbody>\n",
       "</table>\n",
       "</div>"
      ],
      "text/plain": [
       "   ID    Gene             Variation Class  \\\n",
       "0   0  FAM58A  Truncating Mutations     1   \n",
       "1   1     CBL                 W802*     2   \n",
       "2   2     CBL                 Q249E     2   \n",
       "3   3     CBL                 N454D     3   \n",
       "4   4     CBL                 L399V     4   \n",
       "\n",
       "                                                Text  PhsysiochemDistance  \n",
       "0  Cyclin-dependent kinases (CDKs) regulate a var...            50.592068  \n",
       "1   Abstract Background  Non-small cell lung canc...            50.592068  \n",
       "2   Abstract Background  Non-small cell lung canc...            29.000000  \n",
       "3  Recent evidence has demonstrated that acquired...            23.000000  \n",
       "4  Oncogenic mutations in the monomeric Casitas B...            32.000000  "
      ]
     },
     "execution_count": 8,
     "metadata": {},
     "output_type": "execute_result"
    }
   ],
   "source": [
    "df[\"PhsysiochemDistance\"] = df.apply(\n",
    "    lambda row: get_phsysiochem_distance(row.Variation), axis=1\n",
    ")\n",
    "df[\"PhsysiochemDistance\"].fillna((df[\"PhsysiochemDistance\"].mean()), inplace=True)\n",
    "df.head()"
   ]
  },
  {
   "cell_type": "markdown",
   "metadata": {},
   "source": [
    "#### Features from Literature parsing for mutation classification"
   ]
  },
  {
   "cell_type": "markdown",
   "metadata": {},
   "source": [
    "These additional features are taken from the blog written by McAteer, Matthew contain information about text length, gene and variation description. https://matthewmcateer.me/blog/literature-parsing-for-mutation-classification/"
   ]
  },
  {
   "cell_type": "code",
   "execution_count": 17,
   "metadata": {
    "ExecuteTime": {
     "end_time": "2020-10-30T15:35:53.950405Z",
     "start_time": "2020-10-30T15:35:36.104762Z"
    }
   },
   "outputs": [
    {
     "ename": "KeyboardInterrupt",
     "evalue": "",
     "output_type": "error",
     "traceback": [
      "\u001b[0;31m---------------------------------------------------------------------------\u001b[0m",
      "\u001b[0;31mKeyboardInterrupt\u001b[0m                         Traceback (most recent call last)",
      "\u001b[0;32m<ipython-input-17-b3d72c1b8eb4>\u001b[0m in \u001b[0;36m<module>\u001b[0;34m\u001b[0m\n\u001b[1;32m     15\u001b[0m df[\"Gene_Share\"] = df.apply(\n\u001b[1;32m     16\u001b[0m     \u001b[0;32mlambda\u001b[0m \u001b[0mr\u001b[0m\u001b[0;34m:\u001b[0m \u001b[0msum\u001b[0m\u001b[0;34m(\u001b[0m\u001b[0;34m[\u001b[0m\u001b[0;36m1\u001b[0m \u001b[0;32mfor\u001b[0m \u001b[0mw\u001b[0m \u001b[0;32min\u001b[0m \u001b[0mr\u001b[0m\u001b[0;34m[\u001b[0m\u001b[0;34m\"Gene\"\u001b[0m\u001b[0;34m]\u001b[0m\u001b[0;34m.\u001b[0m\u001b[0msplit\u001b[0m\u001b[0;34m(\u001b[0m\u001b[0;34m\" \"\u001b[0m\u001b[0;34m)\u001b[0m \u001b[0;32mif\u001b[0m \u001b[0mw\u001b[0m \u001b[0;32min\u001b[0m \u001b[0mr\u001b[0m\u001b[0;34m[\u001b[0m\u001b[0;34m\"Text\"\u001b[0m\u001b[0;34m]\u001b[0m\u001b[0;34m.\u001b[0m\u001b[0msplit\u001b[0m\u001b[0;34m(\u001b[0m\u001b[0;34m\" \"\u001b[0m\u001b[0;34m)\u001b[0m\u001b[0;34m]\u001b[0m\u001b[0;34m)\u001b[0m\u001b[0;34m,\u001b[0m\u001b[0;34m\u001b[0m\u001b[0;34m\u001b[0m\u001b[0m\n\u001b[0;32m---> 17\u001b[0;31m     \u001b[0maxis\u001b[0m\u001b[0;34m=\u001b[0m\u001b[0;36m1\u001b[0m\u001b[0;34m,\u001b[0m\u001b[0;34m\u001b[0m\u001b[0;34m\u001b[0m\u001b[0m\n\u001b[0m\u001b[1;32m     18\u001b[0m )\n\u001b[1;32m     19\u001b[0m df[\"Variation_Share\"] = df.apply(\n",
      "\u001b[0;32m/opt/conda/lib/python3.7/site-packages/pandas/core/frame.py\u001b[0m in \u001b[0;36mapply\u001b[0;34m(self, func, axis, broadcast, raw, reduce, result_type, args, **kwds)\u001b[0m\n\u001b[1;32m   6926\u001b[0m             \u001b[0mkwds\u001b[0m\u001b[0;34m=\u001b[0m\u001b[0mkwds\u001b[0m\u001b[0;34m,\u001b[0m\u001b[0;34m\u001b[0m\u001b[0;34m\u001b[0m\u001b[0m\n\u001b[1;32m   6927\u001b[0m         )\n\u001b[0;32m-> 6928\u001b[0;31m         \u001b[0;32mreturn\u001b[0m \u001b[0mop\u001b[0m\u001b[0;34m.\u001b[0m\u001b[0mget_result\u001b[0m\u001b[0;34m(\u001b[0m\u001b[0;34m)\u001b[0m\u001b[0;34m\u001b[0m\u001b[0;34m\u001b[0m\u001b[0m\n\u001b[0m\u001b[1;32m   6929\u001b[0m \u001b[0;34m\u001b[0m\u001b[0m\n\u001b[1;32m   6930\u001b[0m     \u001b[0;32mdef\u001b[0m \u001b[0mapplymap\u001b[0m\u001b[0;34m(\u001b[0m\u001b[0mself\u001b[0m\u001b[0;34m,\u001b[0m \u001b[0mfunc\u001b[0m\u001b[0;34m)\u001b[0m\u001b[0;34m:\u001b[0m\u001b[0;34m\u001b[0m\u001b[0;34m\u001b[0m\u001b[0m\n",
      "\u001b[0;32m/opt/conda/lib/python3.7/site-packages/pandas/core/apply.py\u001b[0m in \u001b[0;36mget_result\u001b[0;34m(self)\u001b[0m\n\u001b[1;32m    184\u001b[0m             \u001b[0;32mreturn\u001b[0m \u001b[0mself\u001b[0m\u001b[0;34m.\u001b[0m\u001b[0mapply_raw\u001b[0m\u001b[0;34m(\u001b[0m\u001b[0;34m)\u001b[0m\u001b[0;34m\u001b[0m\u001b[0;34m\u001b[0m\u001b[0m\n\u001b[1;32m    185\u001b[0m \u001b[0;34m\u001b[0m\u001b[0m\n\u001b[0;32m--> 186\u001b[0;31m         \u001b[0;32mreturn\u001b[0m \u001b[0mself\u001b[0m\u001b[0;34m.\u001b[0m\u001b[0mapply_standard\u001b[0m\u001b[0;34m(\u001b[0m\u001b[0;34m)\u001b[0m\u001b[0;34m\u001b[0m\u001b[0;34m\u001b[0m\u001b[0m\n\u001b[0m\u001b[1;32m    187\u001b[0m \u001b[0;34m\u001b[0m\u001b[0m\n\u001b[1;32m    188\u001b[0m     \u001b[0;32mdef\u001b[0m \u001b[0mapply_empty_result\u001b[0m\u001b[0;34m(\u001b[0m\u001b[0mself\u001b[0m\u001b[0;34m)\u001b[0m\u001b[0;34m:\u001b[0m\u001b[0;34m\u001b[0m\u001b[0;34m\u001b[0m\u001b[0m\n",
      "\u001b[0;32m/opt/conda/lib/python3.7/site-packages/pandas/core/apply.py\u001b[0m in \u001b[0;36mapply_standard\u001b[0;34m(self)\u001b[0m\n\u001b[1;32m    283\u001b[0m             \u001b[0;32mtry\u001b[0m\u001b[0;34m:\u001b[0m\u001b[0;34m\u001b[0m\u001b[0;34m\u001b[0m\u001b[0m\n\u001b[1;32m    284\u001b[0m                 result = reduction.reduce(\n\u001b[0;32m--> 285\u001b[0;31m                     \u001b[0mvalues\u001b[0m\u001b[0;34m,\u001b[0m \u001b[0mself\u001b[0m\u001b[0;34m.\u001b[0m\u001b[0mf\u001b[0m\u001b[0;34m,\u001b[0m \u001b[0maxis\u001b[0m\u001b[0;34m=\u001b[0m\u001b[0mself\u001b[0m\u001b[0;34m.\u001b[0m\u001b[0maxis\u001b[0m\u001b[0;34m,\u001b[0m \u001b[0mdummy\u001b[0m\u001b[0;34m=\u001b[0m\u001b[0mdummy\u001b[0m\u001b[0;34m,\u001b[0m \u001b[0mlabels\u001b[0m\u001b[0;34m=\u001b[0m\u001b[0mlabels\u001b[0m\u001b[0;34m\u001b[0m\u001b[0;34m\u001b[0m\u001b[0m\n\u001b[0m\u001b[1;32m    286\u001b[0m                 )\n\u001b[1;32m    287\u001b[0m                 \u001b[0;32mreturn\u001b[0m \u001b[0mself\u001b[0m\u001b[0;34m.\u001b[0m\u001b[0mobj\u001b[0m\u001b[0;34m.\u001b[0m\u001b[0m_constructor_sliced\u001b[0m\u001b[0;34m(\u001b[0m\u001b[0mresult\u001b[0m\u001b[0;34m,\u001b[0m \u001b[0mindex\u001b[0m\u001b[0;34m=\u001b[0m\u001b[0mlabels\u001b[0m\u001b[0;34m)\u001b[0m\u001b[0;34m\u001b[0m\u001b[0;34m\u001b[0m\u001b[0m\n",
      "\u001b[0;32mpandas/_libs/reduction.pyx\u001b[0m in \u001b[0;36mpandas._libs.reduction.reduce\u001b[0;34m()\u001b[0m\n",
      "\u001b[0;32mpandas/_libs/reduction.pyx\u001b[0m in \u001b[0;36mpandas._libs.reduction.Reducer.get_result\u001b[0;34m()\u001b[0m\n",
      "\u001b[0;32m<ipython-input-17-b3d72c1b8eb4>\u001b[0m in \u001b[0;36m<lambda>\u001b[0;34m(r)\u001b[0m\n\u001b[1;32m     14\u001b[0m \u001b[0;34m\u001b[0m\u001b[0m\n\u001b[1;32m     15\u001b[0m df[\"Gene_Share\"] = df.apply(\n\u001b[0;32m---> 16\u001b[0;31m     \u001b[0;32mlambda\u001b[0m \u001b[0mr\u001b[0m\u001b[0;34m:\u001b[0m \u001b[0msum\u001b[0m\u001b[0;34m(\u001b[0m\u001b[0;34m[\u001b[0m\u001b[0;36m1\u001b[0m \u001b[0;32mfor\u001b[0m \u001b[0mw\u001b[0m \u001b[0;32min\u001b[0m \u001b[0mr\u001b[0m\u001b[0;34m[\u001b[0m\u001b[0;34m\"Gene\"\u001b[0m\u001b[0;34m]\u001b[0m\u001b[0;34m.\u001b[0m\u001b[0msplit\u001b[0m\u001b[0;34m(\u001b[0m\u001b[0;34m\" \"\u001b[0m\u001b[0;34m)\u001b[0m \u001b[0;32mif\u001b[0m \u001b[0mw\u001b[0m \u001b[0;32min\u001b[0m \u001b[0mr\u001b[0m\u001b[0;34m[\u001b[0m\u001b[0;34m\"Text\"\u001b[0m\u001b[0;34m]\u001b[0m\u001b[0;34m.\u001b[0m\u001b[0msplit\u001b[0m\u001b[0;34m(\u001b[0m\u001b[0;34m\" \"\u001b[0m\u001b[0;34m)\u001b[0m\u001b[0;34m]\u001b[0m\u001b[0;34m)\u001b[0m\u001b[0;34m,\u001b[0m\u001b[0;34m\u001b[0m\u001b[0;34m\u001b[0m\u001b[0m\n\u001b[0m\u001b[1;32m     17\u001b[0m     \u001b[0maxis\u001b[0m\u001b[0;34m=\u001b[0m\u001b[0;36m1\u001b[0m\u001b[0;34m,\u001b[0m\u001b[0;34m\u001b[0m\u001b[0;34m\u001b[0m\u001b[0m\n\u001b[1;32m     18\u001b[0m )\n",
      "\u001b[0;32m<ipython-input-17-b3d72c1b8eb4>\u001b[0m in \u001b[0;36m<listcomp>\u001b[0;34m(.0)\u001b[0m\n\u001b[1;32m     14\u001b[0m \u001b[0;34m\u001b[0m\u001b[0m\n\u001b[1;32m     15\u001b[0m df[\"Gene_Share\"] = df.apply(\n\u001b[0;32m---> 16\u001b[0;31m     \u001b[0;32mlambda\u001b[0m \u001b[0mr\u001b[0m\u001b[0;34m:\u001b[0m \u001b[0msum\u001b[0m\u001b[0;34m(\u001b[0m\u001b[0;34m[\u001b[0m\u001b[0;36m1\u001b[0m \u001b[0;32mfor\u001b[0m \u001b[0mw\u001b[0m \u001b[0;32min\u001b[0m \u001b[0mr\u001b[0m\u001b[0;34m[\u001b[0m\u001b[0;34m\"Gene\"\u001b[0m\u001b[0;34m]\u001b[0m\u001b[0;34m.\u001b[0m\u001b[0msplit\u001b[0m\u001b[0;34m(\u001b[0m\u001b[0;34m\" \"\u001b[0m\u001b[0;34m)\u001b[0m \u001b[0;32mif\u001b[0m \u001b[0mw\u001b[0m \u001b[0;32min\u001b[0m \u001b[0mr\u001b[0m\u001b[0;34m[\u001b[0m\u001b[0;34m\"Text\"\u001b[0m\u001b[0;34m]\u001b[0m\u001b[0;34m.\u001b[0m\u001b[0msplit\u001b[0m\u001b[0;34m(\u001b[0m\u001b[0;34m\" \"\u001b[0m\u001b[0;34m)\u001b[0m\u001b[0;34m]\u001b[0m\u001b[0;34m)\u001b[0m\u001b[0;34m,\u001b[0m\u001b[0;34m\u001b[0m\u001b[0;34m\u001b[0m\u001b[0m\n\u001b[0m\u001b[1;32m     17\u001b[0m     \u001b[0maxis\u001b[0m\u001b[0;34m=\u001b[0m\u001b[0;36m1\u001b[0m\u001b[0;34m,\u001b[0m\u001b[0;34m\u001b[0m\u001b[0;34m\u001b[0m\u001b[0m\n\u001b[1;32m     18\u001b[0m )\n",
      "\u001b[0;31mKeyboardInterrupt\u001b[0m: "
     ]
    }
   ],
   "source": [
    "for columns in df.columns:\n",
    "    if df[columns].dtype == \"object\":\n",
    "        if columns in [\"Gene\", \"Variation\"]:\n",
    "            lbl = LabelEncoder()\n",
    "            df[columns + \"_lbl_enc\"] = lbl.fit_transform(df[columns].values)\n",
    "            df[columns + \"_len\"] = df[columns].map(lambda x: len(str(x)))\n",
    "            df[columns + \"_words\"] = df[columns].map(lambda x: len(str(x).split(\" \")))\n",
    "        elif columns != \"Text\" and columns != \"PC_distance\":\n",
    "            lbl = LabelEncoder()\n",
    "            df[columns] = lbl.fit_transform(df[columns].values)\n",
    "        if columns == \"Text\":\n",
    "            df[columns + \"_len\"] = df[columns].map(lambda x: len(str(x)))\n",
    "            df[columns + \"_words\"] = df[columns].map(lambda x: len(str(x).split(\" \")))\n",
    "\n",
    "df[\"Gene_Share\"] = df.apply(\n",
    "    lambda r: sum([1 for w in r[\"Gene\"].split(\" \") if w in r[\"Text\"].split(\" \")]),\n",
    "    axis=1,\n",
    ")\n",
    "df[\"Variation_Share\"] = df.apply(\n",
    "    lambda r: sum([1 for w in r[\"Variation\"].split(\" \") if w in r[\"Text\"].split(\" \")]),\n",
    "    axis=1,\n",
    ")\n",
    "\n",
    "df.head()"
   ]
  },
  {
   "cell_type": "markdown",
   "metadata": {},
   "source": [
    "#### (Optional) Save Data with Additional Features to Interim"
   ]
  },
  {
   "cell_type": "code",
   "execution_count": null,
   "metadata": {},
   "outputs": [],
   "source": [
    "df.iloc[:-test_size].to_csv(os.path.join(data_path, \"interim/training_data_additional_features\"))\n",
    "df.iloc[-test_size:].to_csv(os.path.join(data_path, \"interim/test_data_additional_features\"))"
   ]
  },
  {
   "cell_type": "markdown",
   "metadata": {},
   "source": [
    "### Verctorize and Reduce Dimension"
   ]
  },
  {
   "cell_type": "code",
   "execution_count": 17,
   "metadata": {
    "ExecuteTime": {
     "end_time": "2020-10-29T18:25:54.622128Z",
     "start_time": "2020-10-29T18:25:54.591149Z"
    }
   },
   "outputs": [
    {
     "name": "stdout",
     "output_type": "stream",
     "text": [
      "(3683, 5)\n",
      "(125, 5)\n"
     ]
    }
   ],
   "source": [
    "x_train = df.iloc[:-test_size]; print(x_train.shape)  \n",
    "x_test = df.iloc[-test_size:]; print(x_test.shape)\n",
    "\n",
    "y_train = train['Class'].values\n",
    "x_train = train.drop(['Class'], axis=1)\n",
    "\n",
    "y_test = test['Class'].values\n",
    "x_test = test.drop(['Class'], axis=1)\n",
    "\n",
    "del df \n",
    "del test"
   ]
  },
  {
   "cell_type": "code",
   "execution_count": null,
   "metadata": {},
   "outputs": [],
   "source": [
    "# Feature Union in Pipeline macht das Sinn? "
   ]
  },
  {
   "cell_type": "code",
   "execution_count": 19,
   "metadata": {
    "ExecuteTime": {
     "end_time": "2020-10-29T18:37:46.992041Z",
     "start_time": "2020-10-29T18:37:46.952294Z"
    }
   },
   "outputs": [],
   "source": [
    "class cust_regression_vals(BaseEstimator, TransformerMixin):\n",
    "    #\n",
    "    def fit(self, x, y=None):\n",
    "        return self\n",
    "    def transform(self, x):\n",
    "        x = x.drop(['Gene', 'Variation','ID','Text'],axis=1).values\n",
    "        return x\n",
    "    \n",
    "class cust_txt_col(BaseEstimator, TransformerMixin):\n",
    "    def __init__(self, key):\n",
    "        self.key = key\n",
    "    def fit(self, x, y=None):\n",
    "        return self\n",
    "    def transform(self, x):\n",
    "        print(x[self.key].apply(str))\n",
    "        return x[self.key].apply(str)    "
   ]
  },
  {
   "cell_type": "code",
   "execution_count": 22,
   "metadata": {
    "ExecuteTime": {
     "end_time": "2020-10-29T18:38:56.063498Z",
     "start_time": "2020-10-29T18:38:55.800497Z"
    }
   },
   "outputs": [],
   "source": [
    "\n",
    "combined_features = Pipeline(\n",
    "    [\n",
    "        (\n",
    "            \"union\",\n",
    "            FeatureUnion(\n",
    "                n_jobs=1,\n",
    "                transformer_list=[\n",
    "                    # customized features as physiochemical distance \n",
    "                    (\"additional_features\", cust_regression_vals()),\n",
    "                    \n",
    "                    # vectorizing gene name\n",
    "                    (\n",
    "                        \"pi1\",\n",
    "                        Pipeline(\n",
    "                            [\n",
    "                               # (\"Gene\", cust_txt_col(\"Gene\")),\n",
    "                                (\n",
    "                                    \"count_Gene\",\n",
    "                                    CountVectorizer(\n",
    "                                        analyzer=u\"char\", ngram_range=(1, 8)\n",
    "                                    ),\n",
    "                                ),\n",
    "                                (\n",
    "                                    \"tsvd1\",\n",
    "                                    TruncatedSVD(\n",
    "                                        n_components=25, n_iter=25, random_state=12\n",
    "                                    ),\n",
    "                                ),\n",
    "                            ]\n",
    "                        ),\n",
    "                    ),\n",
    "                    (\n",
    "                        \"pi2\",\n",
    "                        Pipeline(\n",
    "                            [\n",
    "                                (\"Variation\", cust_txt_col(\"Variation\")),\n",
    "                                (\n",
    "                                    \"count_Variation\",\n",
    "                                    CountVectorizer(\n",
    "                                        analyzer=u\"char\", ngram_range=(1, 8)\n",
    "                                    ),\n",
    "                                ),\n",
    "                                (\n",
    "                                    \"tsvd2\",\n",
    "                                    TruncatedSVD(\n",
    "                                        n_components=25, n_iter=25, random_state=12\n",
    "                                    ),\n",
    "                                ),\n",
    "                            ]\n",
    "                        ),\n",
    "                    ),\n",
    "                    (\n",
    "                        \"pi3\",\n",
    "                        Pipeline(\n",
    "                            [\n",
    "                                (\"Text\", cust_txt_col(\"Text\")),\n",
    "                                (\n",
    "                                    \"tfidf_Text\",\n",
    "                                    TfidfVectorizer(\n",
    "                                        preprocessor=my_preprocessor,\n",
    "                                        tokenizer=tokenizeratleastthree,\n",
    "                                        ngram_range=(1, 3),\n",
    "                                        stop_words=stopWords,\n",
    "                                        min_df=1,\n",
    "                                    ),\n",
    "                                ),\n",
    "                                (\n",
    "                                    \"tsvd3\",\n",
    "                                    TruncatedSVD(\n",
    "                                        n_components=50, n_iter=50, random_state=12\n",
    "                                    ),\n",
    "                                ),\n",
    "                            ]\n",
    "                        ),\n",
    "                    ),\n",
    "                ],\n",
    "            ),\n",
    "        )\n",
    "    ]\n",
    ")"
   ]
  },
  {
   "cell_type": "code",
   "execution_count": 23,
   "metadata": {
    "ExecuteTime": {
     "end_time": "2020-10-29T18:39:55.969219Z",
     "start_time": "2020-10-29T18:38:56.073367Z"
    }
   },
   "outputs": [
    {
     "name": "stdout",
     "output_type": "stream",
     "text": [
      "0          Truncating Mutations\n",
      "1                         W802*\n",
      "2                         Q249E\n",
      "3                         N454D\n",
      "4                         L399V\n",
      "5                         V391I\n",
      "6                         V430M\n",
      "7                      Deletion\n",
      "8                         Y371H\n",
      "9                         C384R\n",
      "10                        P395A\n",
      "11                        K382E\n",
      "12                        R420Q\n",
      "13                        C381A\n",
      "14                        P428L\n",
      "15                        D390Y\n",
      "16         Truncating Mutations\n",
      "17                        Q367P\n",
      "18                        M374V\n",
      "19                        Y371S\n",
      "20                         H94Y\n",
      "21                        C396R\n",
      "22                        G375P\n",
      "23                        S376F\n",
      "24                        P417A\n",
      "25                        H398Y\n",
      "26                          S2G\n",
      "27                        Y846C\n",
      "28                        C228T\n",
      "29                        H412Y\n",
      "30                        H876Q\n",
      "31           Promoter Mutations\n",
      "32                        P704S\n",
      "33                Amplification\n",
      "34                        C250T\n",
      "35                       G1809R\n",
      "36                       G1809K\n",
      "37                       D1709E\n",
      "38                       D1709A\n",
      "39                       E1705A\n",
      "40                       D1810A\n",
      "41         Truncating Mutations\n",
      "42                       E1705K\n",
      "43                     Deletion\n",
      "44                       T1365M\n",
      "45                        V648G\n",
      "46                        T844M\n",
      "47                        A707T\n",
      "48    Promoter Hypermethylation\n",
      "49                       R1343L\n",
      "Name: Variation, dtype: object\n",
      "0     Cyclin-dependent kinases (CDKs) regulate a var...\n",
      "1      Abstract Background  Non-small cell lung canc...\n",
      "2      Abstract Background  Non-small cell lung canc...\n",
      "3     Recent evidence has demonstrated that acquired...\n",
      "4     Oncogenic mutations in the monomeric Casitas B...\n",
      "5     Oncogenic mutations in the monomeric Casitas B...\n",
      "6     Oncogenic mutations in the monomeric Casitas B...\n",
      "7     CBL is a negative regulator of activated recep...\n",
      "8      Abstract Juvenile myelomonocytic leukemia (JM...\n",
      "9      Abstract Juvenile myelomonocytic leukemia (JM...\n",
      "10    Oncogenic mutations in the monomeric Casitas B...\n",
      "11    Noonan syndrome is an autosomal dominant conge...\n",
      "12    Noonan syndrome is an autosomal dominant conge...\n",
      "13    Noonan syndrome is an autosomal dominant conge...\n",
      "14    Oncogenic mutations in the monomeric Casitas B...\n",
      "15    Noonan syndrome is an autosomal dominant conge...\n",
      "16    To determine if residual cylindrical refractiv...\n",
      "17    Acquired uniparental disomy (aUPD) is a common...\n",
      "18    Oncogenic mutations in the monomeric Casitas B...\n",
      "19    Acquired uniparental disomy (aUPD) is a common...\n",
      "20     Abstract Background  Non-small cell lung canc...\n",
      "21    Oncogenic mutations in the monomeric Casitas B...\n",
      "22    Oncogenic mutations in the monomeric Casitas B...\n",
      "23    Recent evidence has demonstrated that acquired...\n",
      "24    Recent evidence has demonstrated that acquired...\n",
      "25    Recent evidence has demonstrated that acquired...\n",
      "26     Abstract N-myristoylation is a common form of...\n",
      "27    Heterozygous mutations in the telomerase compo...\n",
      "28    Sequencing studies have identified many recurr...\n",
      "29    Heterozygous mutations in the telomerase compo...\n",
      "30    Heterozygous mutations in the telomerase compo...\n",
      "31    Sequencing studies have identified many recurr...\n",
      "32    Heterozygous mutations in the telomerase compo...\n",
      "33    The current World Health Organization classifi...\n",
      "34    Sequencing studies have identified many recurr...\n",
      "35     Abstract  DICER1 plays a critical role in mic...\n",
      "36     Abstract  DICER1 plays a critical role in mic...\n",
      "37    Sex cord–stromal tumors and germ-cell tumors a...\n",
      "38    Sex cord–stromal tumors and germ-cell tumors a...\n",
      "39    Human Dicer contains two RNase III domains (RN...\n",
      "40    Human Dicer contains two RNase III domains (RN...\n",
      "41    Mesenchymal cell populations contribute to mic...\n",
      "42    Sex cord–stromal tumors and germ-cell tumors a...\n",
      "43    Mesenchymal cell populations contribute to mic...\n",
      "44    Tyrosine phosphorylation, regulated by protein...\n",
      "45    The receptor protein tyrosine phosphatase T (P...\n",
      "46    Introduction  Preceding hematologic disorders ...\n",
      "47    The receptor protein tyrosine phosphatase T (P...\n",
      "48    Metastasis is the leading cause of death for g...\n",
      "49    Tyrosine phosphorylation, regulated by protein...\n",
      "Name: Text, dtype: object\n"
     ]
    },
    {
     "ename": "ValueError",
     "evalue": "all the input array dimensions for the concatenation axis must match exactly, but along dimension 0, the array at index 0 has size 50 and the array at index 1 has size 5",
     "output_type": "error",
     "traceback": [
      "\u001b[0;31m---------------------------------------------------------------------------\u001b[0m",
      "\u001b[0;31mValueError\u001b[0m                                Traceback (most recent call last)",
      "\u001b[0;32m<timed exec>\u001b[0m in \u001b[0;36m<module>\u001b[0;34m\u001b[0m\n",
      "\u001b[0;32m/opt/conda/lib/python3.7/site-packages/sklearn/pipeline.py\u001b[0m in \u001b[0;36mfit_transform\u001b[0;34m(self, X, y, **fit_params)\u001b[0m\n\u001b[1;32m    389\u001b[0m                 \u001b[0;32mreturn\u001b[0m \u001b[0mXt\u001b[0m\u001b[0;34m\u001b[0m\u001b[0;34m\u001b[0m\u001b[0m\n\u001b[1;32m    390\u001b[0m             \u001b[0;32mif\u001b[0m \u001b[0mhasattr\u001b[0m\u001b[0;34m(\u001b[0m\u001b[0mlast_step\u001b[0m\u001b[0;34m,\u001b[0m \u001b[0;34m'fit_transform'\u001b[0m\u001b[0;34m)\u001b[0m\u001b[0;34m:\u001b[0m\u001b[0;34m\u001b[0m\u001b[0;34m\u001b[0m\u001b[0m\n\u001b[0;32m--> 391\u001b[0;31m                 \u001b[0;32mreturn\u001b[0m \u001b[0mlast_step\u001b[0m\u001b[0;34m.\u001b[0m\u001b[0mfit_transform\u001b[0m\u001b[0;34m(\u001b[0m\u001b[0mXt\u001b[0m\u001b[0;34m,\u001b[0m \u001b[0my\u001b[0m\u001b[0;34m,\u001b[0m \u001b[0;34m**\u001b[0m\u001b[0mfit_params\u001b[0m\u001b[0;34m)\u001b[0m\u001b[0;34m\u001b[0m\u001b[0;34m\u001b[0m\u001b[0m\n\u001b[0m\u001b[1;32m    392\u001b[0m             \u001b[0;32melse\u001b[0m\u001b[0;34m:\u001b[0m\u001b[0;34m\u001b[0m\u001b[0;34m\u001b[0m\u001b[0m\n\u001b[1;32m    393\u001b[0m                 \u001b[0;32mreturn\u001b[0m \u001b[0mlast_step\u001b[0m\u001b[0;34m.\u001b[0m\u001b[0mfit\u001b[0m\u001b[0;34m(\u001b[0m\u001b[0mXt\u001b[0m\u001b[0;34m,\u001b[0m \u001b[0my\u001b[0m\u001b[0;34m,\u001b[0m \u001b[0;34m**\u001b[0m\u001b[0mfit_params\u001b[0m\u001b[0;34m)\u001b[0m\u001b[0;34m.\u001b[0m\u001b[0mtransform\u001b[0m\u001b[0;34m(\u001b[0m\u001b[0mXt\u001b[0m\u001b[0;34m)\u001b[0m\u001b[0;34m\u001b[0m\u001b[0;34m\u001b[0m\u001b[0m\n",
      "\u001b[0;32m/opt/conda/lib/python3.7/site-packages/sklearn/pipeline.py\u001b[0m in \u001b[0;36mfit_transform\u001b[0;34m(self, X, y, **fit_params)\u001b[0m\n\u001b[1;32m    945\u001b[0m             \u001b[0mXs\u001b[0m \u001b[0;34m=\u001b[0m \u001b[0msparse\u001b[0m\u001b[0;34m.\u001b[0m\u001b[0mhstack\u001b[0m\u001b[0;34m(\u001b[0m\u001b[0mXs\u001b[0m\u001b[0;34m)\u001b[0m\u001b[0;34m.\u001b[0m\u001b[0mtocsr\u001b[0m\u001b[0;34m(\u001b[0m\u001b[0;34m)\u001b[0m\u001b[0;34m\u001b[0m\u001b[0;34m\u001b[0m\u001b[0m\n\u001b[1;32m    946\u001b[0m         \u001b[0;32melse\u001b[0m\u001b[0;34m:\u001b[0m\u001b[0;34m\u001b[0m\u001b[0;34m\u001b[0m\u001b[0m\n\u001b[0;32m--> 947\u001b[0;31m             \u001b[0mXs\u001b[0m \u001b[0;34m=\u001b[0m \u001b[0mnp\u001b[0m\u001b[0;34m.\u001b[0m\u001b[0mhstack\u001b[0m\u001b[0;34m(\u001b[0m\u001b[0mXs\u001b[0m\u001b[0;34m)\u001b[0m\u001b[0;34m\u001b[0m\u001b[0;34m\u001b[0m\u001b[0m\n\u001b[0m\u001b[1;32m    948\u001b[0m         \u001b[0;32mreturn\u001b[0m \u001b[0mXs\u001b[0m\u001b[0;34m\u001b[0m\u001b[0;34m\u001b[0m\u001b[0m\n\u001b[1;32m    949\u001b[0m \u001b[0;34m\u001b[0m\u001b[0m\n",
      "\u001b[0;32m<__array_function__ internals>\u001b[0m in \u001b[0;36mhstack\u001b[0;34m(*args, **kwargs)\u001b[0m\n",
      "\u001b[0;32m/opt/conda/lib/python3.7/site-packages/numpy/core/shape_base.py\u001b[0m in \u001b[0;36mhstack\u001b[0;34m(tup)\u001b[0m\n\u001b[1;32m    343\u001b[0m         \u001b[0;32mreturn\u001b[0m \u001b[0m_nx\u001b[0m\u001b[0;34m.\u001b[0m\u001b[0mconcatenate\u001b[0m\u001b[0;34m(\u001b[0m\u001b[0marrs\u001b[0m\u001b[0;34m,\u001b[0m \u001b[0;36m0\u001b[0m\u001b[0;34m)\u001b[0m\u001b[0;34m\u001b[0m\u001b[0;34m\u001b[0m\u001b[0m\n\u001b[1;32m    344\u001b[0m     \u001b[0;32melse\u001b[0m\u001b[0;34m:\u001b[0m\u001b[0;34m\u001b[0m\u001b[0;34m\u001b[0m\u001b[0m\n\u001b[0;32m--> 345\u001b[0;31m         \u001b[0;32mreturn\u001b[0m \u001b[0m_nx\u001b[0m\u001b[0;34m.\u001b[0m\u001b[0mconcatenate\u001b[0m\u001b[0;34m(\u001b[0m\u001b[0marrs\u001b[0m\u001b[0;34m,\u001b[0m \u001b[0;36m1\u001b[0m\u001b[0;34m)\u001b[0m\u001b[0;34m\u001b[0m\u001b[0;34m\u001b[0m\u001b[0m\n\u001b[0m\u001b[1;32m    346\u001b[0m \u001b[0;34m\u001b[0m\u001b[0m\n\u001b[1;32m    347\u001b[0m \u001b[0;34m\u001b[0m\u001b[0m\n",
      "\u001b[0;32m<__array_function__ internals>\u001b[0m in \u001b[0;36mconcatenate\u001b[0;34m(*args, **kwargs)\u001b[0m\n",
      "\u001b[0;31mValueError\u001b[0m: all the input array dimensions for the concatenation axis must match exactly, but along dimension 0, the array at index 0 has size 50 and the array at index 1 has size 5"
     ]
    }
   ],
   "source": [
    "%%time\n",
    "train_transformed = combined_features.fit_transform(train[:50])\n",
    "print(train_transformed.shape)"
   ]
  },
  {
   "cell_type": "markdown",
   "metadata": {},
   "source": [
    "## Save Data"
   ]
  },
  {
   "cell_type": "code",
   "execution_count": null,
   "metadata": {},
   "outputs": [],
   "source": []
  }
 ],
 "metadata": {
  "kernelspec": {
   "display_name": "Python 3",
   "language": "python",
   "name": "python3"
  },
  "language_info": {
   "codemirror_mode": {
    "name": "ipython",
    "version": 3
   },
   "file_extension": ".py",
   "mimetype": "text/x-python",
   "name": "python",
   "nbconvert_exporter": "python",
   "pygments_lexer": "ipython3",
   "version": "3.7.6"
  },
  "toc": {
   "base_numbering": 1,
   "nav_menu": {},
   "number_sections": true,
   "sideBar": true,
   "skip_h1_title": true,
   "title_cell": "Table of Contents",
   "title_sidebar": "Contents",
   "toc_cell": false,
   "toc_position": {},
   "toc_section_display": true,
   "toc_window_display": true
  }
 },
 "nbformat": 4,
 "nbformat_minor": 2
}
